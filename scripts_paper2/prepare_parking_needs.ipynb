{
 "cells": [
  {
   "cell_type": "markdown",
   "source": [
    "Prepare a parking needs dataset based on statpop and OSM businesses"
   ],
   "metadata": {
    "collapsed": false
   },
   "id": "73a8b3dbda98ccf9"
  },
  {
   "cell_type": "code",
   "execution_count": null,
   "id": "initial_id",
   "metadata": {
    "collapsed": true
   },
   "outputs": [],
   "source": [
    "import warnings\n",
    "warnings.filterwarnings('ignore')\n",
    "\n",
    "import geopandas as gpd\n",
    "import shutil\n",
    "import os\n",
    "\n",
    "# Makes a local copy of current snman code\n",
    "source_dir = os.path.join('C:',os.sep,'Users','lballo','polybox','GIT','github','snman','snman')\n",
    "destination_dir = os.path.join('..','snman')\n",
    "shutil.copytree(source_dir, destination_dir, dirs_exist_ok=True)\n",
    "\n",
    "import snman\n",
    "from snman.constants import *\n",
    "from snman import *\n",
    "\n",
    "PERIMETER = '_debug'\n",
    "\n",
    "data_directory = os.path.join('C:',os.sep,'Users','lballo','polybox','Research','SNMan','SNMan Shared','data_v2')\n",
    "inputs_path = os.path.join(data_directory, 'inputs')\n",
    "process_path = os.path.join(data_directory, 'process', PERIMETER)"
   ]
  },
  {
   "cell_type": "code",
   "outputs": [],
   "source": [
    "statpop = snman.io.import_geofile_to_gdf(\n",
    "    os.path.join(inputs_path, 'switzerland', 'zurich', 'statpop', 'statpop17_zurich_city.gpkg')\n",
    ")"
   ],
   "metadata": {
    "collapsed": false
   },
   "id": "f7a61fadbf516fc1",
   "execution_count": null
  },
  {
   "cell_type": "code",
   "outputs": [],
   "source": [
    "statpop_buildings = statpop.groupby('federalbuildingid').agg({\n",
    "    'record': 'count',\n",
    "    'geometry': 'first'\n",
    "})\n",
    "statpop_buildings.rename(columns={'record': 'residents'}, inplace=True)"
   ],
   "metadata": {
    "collapsed": false
   },
   "id": "68b83175843c6bf3",
   "execution_count": null
  },
  {
   "cell_type": "code",
   "outputs": [],
   "source": [
    "statpop_buildings = gpd.GeoDataFrame(statpop_buildings, crs=statpop.crs)"
   ],
   "metadata": {
    "collapsed": false
   },
   "id": "1c479ba8fd0edf0f",
   "execution_count": null
  },
  {
   "cell_type": "code",
   "outputs": [],
   "source": [
    "snman.io.export_gdf(\n",
    "    statpop_buildings, \n",
    "    os.path.join(inputs_path, 'switzerland', 'zurich', 'statpop', 'statpop17_zurich_city_agg_on_buildings.gpkg')\n",
    ")"
   ],
   "metadata": {
    "collapsed": false
   },
   "id": "81a105352b1505ca",
   "execution_count": null
  }
 ],
 "metadata": {
  "kernelspec": {
   "display_name": "Python 3",
   "language": "python",
   "name": "python3"
  },
  "language_info": {
   "codemirror_mode": {
    "name": "ipython",
    "version": 2
   },
   "file_extension": ".py",
   "mimetype": "text/x-python",
   "name": "python",
   "nbconvert_exporter": "python",
   "pygments_lexer": "ipython2",
   "version": "2.7.6"
  }
 },
 "nbformat": 4,
 "nbformat_minor": 5
}
