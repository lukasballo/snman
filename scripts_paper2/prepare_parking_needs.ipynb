{
 "cells": [
  {
   "cell_type": "markdown",
   "source": [
    "Prepare a parking needs dataset based on statpop and OSM businesses"
   ],
   "metadata": {
    "collapsed": false
   },
   "id": "73a8b3dbda98ccf9"
  },
  {
   "cell_type": "code",
   "id": "initial_id",
   "metadata": {
    "collapsed": true
   },
   "source": [
    "import warnings\n",
    "warnings.filterwarnings('ignore')\n",
    "\n",
    "import geopandas as gpd\n",
    "import shutil\n",
    "import os\n",
    "\n",
    "import snman\n",
    "from snman.constants import *\n",
    "from snman import *\n",
    "\n",
    "PERIMETER = '_debug'\n",
    "\n",
    "data_directory = os.path.join('C:',os.sep,'Users','lballo','polybox','Research','SNMan','SNMan Shared','data_v2')\n",
    "inputs_path = os.path.join(data_directory, 'inputs')\n",
    "process_path = os.path.join(data_directory, 'process', PERIMETER)"
   ],
   "outputs": [],
   "execution_count": null
  },
  {
   "cell_type": "code",
   "source": [
    "statpop = snman.io.import_geofile_to_gdf(\n",
    "    os.path.join(inputs_path, 'switzerland', 'zurich', 'statpop', 'statpop17_zurich_city.gpkg')\n",
    ")"
   ],
   "metadata": {
    "collapsed": false
   },
   "id": "f7a61fadbf516fc1",
   "outputs": [],
   "execution_count": null
  },
  {
   "cell_type": "code",
   "source": [
    "statpop_buildings = statpop.groupby('federalbuildingid').agg({\n",
    "    'record': 'count',\n",
    "    'geometry': 'first'\n",
    "})\n",
    "statpop_buildings.rename(columns={'record': 'residents'}, inplace=True)"
   ],
   "metadata": {
    "collapsed": false
   },
   "id": "68b83175843c6bf3",
   "outputs": [],
   "execution_count": null
  },
  {
   "cell_type": "code",
   "source": [
    "statpop_buildings = gpd.GeoDataFrame(statpop_buildings, crs=statpop.crs)"
   ],
   "metadata": {
    "collapsed": false
   },
   "id": "1c479ba8fd0edf0f",
   "outputs": [],
   "execution_count": null
  },
  {
   "cell_type": "code",
   "source": [
    "snman.io.export_gdf(\n",
    "    statpop_buildings, \n",
    "    os.path.join(inputs_path, 'switzerland', 'zurich', 'statpop', 'statpop17_zurich_city_agg_on_buildings.gpkg')\n",
    ")"
   ],
   "metadata": {
    "collapsed": false
   },
   "id": "81a105352b1505ca",
   "outputs": [],
   "execution_count": null
  }
 ],
 "metadata": {
  "kernelspec": {
   "display_name": "Python 3",
   "language": "python",
   "name": "python3"
  },
  "language_info": {
   "codemirror_mode": {
    "name": "ipython",
    "version": 2
   },
   "file_extension": ".py",
   "mimetype": "text/x-python",
   "name": "python",
   "nbconvert_exporter": "python",
   "pygments_lexer": "ipython2",
   "version": "2.7.6"
  }
 },
 "nbformat": 4,
 "nbformat_minor": 5
}
