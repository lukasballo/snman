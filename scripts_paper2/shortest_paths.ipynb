{
 "cells": [
  {
   "cell_type": "code",
   "id": "initial_id",
   "metadata": {
    "collapsed": true
   },
   "source": [
    "import warnings\n",
    "warnings.filterwarnings('ignore')\n",
    "\n",
    "import copy\n",
    "import os\n",
    "import sys\n",
    "import networkx as nx\n",
    "import numpy as np\n",
    "import shutil\n",
    "\n",
    "import snman\n",
    "from snman.constants import *\n",
    "from snman import osmnx_customized as oxc\n",
    "from snman import *\n",
    "\n",
    "#PERIMETER = '_paper2_example'\n",
    "PERIMETER = '_debug'\n",
    "#PERIMETER = 'zrh_north-west'\n",
    "\n",
    "data_directory = os.path.join('C:',os.sep,'Users','lballo','polybox','Research','SNMan','SNMan Shared','data_v2')\n",
    "inputs_path = os.path.join(data_directory, 'inputs')\n",
    "process_path = os.path.join(data_directory, 'process', PERIMETER)\n",
    "outputs_path = os.path.join(data_directory, 'outputs', PERIMETER)\n",
    "\n",
    "CRS_internal = 2056      # for Zurich"
   ],
   "outputs": [],
   "execution_count": null
  },
  {
   "cell_type": "markdown",
   "source": [
    "Loading data\n",
    "------------\n",
    "Loads the prepared simplified street graph, as well as other datasets such as perimeters, rebuilding regions and measurement regions"
   ],
   "metadata": {
    "collapsed": false
   },
   "id": "e6d5b59f987a85a5"
  },
  {
   "cell_type": "code",
   "source": [
    "print('Load street graph')\n",
    "G = snman.io.load_street_graph(\n",
    "    os.path.join(outputs_path, 'G_edges.gpkg'),\n",
    "    os.path.join(outputs_path, 'G_nodes.gpkg'),\n",
    "    crs=CRS_internal\n",
    ")\n",
    "\n",
    "street_graph.organize_edge_directions(G)"
   ],
   "metadata": {
    "collapsed": false
   },
   "id": "ebbf3e1739967fe5",
   "outputs": [],
   "execution_count": null
  },
  {
   "cell_type": "code",
   "source": [
    "from snman import *\n",
    "import networkx as nx\n",
    "\n",
    "#weight = 'cost_private_cars'\n",
    "weight = 'cost_cycling'\n",
    "\n",
    "#H = snman.street_graph.filter_by_hierarchy(G, {snman.hierarchy.MAIN_ROAD})\n",
    "\n",
    "lanes_keys = [KEY_LANES_DESCRIPTION, KEY_LANES_DESCRIPTION_AFTER]\n",
    "\n",
    "Ls = {lanes_key: lane_graph.create_lane_graph(G, lanes_attribute=lanes_key) for lanes_key in lanes_keys}"
   ],
   "metadata": {
    "collapsed": false
   },
   "id": "73d24836907ddffe",
   "outputs": [],
   "execution_count": null
  },
  {
   "cell_type": "code",
   "source": [
    "origin, destination = (17582, 23682)\n",
    "\n",
    "for lanes_key in lanes_keys:\n",
    "\n",
    "    print(lanes_key)\n",
    "    \n",
    "    L = Ls[lanes_key]\n",
    "    route = nx.shortest_path(L, origin, destination, weight=weight)\n",
    "    \n",
    "    uvk_and_order = {}\n",
    "    for u, v in zip(route[:-1], route[1:]):\n",
    "        k, data = min(L.get_edge_data(u, v).items(), key=lambda e: e[1][weight] + (e[1]['lane'].lanetype == LANETYPE_MOTORIZED))\n",
    "        uvk_and_order[(u,v,k)] = len(uvk_and_order)\n",
    "        \n",
    "    M = L.edge_subgraph(uvk_and_order.keys())\n",
    "    nx.set_edge_attributes(M, uvk_and_order, 'order_in_path')\n",
    "    M = lane_graph.LaneGraph(M)\n",
    "    \n",
    "    edges = oxc.graph_to_gdfs(M, nodes=False)\n",
    "    print(edges.groupby('lanetype').agg({weight: 'sum', 'length': 'sum'}))\n",
    "    print(edges.agg({weight: 'sum', 'length': 'sum'}))\n",
    "    \n",
    "    snman.io.export_lane_geometries(\n",
    "        M,\n",
    "        os.path.join(outputs_path, f'path_{lanes_key}_edges.gpkg'),\n",
    "        os.path.join(outputs_path, f'path_{lanes_key}_nodes.gpkg'),\n",
    "        scaling=30\n",
    "    )"
   ],
   "metadata": {
    "collapsed": false
   },
   "id": "f7682aa4f8464a5e",
   "outputs": [],
   "execution_count": null
  },
  {
   "cell_type": "code",
   "source": [
    "if 0:\n",
    "    print('export L after')\n",
    "    L = snman.lane_graph.create_lane_graph(G, lanes_attribute=KEY_LANES_DESCRIPTION_AFTER)\n",
    "    snman.io.export_lane_geometries(\n",
    "        L,\n",
    "        os.path.join(outputs_path, 'lane_geometries_rebuilt_edges.gpkg'),\n",
    "        os.path.join(outputs_path, 'lane_geometries_rebuilt_nodes.gpkg')\n",
    "    )"
   ],
   "metadata": {
    "collapsed": false
   },
   "id": "fe85706549d506f",
   "outputs": [],
   "execution_count": null
  }
 ],
 "metadata": {
  "kernelspec": {
   "display_name": "Python 3",
   "language": "python",
   "name": "python3"
  },
  "language_info": {
   "codemirror_mode": {
    "name": "ipython",
    "version": 2
   },
   "file_extension": ".py",
   "mimetype": "text/x-python",
   "name": "python",
   "nbconvert_exporter": "python",
   "pygments_lexer": "ipython2",
   "version": "2.7.6"
  }
 },
 "nbformat": 4,
 "nbformat_minor": 5
}
