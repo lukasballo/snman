{
 "cells": [
  {
   "cell_type": "code",
   "execution_count": 1,
   "id": "initial_id",
   "metadata": {
    "collapsed": true,
    "ExecuteTime": {
     "end_time": "2024-05-14T06:34:43.501099300Z",
     "start_time": "2024-05-14T06:34:39.130416900Z"
    }
   },
   "outputs": [],
   "source": [
    "import warnings\n",
    "warnings.filterwarnings('ignore')\n",
    "\n",
    "import copy\n",
    "import os\n",
    "import sys\n",
    "import networkx as nx\n",
    "import numpy as np\n",
    "import shutil\n",
    "\n",
    "# Makes a local copy of current snman code\n",
    "source_dir = os.path.join('C:',os.sep,'Users','lballo','polybox','GIT','github','snman','snman')\n",
    "destination_dir = os.path.join('..','snman')\n",
    "shutil.copytree(source_dir, destination_dir, dirs_exist_ok=True)\n",
    "\n",
    "import snman\n",
    "from snman.constants import *\n",
    "from snman import osmnx_customized as oxc\n",
    "from snman import *\n",
    "\n",
    "#PERIMETER = '_paper2_example'\n",
    "PERIMETER = '_debug'\n",
    "#PERIMETER = 'zrh_north-west'\n",
    "\n",
    "data_directory = os.path.join('C:',os.sep,'Users','lballo','polybox','Research','SNMan','SNMan Shared','data_v2')\n",
    "inputs_path = os.path.join(data_directory, 'inputs')\n",
    "process_path = os.path.join(data_directory, 'process', PERIMETER)\n",
    "outputs_path = os.path.join(data_directory, 'outputs', PERIMETER)\n",
    "\n",
    "CRS_internal = 2056      # for Zurich"
   ]
  },
  {
   "cell_type": "markdown",
   "source": [
    "Loading data\n",
    "------------\n",
    "Loads the prepared simplified street graph, as well as other datasets such as perimeters, rebuilding regions and measurement regions"
   ],
   "metadata": {
    "collapsed": false
   },
   "id": "e6d5b59f987a85a5"
  },
  {
   "cell_type": "code",
   "outputs": [
    {
     "name": "stdout",
     "output_type": "stream",
     "text": [
      "Load street graph\n"
     ]
    }
   ],
   "source": [
    "print('Load street graph')\n",
    "G = snman.io.load_street_graph(\n",
    "    os.path.join(outputs_path, 'G_edges.gpkg'),\n",
    "    os.path.join(outputs_path, 'G_nodes.gpkg'),\n",
    "    crs=CRS_internal\n",
    ")\n",
    "\n",
    "street_graph.organize_edge_directions(G)"
   ],
   "metadata": {
    "collapsed": false,
    "ExecuteTime": {
     "end_time": "2024-05-14T06:38:19.874104700Z",
     "start_time": "2024-05-14T06:34:43.504099900Z"
    }
   },
   "id": "ebbf3e1739967fe5",
   "execution_count": 2
  },
  {
   "cell_type": "code",
   "outputs": [
    {
     "name": "stdout",
     "output_type": "stream",
     "text": [
      "ln_desc\n",
      "          cost_private_cars       length\n",
      "lanetype                                \n",
      "M               6671.538296  6671.538296\n",
      "cost_private_cars    6671.538296\n",
      "length               6671.538296\n",
      "dtype: float64\n",
      "ln_desc_after\n",
      "          cost_private_cars        length\n",
      "lanetype                                 \n",
      "M              10502.555262  10502.555262\n",
      "cost_private_cars    10502.555262\n",
      "length               10502.555262\n",
      "dtype: float64\n"
     ]
    }
   ],
   "source": [
    "from snman import *\n",
    "import networkx as nx\n",
    "\n",
    "weight = 'cost_private_cars'\n",
    "#origin, destination = (1468, 11772)\n",
    "#origin, destination = (3629, 10509)\n",
    "origin, destination = (3509, 3513)\n",
    "\n",
    "H = snman.street_graph.filter_by_hierarchy(G, {snman.hierarchy.MAIN_ROAD})\n",
    "\n",
    "for lanes_key in [KEY_LANES_DESCRIPTION, KEY_LANES_DESCRIPTION_AFTER]:\n",
    "\n",
    "    print(lanes_key)\n",
    "    L = lane_graph.create_lane_graph(H, lanes_attribute=lanes_key)\n",
    "    route = nx.shortest_path(L, origin, destination, weight=weight)\n",
    "    \n",
    "    uvk_and_order = {}\n",
    "    for u, v in zip(route[:-1], route[1:]):\n",
    "        k, data = min(L.get_edge_data(u, v).items(), key=lambda e: e[1][weight] + (e[1]['lane'].lanetype == LANETYPE_MOTORIZED))\n",
    "        uvk_and_order[(u,v,k)] = len(uvk_and_order)\n",
    "        \n",
    "    M = L.edge_subgraph(uvk_and_order.keys())\n",
    "    nx.set_edge_attributes(M, uvk_and_order, 'order_in_path')\n",
    "    M = lane_graph.LaneGraph(M)\n",
    "    \n",
    "    edges = oxc.graph_to_gdfs(M, nodes=False)\n",
    "    print(edges.groupby('lanetype').agg({weight: 'sum', 'length': 'sum'}))\n",
    "    print(edges.agg({weight: 'sum', 'length': 'sum'}))\n",
    "    \n",
    "    snman.io.export_lane_geometries(\n",
    "        M,\n",
    "        os.path.join(outputs_path, f'path_{lanes_key}_edges.gpkg'),\n",
    "        os.path.join(outputs_path, f'path_{lanes_key}_nodes.gpkg'),\n",
    "        scaling=30\n",
    "    )\n",
    "    "
   ],
   "metadata": {
    "collapsed": false,
    "ExecuteTime": {
     "end_time": "2024-05-14T07:17:10.159647Z",
     "start_time": "2024-05-14T07:16:50.404428300Z"
    }
   },
   "id": "f7682aa4f8464a5e",
   "execution_count": 3
  },
  {
   "cell_type": "code",
   "outputs": [],
   "source": [
    "if 0:\n",
    "    print('export L after')\n",
    "    L = snman.lane_graph.create_lane_graph(G, lanes_attribute=KEY_LANES_DESCRIPTION_AFTER)\n",
    "    snman.io.export_lane_geometries(\n",
    "        L,\n",
    "        os.path.join(outputs_path, 'lane_geometries_rebuilt_edges.gpkg'),\n",
    "        os.path.join(outputs_path, 'lane_geometries_rebuilt_nodes.gpkg')\n",
    "    )"
   ],
   "metadata": {
    "collapsed": false,
    "ExecuteTime": {
     "end_time": "2024-05-08T20:32:38.174480100Z",
     "start_time": "2024-05-08T20:32:38.171249400Z"
    }
   },
   "id": "fe85706549d506f",
   "execution_count": null
  }
 ],
 "metadata": {
  "kernelspec": {
   "display_name": "Python 3",
   "language": "python",
   "name": "python3"
  },
  "language_info": {
   "codemirror_mode": {
    "name": "ipython",
    "version": 2
   },
   "file_extension": ".py",
   "mimetype": "text/x-python",
   "name": "python",
   "nbconvert_exporter": "python",
   "pygments_lexer": "ipython2",
   "version": "2.7.6"
  }
 },
 "nbformat": 4,
 "nbformat_minor": 5
}
