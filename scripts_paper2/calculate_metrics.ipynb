{
 "cells": [
  {
   "cell_type": "markdown",
   "source": [
    "Calculate Metrics\n",
    "=================\n",
    "Calculates a number of metrics for an already existing street graph with lanes before and after\n",
    "\n",
    "Prerequisites: Prepare the street graph and rebuild it"
   ],
   "metadata": {
    "collapsed": false
   }
  },
  {
   "cell_type": "code",
   "execution_count": null,
   "outputs": [],
   "source": [
    "import os, shutil\n",
    "\n",
    "import snman\n",
    "from snman.constants import *\n",
    "\n",
    "PERIMETER = '_debug'\n",
    "\n",
    "# Set these paths according to your own setup\n",
    "data_directory = 'C:/Users/lballo/polybox/Research/SNMan/SNMan Shared/data_v2/'\n",
    "inputs_path = data_directory + 'inputs/'\n",
    "outputs_path = data_directory + 'outputs/' + PERIMETER + '/'\n",
    "metrics_path = data_directory + 'metrics/' + PERIMETER + '/'"
   ],
   "metadata": {
    "collapsed": false
   }
  },
  {
   "cell_type": "markdown",
   "source": [
    "Loading data\n",
    "------------\n",
    "Loads the street graph and measurement regions"
   ],
   "metadata": {
    "collapsed": false
   }
  },
  {
   "cell_type": "code",
   "outputs": [],
   "source": [
    "print('Load measurement regions')\n",
    "measurement_regions_gdf = snman.io.load_measurement_regions(inputs_path + 'measurement_regions/measurement_regions.gpkg',)\n",
    "measurement_region = measurement_regions_gdf.iloc[0]"
   ],
   "metadata": {
    "collapsed": false
   },
   "execution_count": null
  },
  {
   "cell_type": "code",
   "execution_count": null,
   "outputs": [],
   "source": [
    "print('Load street graph')\n",
    "G = snman.io.load_street_graph(outputs_path + 'G_edges.gpkg', outputs_path + 'G_nodes.gpkg')"
   ],
   "metadata": {
    "collapsed": false
   }
  },
  {
   "cell_type": "code",
   "execution_count": null,
   "outputs": [],
   "source": [
    "# filter out the highways\n",
    "#G_filtered = snman.street_graph.filter_by_hierarchy(G, snman.hierarchy.HIERARCHIES.difference(snman.hierarchy.HIGHWAY))"
   ],
   "metadata": {
    "collapsed": false
   }
  },
  {
   "cell_type": "markdown",
   "source": [
    "Calculating metrics\n",
    "-------------------\n",
    "This step will calculate a series of network metrics for lane graphs of different modes before and after rebuilding.\n",
    "Please note that all calculations only work with strongly connected graphs. Therefore, all lane graphs will be automatically clipped only to the largest strongly connected component. Set *plot_scc=True* to show which parts of the graphs are removed (nodes are colored by their strongly connected component). Most likely, there will always be a few nodes that must be removed. But if they are many, then the results will be distorted.\n",
    "\n",
    "For better accuracy, it's recommended that you adjust the perimeter of your network such that there are no nodes outside the largest connected component."
   ],
   "metadata": {
    "collapsed": false
   }
  },
  {
   "cell_type": "code",
   "execution_count": null,
   "outputs": [],
   "source": [
    "# calculate the metrics\n",
    "metrics = snman.stats.network_metrics_for_all_measurement_regions(G, measurement_regions_gdf, plot_scc=True)"
   ],
   "metadata": {
    "collapsed": false
   }
  },
  {
   "cell_type": "markdown",
   "source": [
    "Viewing the metrics\n",
    "-------------------\n",
    "The metrics are saved as a dict of DataFrames, one for each measurement region.\n",
    "See the docustring of snman.lane_graph.calculate_stats for an explanation of the measures."
   ],
   "metadata": {
    "collapsed": false
   }
  },
  {
   "cell_type": "code",
   "outputs": [],
   "source": [
    "#metrics['paper2_example'].to_excel(metrics_path + 'metrics.xlsx', index=True)"
   ],
   "metadata": {
    "collapsed": false
   },
   "execution_count": null
  },
  {
   "cell_type": "code",
   "execution_count": null,
   "outputs": [],
   "source": [
    "metrics['zurich_city'].to_excel(metrics_path + 'metrics_zurich_city.xlsx', index=True)"
   ],
   "metadata": {
    "collapsed": false
   }
  },
  {
   "cell_type": "markdown",
   "source": [
    "Area statistics by lane type"
   ],
   "metadata": {
    "collapsed": false
   }
  },
  {
   "cell_type": "code",
   "outputs": [],
   "source": [
    "# Clip the street graph to the measurement region\n",
    "H = snman.oxc.truncate.truncate_graph_polygon(\n",
    "    G,\n",
    "    measurement_region.geometry,\n",
    "    quadrat_width=100, retain_all=True\n",
    ")"
   ],
   "metadata": {
    "collapsed": false
   },
   "execution_count": null
  },
  {
   "cell_type": "code",
   "outputs": [],
   "source": [
    "import pandas as pd\n",
    "\n",
    "def calculate_area_stats(G, lane_key):\n",
    "    \n",
    "    # Convert to lane graph\n",
    "    L = snman.lane_graph.create_lane_graph(G, lanes_attribute=lane_key)\n",
    "    #L = snman.graph.keep_only_the_largest_connected_component(L)\n",
    "    \n",
    "    # Convert the lane graph to GeoDataFrame and aggregate\n",
    "    l = snman.oxc.graph_to_gdfs(L, nodes=False)\n",
    "    l['area'] = l.apply(lambda row: row['length'] * row['lane'].width if row['instance'] == 1 else 0, axis=1)\n",
    "    l['lanetype'] = l.apply(lambda row: row['lane'].lanetype, axis=1)\n",
    "    \n",
    "    aggregated = l.groupby('lanetype').agg({'area': 'sum'}) / 1000**2\n",
    "    aggregated.rename(columns={'area': f'area_{lane_key}'}, inplace=True)\n",
    "    aggregated = pd.DataFrame(aggregated)\n",
    "    return aggregated\n",
    "\n",
    "before = calculate_area_stats(H, KEY_LANES_DESCRIPTION)\n",
    "after = calculate_area_stats(H, KEY_LANES_DESCRIPTION_AFTER)\n",
    "\n",
    "area_stats = pd.merge(before, after, how='outer', left_index=True, right_index=True)\n",
    "\n",
    "area_stats.to_excel(os.path.join(metrics_path, 'area_stats.xlsx'))"
   ],
   "metadata": {
    "collapsed": false
   },
   "execution_count": null
  },
  {
   "cell_type": "code",
   "outputs": [],
   "source": [
    "L = snman.lane_graph.create_lane_graph(G, KEY_LANES_DESCRIPTION)\n",
    "l = snman.oxc.graph_to_gdfs(L, nodes=False)\n",
    "l['area'] = l.apply(lambda row: row['length'] * row['lane'].width if row['instance'] == 1 else 0, axis=1)\n",
    "l['lanetype'] = l.apply(lambda row: row['lane'].lanetype, axis=1)\n",
    "\n",
    "#l.to_excel(os.path.join(metrics_path, 'L_edges.xlsx'))"
   ],
   "metadata": {
    "collapsed": false
   },
   "execution_count": null
  }
 ],
 "metadata": {
  "kernelspec": {
   "display_name": "Python 3",
   "language": "python",
   "name": "python3"
  },
  "language_info": {
   "codemirror_mode": {
    "name": "ipython",
    "version": 2
   },
   "file_extension": ".py",
   "mimetype": "text/x-python",
   "name": "python",
   "nbconvert_exporter": "python",
   "pygments_lexer": "ipython2",
   "version": "2.7.6"
  }
 },
 "nbformat": 4,
 "nbformat_minor": 0
}
