{
 "cells": [
  {
   "cell_type": "markdown",
   "source": [
    "Rebuilding Steps, Example Network, Integrated in SNMan 'Multi' Rebuild\n",
    "====================\n",
    "xxx"
   ],
   "metadata": {
    "collapsed": false
   }
  },
  {
   "cell_type": "code",
   "outputs": [],
   "source": [
    "import warnings\n",
    "warnings.filterwarnings('ignore')\n",
    "\n",
    "import copy\n",
    "import os\n",
    "import sys\n",
    "import networkx as nx\n",
    "import numpy as np\n",
    "import shutil\n",
    "\n",
    "import snman\n",
    "from snman.constants import *\n",
    "from snman import osmnx_customized as oxc\n",
    "from snman import *\n",
    "\n",
    "#PERIMETER = '_paper2_example'\n",
    "PERIMETER = '_troubleshooting'\n",
    "#PERIMETER = 'zrh_north-west'\n",
    "#PERIMETER = 'ebc_zrh_v01_10km'\n",
    "\n",
    "data_directory = os.path.join('C:',os.sep,'Users','lballo','polybox','Research','SNMan','SNMan Shared','data_v2')\n",
    "inputs_path = os.path.join(data_directory, 'inputs')\n",
    "process_path = os.path.join(data_directory, 'process', PERIMETER)\n",
    "export_path = os.path.join(data_directory, 'outputs', PERIMETER)\n",
    "\n",
    "CRS_internal = 2056      # for Zurich"
   ],
   "metadata": {
    "collapsed": false
   },
   "execution_count": null
  },
  {
   "cell_type": "markdown",
   "source": [
    "Loading data\n",
    "------------\n",
    "Loads the prepared simplified street graph, as well as other datasets such as perimeters, rebuilding regions and measurement regions"
   ],
   "metadata": {
    "collapsed": false
   }
  },
  {
   "cell_type": "code",
   "outputs": [],
   "source": [
    "print('Load street graph')\n",
    "G = snman.io.load_street_graph(\n",
    "    os.path.join(export_path, 'G_edges_given.gpkg'),\n",
    "    os.path.join(export_path, 'G_nodes_given.gpkg'),\n",
    "    crs=CRS_internal\n",
    ")\n",
    "\n",
    "street_graph.organize_edge_directions(G)"
   ],
   "metadata": {
    "collapsed": false
   },
   "execution_count": null
  },
  {
   "cell_type": "code",
   "outputs": [],
   "source": [
    "if 1:\n",
    "    \n",
    "    print('Load rebuilding regions')\n",
    "    # Polygons that define which streets will be reorganized\n",
    "    rebuilding_regions_gdf = snman.io.load_rebuilding_regions(\n",
    "        os.path.join(inputs_path, 'rebuilding_regions', 'rebuilding_regions.gpkg'),\n",
    "        #filter_ids=['zrh-6'],\n",
    "        #filter_ids=['zrh-main'],\n",
    "        #filter_ids=['playground-1'],\n",
    "        filter_ids=['zrh-61'],\n",
    "        crs=CRS_internal\n",
    "    )\n",
    "    \n",
    "    print('Load access needs')\n",
    "    access_needs = snman.io.load_access_needs(\n",
    "        os.path.join(inputs_path, 'switzerland', 'zurich', 'statpop', 'statpop17_zurich_city_agg_on_buildings.gpkg'),\n",
    "        CRS_internal\n",
    "    )\n",
    "    \n",
    "    access_needs['parking_spots_needed'] = access_needs['residents'] / 60\n",
    "    \n",
    "    import geopandas as gpd\n",
    "    from snman import *\n",
    "    from snman.rebuilding import *\n",
    "    \n",
    "    HLAs = multi_rebuild_regions(\n",
    "        G, rebuilding_regions_gdf, access_needs,\n",
    "        save_steps_path=os.path.join(export_path, 'steps'),\n",
    "        #source_lanes_attribute=KEY_LANES_DESCRIPTION_AFTER,\n",
    "        #target_lanes_attribute=KEY_LANES_DESCRIPTION_AFTER,\n",
    "        gravity_iterations=3\n",
    "    )\n",
    "    HLAs = list(filter(lambda HLA: HLA is not None, HLAs))"
   ],
   "metadata": {
    "collapsed": false
   },
   "execution_count": null
  },
  {
   "cell_type": "code",
   "outputs": [],
   "source": [
    "L = snman.io.load_lane_graph(\n",
    "    os.path.join(export_path, 'steps', '3_L_edges.gpkg'),\n",
    "    os.path.join(export_path, 'steps', '3_L_nodes.gpkg')\n",
    ")"
   ],
   "metadata": {
    "collapsed": false
   },
   "execution_count": null
  },
  {
   "cell_type": "code",
   "outputs": [],
   "source": [
    "H = copy.deepcopy(G)"
   ],
   "metadata": {
    "collapsed": false
   },
   "execution_count": null
  },
  {
   "cell_type": "code",
   "outputs": [],
   "source": [
    "snman.io.export_HLA(\n",
    "    os.path.join(export_path, 'steps'),\n",
    "    '4',\n",
    "    L=L, H=H\n",
    ")"
   ],
   "metadata": {
    "collapsed": false
   },
   "execution_count": null
  },
  {
   "cell_type": "code",
   "outputs": [],
   "source": [
    "snman.rebuilding._remove_cycling_lanes(L, None, H, 'width', verbose=True)\n",
    "\n",
    "snman.io.export_HLA(\n",
    "    os.path.join(export_path, 'steps'),\n",
    "    '4',\n",
    "    L=L, H=H\n",
    ")"
   ],
   "metadata": {
    "collapsed": false
   },
   "execution_count": null
  },
  {
   "cell_type": "code",
   "outputs": [],
   "source": [
    "snman.rebuilding._remove_car_lanes(L, None, H, 'width', None, mode='highest_bc', stop_at_step=5000, verbose=True)\n",
    "\n",
    "snman.io.export_HLA(\n",
    "    os.path.join(export_path, 'steps'),\n",
    "    '4b',\n",
    "    L=L, H=H\n",
    ")"
   ],
   "metadata": {
    "collapsed": false
   },
   "execution_count": null
  },
  {
   "cell_type": "code",
   "outputs": [],
   "source": [
    "snman.rebuilding.check_if_edge_breaks_transit(H, L, 39641, 28490, '28490-39641-0-0')"
   ],
   "metadata": {
    "collapsed": false
   },
   "execution_count": null
  },
  {
   "cell_type": "code",
   "outputs": [],
   "source": [
    "snman.rebuilding.check_if_edge_breaks_transit(H, L, 28490, 39641, '28490-39641-0-2')"
   ],
   "metadata": {
    "collapsed": false
   },
   "execution_count": null
  },
  {
   "cell_type": "code",
   "outputs": [],
   "source": [
    "snman.rebuilding.check_if_edges_disconnect_graph(\n",
    "    L, [(29276,29277,'29276-29277-0-0')],\n",
    "    'needs_access_by_private_cars'\n",
    ")"
   ],
   "metadata": {
    "collapsed": false
   },
   "execution_count": null
  },
  {
   "cell_type": "code",
   "outputs": [],
   "source": [
    "snman.lane_graph.get_dependent_parking_lanes(L, 25079, 32916, '25079-32916-0-0')"
   ],
   "metadata": {
    "collapsed": false
   },
   "execution_count": null
  },
  {
   "cell_type": "code",
   "outputs": [],
   "source": [
    "snman.lane_graph.get_dependent_parking_lanes(L, 27266, 30527, '27266-30527b-0-0')"
   ],
   "metadata": {
    "collapsed": false
   },
   "execution_count": null
  },
  {
   "cell_type": "code",
   "outputs": [],
   "source": [
    "print('Reorder lanes')\n",
    "snman.space_allocation.reorder_lanes(G, lanes_attribute=KEY_LANES_DESCRIPTION)\n",
    "snman.space_allocation.reorder_lanes(G, lanes_attribute=KEY_LANES_DESCRIPTION_AFTER)\n",
    "\n",
    "print('Normalize cycling infrastructure')\n",
    "snman.space_allocation.normalize_cycling_lanes(G, lanes_key=KEY_LANES_DESCRIPTION)\n",
    "snman.space_allocation.normalize_cycling_lanes(G, lanes_key=KEY_LANES_DESCRIPTION_AFTER)\n",
    "\n",
    "snman.street_graph.organize_edge_directions(G)\n",
    "\n",
    "print('export G')\n",
    "snman.io.export_street_graph(\n",
    "    G,\n",
    "    os.path.join(export_path, 'G_edges.gpkg'),\n",
    "    os.path.join(export_path, 'G_nodes.gpkg')\n",
    ")\n",
    "\n",
    "print('export L after')\n",
    "L = snman.lane_graph.create_lane_graph(G, lanes_attribute=KEY_LANES_DESCRIPTION_AFTER)\n",
    "snman.io.export_lane_geometries(\n",
    "    L,\n",
    "    os.path.join(export_path, 'L_rebuilt_edges.gpkg'),\n",
    "    os.path.join(export_path, 'L_rebuilt_nodes.gpkg')\n",
    ")"
   ],
   "metadata": {
    "collapsed": false
   },
   "execution_count": null
  },
  {
   "cell_type": "code",
   "outputs": [],
   "source": [
    "L = snman.io.load_lane_graph(\n",
    "    os.path.join(export_path, 'steps', '6_L_edges.gpkg'),\n",
    "    os.path.join(export_path, 'steps', '6_L_nodes.gpkg')\n",
    ")"
   ],
   "metadata": {
    "collapsed": false
   },
   "execution_count": null
  },
  {
   "cell_type": "code",
   "outputs": [],
   "source": [
    "H = copy.deepcopy(G)\n",
    "\n",
    "street_graph.lane_graph_to_street_graph(\n",
    "    H, L,\n",
    "    KEY_LANES_DESCRIPTION_AFTER\n",
    ")\n",
    "\n",
    "snman.io.export_HLA(\n",
    "    os.path.join(export_path, 'steps'),\n",
    "    '7',\n",
    "    H=H\n",
    ")"
   ],
   "metadata": {
    "collapsed": false
   },
   "execution_count": null
  },
  {
   "cell_type": "code",
   "outputs": [],
   "source": [
    "l = snman.space_allocation.Lane(LANETYPE_MOTORIZED, DIRECTION_FORWARD)\n",
    "str(l)"
   ],
   "metadata": {
    "collapsed": false
   },
   "execution_count": null
  },
  {
   "cell_type": "code",
   "outputs": [],
   "source": [
    "l.direction = DIRECTION_BOTH\n",
    "str(l)"
   ],
   "metadata": {
    "collapsed": false
   },
   "execution_count": null
  },
  {
   "cell_type": "code",
   "outputs": [],
   "source": [
    "snman.lane_graph.calculate_street_width(L, 4049, 7003, 0)"
   ],
   "metadata": {
    "collapsed": false
   },
   "execution_count": null
  }
 ],
 "metadata": {
  "kernelspec": {
   "display_name": "Python 3",
   "language": "python",
   "name": "python3"
  },
  "language_info": {
   "codemirror_mode": {
    "name": "ipython",
    "version": 2
   },
   "file_extension": ".py",
   "mimetype": "text/x-python",
   "name": "python",
   "nbconvert_exporter": "python",
   "pygments_lexer": "ipython2",
   "version": "2.7.6"
  }
 },
 "nbformat": 4,
 "nbformat_minor": 0
}
