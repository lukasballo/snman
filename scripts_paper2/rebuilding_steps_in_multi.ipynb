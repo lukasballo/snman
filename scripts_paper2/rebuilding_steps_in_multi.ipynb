{
 "cells": [
  {
   "cell_type": "markdown",
   "source": [
    "Rebuilding Steps, Example Network, Integrated in SNMan 'Multi' Rebuild\n",
    "====================\n",
    "xxx"
   ],
   "metadata": {
    "collapsed": false
   }
  },
  {
   "cell_type": "code",
   "outputs": [],
   "source": [
    "import warnings\n",
    "warnings.filterwarnings('ignore')\n",
    "\n",
    "import copy\n",
    "import os\n",
    "import sys\n",
    "import networkx as nx\n",
    "import numpy as np\n",
    "import shutil\n",
    "\n",
    "if 0:\n",
    "    # Makes a local copy of current snman code\n",
    "    source_dir = os.path.join('C:',os.sep,'Users','lballo','polybox','GIT','github','snman','snman')\n",
    "    destination_dir = os.path.join('..','snman')\n",
    "    shutil.copytree(source_dir, destination_dir, dirs_exist_ok=True)\n",
    "\n",
    "import snman\n",
    "from snman.constants import *\n",
    "from snman import osmnx_customized as oxc\n",
    "from snman import *\n",
    "\n",
    "#PERIMETER = '_paper2_example'\n",
    "PERIMETER = '_debug'\n",
    "#PERIMETER = 'zrh_north-west'\n",
    "#PERIMETER = 'ebc_zrh_v01_10km'\n",
    "\n",
    "data_directory = os.path.join('C:',os.sep,'Users','lballo','polybox','Research','SNMan','SNMan Shared','data_v2')\n",
    "inputs_path = os.path.join(data_directory, 'inputs')\n",
    "process_path = os.path.join(data_directory, 'process', PERIMETER)\n",
    "export_path = os.path.join(data_directory, 'outputs', '_debug')\n",
    "\n",
    "CRS_internal = 2056      # for Zurich"
   ],
   "metadata": {
    "collapsed": false,
    "ExecuteTime": {
     "end_time": "2024-05-29T11:38:30.007875Z",
     "start_time": "2024-05-29T11:38:29.961511Z"
    }
   },
   "execution_count": 11
  },
  {
   "cell_type": "markdown",
   "source": [
    "Loading data\n",
    "------------\n",
    "Loads the prepared simplified street graph, as well as other datasets such as perimeters, rebuilding regions and measurement regions"
   ],
   "metadata": {
    "collapsed": false
   }
  },
  {
   "cell_type": "code",
   "outputs": [
    {
     "name": "stdout",
     "output_type": "stream",
     "text": [
      "Load street graph\n"
     ]
    }
   ],
   "source": [
    "print('Load street graph')\n",
    "G = snman.io.load_street_graph(\n",
    "    os.path.join(process_path, 'street_graph_edges.gpkg'),\n",
    "    os.path.join(process_path, 'street_graph_nodes.gpkg'),\n",
    "    crs=CRS_internal\n",
    ")\n",
    "\n",
    "street_graph.organize_edge_directions(G)"
   ],
   "metadata": {
    "collapsed": false,
    "ExecuteTime": {
     "end_time": "2024-05-29T11:38:30.248072Z",
     "start_time": "2024-05-29T11:38:29.978972400Z"
    }
   },
   "execution_count": 12
  },
  {
   "cell_type": "code",
   "outputs": [
    {
     "name": "stdout",
     "output_type": "stream",
     "text": [
      "Load rebuilding regions\n",
      "Load access needs\n"
     ]
    }
   ],
   "source": [
    "print('Load rebuilding regions')\n",
    "# Polygons that define which streets will be reorganized\n",
    "rebuilding_regions_gdf = snman.io.load_rebuilding_regions(\n",
    "    #os.path.join(process_path, 'rebuilding_regions.gpkg'),\n",
    "    os.path.join(inputs_path, 'rebuilding_regions', 'rebuilding_regions.gpkg'),\n",
    "    #only_active=True,\n",
    "    #filter_ids=['zrh-4'],\n",
    "    #filter_ids=['zrh-19'],\n",
    "    #filter_ids=['zrh-main'],\n",
    "    #filter_ids=['playground-1'],\n",
    "    filter_ids=['paper2_example'],\n",
    "    crs=CRS_internal\n",
    ")\n",
    "\n",
    "print('Load access needs')\n",
    "access_needs = snman.io.load_access_needs(\n",
    "    os.path.join(inputs_path, 'switzerland', 'zurich', 'statpop', 'statpop17_zurich_city_agg_on_buildings.gpkg'),\n",
    "    CRS_internal\n",
    ")\n",
    "\n",
    "access_needs['parking_spots_needed'] = access_needs['residents'] / 60"
   ],
   "metadata": {
    "collapsed": false,
    "ExecuteTime": {
     "end_time": "2024-05-29T11:38:34.558985200Z",
     "start_time": "2024-05-29T11:38:30.248072Z"
    }
   },
   "execution_count": 13
  },
  {
   "cell_type": "code",
   "outputs": [
    {
     "name": "stdout",
     "output_type": "stream",
     "text": [
      "truncating street graph\n",
      "done truncating\n",
      "GIVEN LANES\n",
      "REMOVE PARKING\n",
      "iteration 1\n",
      "iteration 2\n",
      "iteration 3\n",
      "iteration 4\n",
      "iteration 5\n",
      "iteration 6\n",
      "iteration 7\n",
      "iteration 8\n",
      "iteration 9\n",
      "iteration 10\n",
      "iteration 11\n",
      "iteration 12\n",
      "iteration 13\n",
      "iteration 14\n",
      "iteration 15\n",
      "REMOVE CAR LANES\n",
      "iteration 1\n",
      "removed (153, 152, '152-153-0-0')\n",
      "iteration 2\n",
      "removed (152, 153, '152-153-0-0')\n",
      "iteration 3\n",
      "removed (143, 301, '143-301-0-0')\n",
      "iteration 4\n",
      "removed (425, 143, '143-425-0-0')\n",
      "iteration 5\n",
      "removed (511, 425, '425-511-0-0')\n",
      "iteration 6\n",
      "removed (301, 143, '143-301-0-0')\n",
      "iteration 7\n",
      "fixed [143, 425, '143-425-0-0-1']\n",
      "iteration 8\n",
      "removed (425, 511, '425-511-0-0')\n",
      "iteration 9\n",
      "removed (154, 346, '154-346-0-0')\n",
      "iteration 10\n",
      "removed (346, 154, '154-346-0-0')\n",
      "iteration 11\n",
      "removed (143, 157, '143-157-0-0')\n",
      "iteration 12\n",
      "removed (157, 425, '157-425-0-2')\n",
      "iteration 13\n",
      "removed (301, 153, '153-301-0-0')\n",
      "iteration 14\n",
      "removed (153, 150, '150-153-0-2')\n",
      "iteration 15\n",
      "removed (154, 152, '152-154-0-0')\n",
      "iteration 16\n",
      "removed (150, 154, '150-154-0-0')\n",
      "iteration 17\n",
      "removed (346, 511, '346-511-0-0')\n",
      "iteration 18\n",
      "removed (157, 346, '157-346-0-0')\n",
      "iteration 19\n",
      "removed (152, 154, '152-154-0-0')\n",
      "iteration 20\n",
      "removed (150, 157, '150-157-0-2')\n",
      "iteration 21\n",
      "removed (154, 150, '150-154-0-0')\n",
      "iteration 22\n",
      "fixed [157, 143, '143-157-0-0-2']\n",
      "iteration 23\n",
      "removed (153, 301, '153-301-0-0')\n",
      "iteration 24\n",
      "removed (150, 153, '150-153-0-2')\n",
      "iteration 25\n",
      "removed (157, 150, '150-157-0-2')\n",
      "iteration 26\n",
      "fixed [425, 157, '157-425-0-2-2']\n",
      "iteration 27\n",
      "removed (511, 346, '346-511-0-0')\n",
      "iteration 28\n",
      "removed (346, 157, '157-346-0-0')\n",
      "iteration 29\n",
      "REMOVE CYCLING LANES\n",
      "iteration 1\n",
      "removed (425, 157, '157-425-0-4')\n",
      "iteration 2\n",
      "removed (157, 143, '143-157-0-2')\n",
      "iteration 3\n",
      "removed (157, 425, '157-425-0-6')\n",
      "iteration 4\n",
      "removed (143, 157, '143-157-0-4')\n",
      "iteration 5\n",
      "removed (425, 157, '157-425-0-3')\n",
      "iteration 6\n",
      "removed (150, 153, '150-153-0-6')\n",
      "iteration 7\n",
      "removed (425, 143, '143-425-0-2')\n",
      "iteration 8\n",
      "removed (154, 150, '150-154-0-2')\n",
      "iteration 9\n",
      "removed (157, 143, '143-157-0-1')\n",
      "iteration 10\n",
      "removed (511, 346, '346-511-0-2')\n",
      "iteration 11\n",
      "removed (346, 157, '157-346-0-2')\n",
      "iteration 12\n",
      "removed (153, 301, '153-301-0-4')\n",
      "iteration 13\n",
      "MERGE TRANSIT AND CAR LANES\n",
      "iteration 1\n",
      "ADJUST WIDTH OF LANES\n",
      "(143, 157, 0) 0.7000000000000002\n",
      "(143, 301, 0) 1.2999999999999998\n",
      "(143, 301, 0) 1.2999999999999998\n",
      "(143, 301, 0) 1.2999999999999998\n",
      "(143, 301, 0) 1.2999999999999998\n",
      "(143, 425, 0) 0.5999999999999996\n",
      "(143, 425, 0) 0.5999999999999996\n",
      "(143, 425, 0) 0.5999999999999996\n",
      "(150, 153, 0) 0.5999999999999996\n",
      "(150, 153, 0) 0.5999999999999996\n",
      "(150, 153, 0) 0.5999999999999996\n",
      "(150, 154, 0) 0.5999999999999996\n",
      "(150, 154, 0) 0.5999999999999996\n",
      "(150, 154, 0) 0.5999999999999996\n",
      "(150, 157, 0) 1.299999999999999\n",
      "(150, 157, 0) 1.299999999999999\n",
      "(150, 157, 0) 1.299999999999999\n",
      "(150, 157, 0) 1.299999999999999\n",
      "(152, 153, 0) 1.2999999999999998\n",
      "(152, 153, 0) 1.2999999999999998\n",
      "(152, 153, 0) 1.2999999999999998\n",
      "(152, 153, 0) 1.2999999999999998\n",
      "(152, 154, 0) 1.2999999999999998\n",
      "(152, 154, 0) 1.2999999999999998\n",
      "(152, 154, 0) 1.2999999999999998\n",
      "(152, 154, 0) 1.2999999999999998\n",
      "(153, 301, 0) 1.0999999999999996\n",
      "(153, 301, 0) 1.0999999999999996\n",
      "(153, 301, 0) 1.0999999999999996\n",
      "(154, 346, 0) 1.2999999999999998\n",
      "(154, 346, 0) 1.2999999999999998\n",
      "(154, 346, 0) 1.2999999999999998\n",
      "(154, 346, 0) 1.2999999999999998\n",
      "(157, 346, 0) 1.0999999999999996\n",
      "(157, 346, 0) 1.0999999999999996\n",
      "(157, 346, 0) 1.0999999999999996\n",
      "(157, 425, 0) 0.1999999999999993\n",
      "(346, 511, 0) 1.0999999999999996\n",
      "(346, 511, 0) 1.0999999999999996\n",
      "(346, 511, 0) 1.0999999999999996\n",
      "(425, 511, 0) 2.3\n",
      "(425, 511, 0) 2.3\n",
      "(425, 511, 0) 2.3\n",
      "(425, 511, 0) 2.3\n",
      "removed (301, 143, '143-301-0-2')\n",
      "removed (143, 301, '143-301-0-4')\n",
      "removed (143, 425, '143-425-0-4')\n",
      "removed (153, 150, '150-153-0-4')\n",
      "removed (150, 154, '150-154-0-4')\n",
      "removed (157, 150, '150-157-0-4')\n",
      "removed (150, 157, '150-157-0-6')\n",
      "removed (153, 152, '152-153-0-2')\n",
      "removed (152, 153, '152-153-0-4')\n",
      "removed (154, 152, '152-154-0-2')\n",
      "removed (152, 154, '152-154-0-4')\n",
      "removed (301, 153, '153-301-0-2')\n",
      "removed (346, 154, '154-346-0-2')\n",
      "removed (154, 346, '154-346-0-4')\n",
      "removed (157, 346, '157-346-0-4')\n",
      "removed (346, 511, '346-511-0-4')\n",
      "removed (511, 425, '425-511-0-2')\n",
      "removed (425, 511, '425-511-0-4')\n"
     ]
    }
   ],
   "source": [
    "import geopandas as gpd\n",
    "from snman import *\n",
    "from snman.rebuilding import *\n",
    "\n",
    "HLAs = multi_rebuild_regions(\n",
    "    G, rebuilding_regions_gdf, access_needs,\n",
    "    save_steps_path=os.path.join(export_path, 'steps'),\n",
    "    gravity_iterations=10\n",
    ")\n",
    "HLAs = list(filter(lambda HLA: HLA is not None, HLAs))"
   ],
   "metadata": {
    "collapsed": false,
    "ExecuteTime": {
     "end_time": "2024-05-29T11:38:40.360848600Z",
     "start_time": "2024-05-29T11:38:34.564962900Z"
    }
   },
   "execution_count": 14
  },
  {
   "cell_type": "code",
   "outputs": [],
   "source": [
    "import networkx as nx\n",
    "\n",
    "Hs,Ls,As = zip(*HLAs)\n",
    "A = nx.compose_all(As)\n",
    "L = nx.compose_all(Ls)\n",
    "\n",
    "#export_step('_debug', L=L, A=A)"
   ],
   "metadata": {
    "collapsed": false,
    "ExecuteTime": {
     "end_time": "2024-05-29T11:38:40.376794900Z",
     "start_time": "2024-05-29T11:38:40.362841400Z"
    }
   },
   "execution_count": 15
  },
  {
   "cell_type": "code",
   "outputs": [
    {
     "name": "stdout",
     "output_type": "stream",
     "text": [
      "Reorder lanes\n",
      "Normalize cycling infrastructure\n"
     ]
    }
   ],
   "source": [
    "print('Reorder lanes')\n",
    "snman.space_allocation.reorder_lanes(G, lanes_attribute=KEY_LANES_DESCRIPTION)\n",
    "#snman.space_allocation.reorder_lanes(G, lanes_attribute=KEY_LANES_DESCRIPTION_AFTER)\n",
    "\n",
    "print('Normalize cycling infrastructure')\n",
    "snman.space_allocation.normalize_cycling_lanes(G, lanes_key=KEY_LANES_DESCRIPTION)\n",
    "#snman.space_allocation.normalize_cycling_lanes(G, lanes_key=KEY_LANES_DESCRIPTION_AFTER)\n",
    "\n",
    "snman.street_graph.organize_edge_directions(G)"
   ],
   "metadata": {
    "collapsed": false,
    "ExecuteTime": {
     "end_time": "2024-05-29T11:38:40.405698300Z",
     "start_time": "2024-05-29T11:38:40.381779300Z"
    }
   },
   "execution_count": 16
  },
  {
   "cell_type": "code",
   "outputs": [
    {
     "name": "stdout",
     "output_type": "stream",
     "text": [
      "Add elevation\n",
      "                  x             y\n",
      "osmid                            \n",
      "0      2.679349e+06  1.253328e+06\n",
      "1      2.679318e+06  1.253339e+06\n",
      "2      2.681238e+06  1.253939e+06\n",
      "3      2.682650e+06  1.250982e+06\n",
      "4      2.680482e+06  1.251586e+06\n",
      "...             ...           ...\n",
      "767    2.682760e+06  1.250814e+06\n",
      "768    2.682739e+06  1.250846e+06\n",
      "769    2.682727e+06  1.250864e+06\n",
      "770    2.682715e+06  1.250881e+06\n",
      "771    2.683563e+06  1.252448e+06\n",
      "\n",
      "[719 rows x 2 columns]\n"
     ]
    }
   ],
   "source": [
    "print('Add elevation')\n",
    "G = oxc.elevation.add_node_elevations_raster(\n",
    "    G,\n",
    "    os.path.join(inputs_path, 'switzerland', 'switzerland', 'ch_dhm_25', 'ch_dhm_2056.tif'),\n",
    "    raster_crs=2056,\n",
    "    #os.path.join(inputs_path, 'copernicus_dem', 'Copernicus_DSM_10_N41_00_W088_00', 'DEM', 'Copernicus_DSM_10_N41_00_W088_00_DEM.tif'),\n",
    "    #raster_crs=4326, #Chicago\n",
    "    graph_crs=CRS_internal,\n",
    "    cpus=1\n",
    ")\n",
    "G = oxc.elevation.add_edge_grades(G, add_absolute=False)"
   ],
   "metadata": {
    "collapsed": false,
    "ExecuteTime": {
     "end_time": "2024-05-29T11:38:40.487745900Z",
     "start_time": "2024-05-29T11:38:40.397726300Z"
    }
   },
   "execution_count": 17
  },
  {
   "cell_type": "code",
   "outputs": [],
   "source": [
    "if 0:\n",
    "\n",
    "    L = snman.lane_graph.create_lane_graph(G, lanes_attribute=KEY_LANES_DESCRIPTION)\n",
    "    snman.rebuilding._adjust_width_of_lanes(L, None, G, 'width', lanetypes={LANETYPE_CYCLING_LANE})\n",
    "    snman.rebuilding._adjust_width_of_lanes(L, None, G, 'width')\n",
    "    snman.street_graph.lane_graph_to_street_graph(\n",
    "        G, L,\n",
    "        KEY_LANES_DESCRIPTION\n",
    "    )\n",
    "    \n",
    "    L = snman.lane_graph.create_lane_graph(G, lanes_attribute=KEY_LANES_DESCRIPTION_AFTER)\n",
    "    snman.rebuilding._adjust_width_of_lanes(L, None, G, 'width', lanetypes={LANETYPE_CYCLING_LANE})\n",
    "    snman.rebuilding._adjust_width_of_lanes(L, None, G, 'width')\n",
    "    snman.street_graph.lane_graph_to_street_graph(\n",
    "        G, L,\n",
    "        KEY_LANES_DESCRIPTION_AFTER\n",
    "    )"
   ],
   "metadata": {
    "collapsed": false,
    "ExecuteTime": {
     "end_time": "2024-05-29T11:38:40.510678300Z",
     "start_time": "2024-05-29T11:38:40.492728400Z"
    }
   },
   "execution_count": 18
  },
  {
   "cell_type": "code",
   "outputs": [
    {
     "name": "stdout",
     "output_type": "stream",
     "text": [
      "export G\n",
      "export L before\n",
      "export L after\n"
     ]
    }
   ],
   "source": [
    "if 1:\n",
    "    print('export G')\n",
    "    snman.io.export_street_graph(\n",
    "        G,\n",
    "        os.path.join(export_path, 'G_edges.gpkg'),\n",
    "        os.path.join(export_path, 'G_nodes.gpkg')\n",
    "    )\n",
    "\n",
    "if 1:\n",
    "    print('export L before')\n",
    "    L = snman.lane_graph.create_lane_graph(G, lanes_attribute=KEY_LANES_DESCRIPTION)\n",
    "    snman.io.export_lane_geometries(\n",
    "        L,\n",
    "        os.path.join(export_path, 'lane_geometries_edges.gpkg'),\n",
    "        os.path.join(export_path, 'lane_geometries_nodes.gpkg'),\n",
    "        scaling=2\n",
    "    )\n",
    "\n",
    "if 1:\n",
    "    print('export L after')\n",
    "    L = snman.lane_graph.create_lane_graph(G, lanes_attribute=KEY_LANES_DESCRIPTION_AFTER)\n",
    "    snman.io.export_lane_geometries(\n",
    "        L,\n",
    "        os.path.join(export_path, 'lane_geometries_rebuilt_edges.gpkg'),\n",
    "        os.path.join(export_path, 'lane_geometries_rebuilt_nodes.gpkg'),\n",
    "        scaling=2\n",
    "    )"
   ],
   "metadata": {
    "collapsed": false,
    "ExecuteTime": {
     "end_time": "2024-05-29T11:38:41.297089Z",
     "start_time": "2024-05-29T11:38:40.518641500Z"
    }
   },
   "execution_count": 19
  },
  {
   "cell_type": "code",
   "outputs": [],
   "source": [
    "if 0:\n",
    "    print('Load street graph')\n",
    "    G = snman.io.load_street_graph(\n",
    "        os.path.join(export_path, 'G_edges.gpkg'),\n",
    "        os.path.join(export_path, 'G_nodes.gpkg'),\n",
    "        crs=CRS_internal\n",
    "    )\n",
    "    \n",
    "    street_graph.organize_edge_directions(G)"
   ],
   "metadata": {
    "collapsed": false,
    "ExecuteTime": {
     "end_time": "2024-05-29T11:38:41.315032900Z",
     "start_time": "2024-05-29T11:38:41.300079100Z"
    }
   },
   "execution_count": 20
  }
 ],
 "metadata": {
  "kernelspec": {
   "display_name": "Python 3",
   "language": "python",
   "name": "python3"
  },
  "language_info": {
   "codemirror_mode": {
    "name": "ipython",
    "version": 2
   },
   "file_extension": ".py",
   "mimetype": "text/x-python",
   "name": "python",
   "nbconvert_exporter": "python",
   "pygments_lexer": "ipython2",
   "version": "2.7.6"
  }
 },
 "nbformat": 4,
 "nbformat_minor": 0
}
