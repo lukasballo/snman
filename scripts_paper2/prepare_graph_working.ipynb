{
 "cells": [
  {
   "cell_type": "markdown",
   "source": [
    "Preparing Simplified Street Graph\n",
    "==============================\n",
    "Start with this file.\n",
    "\n",
    "It downloads the raw data from OSM and prepares a simplified street graph, consisting of one node for every intersection and one edge for every street segment. This simplified street graph is also referred to as *centerline graph*. The centerline graph also gets enriched with additional data sources such as public transit routes, elevation or traffic volumes. The resulting data is saved in the *process* folder and can be used by other scripts for further work."
   ],
   "metadata": {
    "collapsed": false
   }
  },
  {
   "cell_type": "code",
   "source": [
    "import warnings\n",
    "warnings.filterwarnings('ignore')\n",
    "\n",
    "import os\n",
    "import shutil\n",
    "\n",
    "import snman\n",
    "from snman.constants import *\n",
    "from snman import osmnx_customized as oxc\n",
    "\n",
    "#PERIMETER = 'birchplatz'\n",
    "PERIMETER = 'zrh_north-west'\n",
    "#PERIMETER = 'paper2_example'\n",
    "#PERIMETER = '_accessibility_debug'\n",
    "#PERIMETER = 'ebc_zrh_v01_10km'\n",
    "\n",
    "# Set these paths according to your own setup\n",
    "data_directory = os.path.join('C:',os.sep,'Users','lballo','polybox','Research','SNMan','SNMan Shared','data_v2')\n",
    "inputs_path = os.path.join(data_directory, 'inputs')\n",
    "#process_path = os.path.join(data_directory, 'process', '_debug')\n",
    "#export_path = os.path.join(data_directory, 'outputs', '_debug')\n",
    "process_path = os.path.join(data_directory, 'process', PERIMETER)\n",
    "export_path = os.path.join(data_directory, 'outputs', PERIMETER)\n",
    "\n",
    "#CRS_internal = 29119    # for Boston\n",
    "#CRS_internal = 32216    # for Chicago\n",
    "CRS_internal = 2056      # for Zurich\n",
    "CRS_for_export = 4326\n",
    "oxc.settings.useful_tags_way = OSM_TAGS"
   ],
   "metadata": {
    "collapsed": false,
    "ExecuteTime": {
     "end_time": "2024-07-03T07:32:01.955581Z",
     "start_time": "2024-07-03T07:32:01.939276Z"
    }
   },
   "outputs": [],
   "execution_count": 11
  },
  {
   "cell_type": "markdown",
   "source": [
    "Loading data\n",
    "------------\n",
    "Loads the necessary datasets, including downloading the raw OSM data"
   ],
   "metadata": {
    "collapsed": false
   }
  },
  {
   "cell_type": "code",
   "source": [
    "print('Load perimeters')\n",
    "perimeters = snman.io.load_perimeters(\n",
    "    os.path.join(inputs_path, 'perimeters', 'perimeters.shp'),\n",
    "    crs=CRS_internal\n",
    ")\n",
    "\n",
    "print('Get data from OSM server')\n",
    "G_raw, G = snman.io.create_street_graph_from_OSM(\n",
    "    perimeters.to_crs(4326).loc[PERIMETER]['geometry'],\n",
    "    CRS_internal,\n",
    "    return_raw=True\n",
    ")"
   ],
   "metadata": {
    "collapsed": false,
    "ExecuteTime": {
     "end_time": "2024-07-03T07:32:03.841913Z",
     "start_time": "2024-07-03T07:32:01.957615Z"
    }
   },
   "outputs": [
    {
     "name": "stdout",
     "output_type": "stream",
     "text": [
      "Load perimeters\n",
      "Get data from OSM server\n"
     ]
    }
   ],
   "execution_count": 12
  },
  {
   "cell_type": "code",
   "source": [
    "if 1:\n",
    "    print('Export raw street graph')\n",
    "    # each street is one edge, the lanes are saved as an attribute\n",
    "    snman.io.export_street_graph(\n",
    "        G_raw,\n",
    "        os.path.join(process_path, 'raw_street_graph_edges.gpkg'),\n",
    "        os.path.join(process_path, 'raw_street_graph_nodes.gpkg'),\n",
    "        crs=CRS_for_export\n",
    "    )\n",
    "\n",
    "print('Load manual intersections')\n",
    "# polygons used to override the automatically detected intersections in some situations\n",
    "given_intersections_gdf = snman.io.load_intersections(\n",
    "    os.path.join(inputs_path, 'intersection_polygons/intersection_polygons.gpkg'),\n",
    "    crs=CRS_internal\n",
    ")\n",
    "\n",
    "print('Load public transit routes')\n",
    "pt_routes = snman.io.load_public_transit_routes_zvv(\n",
    "    os.path.join(inputs_path, \"switzerland/zurich/public_transit/ZVV_LINIEN_GEN_L.shp\"),\n",
    "    perimeter=perimeters.loc[PERIMETER]['geometry']\n",
    ")\n",
    "# keep only bus and tram lines (no micro buses and night buses)\n",
    "pt_routes = pt_routes.query(\"TYPE in ['Bus', 'Tram'] and ALIGNMENT != 'tunnel'\")\n",
    "\n",
    "if 1:\n",
    "    print('Load parking spots')\n",
    "    parking_spots = snman.io.load_parking_spots(os.path.join(inputs_path, 'switzerland/zurich/strassenparkplaetze.gpkg'), crs=CRS_internal)\n",
    "\n",
    "if 1:\n",
    "    print('Load street polygons')\n",
    "    street_polygons = snman.io.load_street_polygons_zurich(\n",
    "        os.path.join(inputs_path, 'switzerland', 'zurich', 'av', 'av_ktzh_bodenbedeckung_polygons_2.gpkg'),\n",
    "        crs=CRS_internal\n",
    "    )"
   ],
   "metadata": {
    "collapsed": false,
    "ExecuteTime": {
     "end_time": "2024-07-03T07:32:15.414427Z",
     "start_time": "2024-07-03T07:32:03.843859Z"
    }
   },
   "outputs": [
    {
     "name": "stdout",
     "output_type": "stream",
     "text": [
      "Export raw street graph\n",
      "Load manual intersections\n",
      "Load public transit routes\n",
      "Load parking spots\n",
      "Load street polygons\n"
     ]
    }
   ],
   "execution_count": 13
  },
  {
   "cell_type": "markdown",
   "source": [
    "Enriching the street graph before simplification\n",
    "------------------------------------------------\n",
    "Enrichment steps that need to be done before simplification"
   ],
   "metadata": {
    "collapsed": false
   }
  },
  {
   "cell_type": "code",
   "source": [
    "if 1:\n",
    "    print('Identify hierarchy')\n",
    "    # split the edges into hierarchy categories, such as main roads, local roads, etc.\n",
    "    snman.hierarchy.add_hierarchy(G)\n",
    "    \n",
    "if 1:\n",
    "    print('Add parking spaces')\n",
    "    snman.enrichment.match_parking_spots(G, parking_spots)"
   ],
   "metadata": {
    "collapsed": false,
    "ExecuteTime": {
     "end_time": "2024-07-03T07:32:25.041791Z",
     "start_time": "2024-07-03T07:32:15.414427Z"
    }
   },
   "outputs": [
    {
     "name": "stdout",
     "output_type": "stream",
     "text": [
      "Identify hierarchy\n",
      "Add parking spaces\n"
     ]
    }
   ],
   "execution_count": 14
  },
  {
   "cell_type": "markdown",
   "source": [
    "Simplification\n",
    "--------------\n",
    "Consolidates intersections and merges edges so that we obtain a centerline graph. The process needs to be repeated a few times to catch all secondary simplification possibilities"
   ],
   "metadata": {
    "collapsed": false
   }
  },
  {
   "cell_type": "code",
   "source": [
    "G, intersections_gdf = snman.simplification.simplify_street_graph(\n",
    "    G, given_intersections_gdf,\n",
    "    verbose=True, iterations=3,\n",
    "    edge_geometries_simplification_radius=10,\n",
    "    exclude_edge_hierarchies_from_simplification={snman.hierarchy.HIGHWAY}\n",
    ")"
   ],
   "metadata": {
    "collapsed": false,
    "ExecuteTime": {
     "end_time": "2024-07-03T07:32:59.917726Z",
     "start_time": "2024-07-03T07:32:25.041791Z"
    }
   },
   "outputs": [
    {
     "name": "stdout",
     "output_type": "stream",
     "text": [
      "ITERATION 0\n",
      "ITERATION 1\n",
      "ITERATION 2\n"
     ]
    }
   ],
   "execution_count": 15
  },
  {
   "cell_type": "markdown",
   "source": [
    "Updating pre-calculated attributes\n",
    "----------------------------------\n",
    "Updates the OSM tags and stats like aggregate lane widths to match the simplified graph"
   ],
   "metadata": {
    "collapsed": false
   }
  },
  {
   "cell_type": "code",
   "source": [
    "print('Add lane stats to edges')\n",
    "# how many lanes, how wide, etc.\n",
    "snman.space_allocation.generate_lane_stats(G)\n",
    "\n",
    "print('Update OSM tags')\n",
    "# to match the simplified and merged edges\n",
    "snman.space_allocation.update_osm_tags(G)\n",
    "\n",
    "if 0:\n",
    "    print('Update street counts per node')\n",
    "    spn = oxc.stats.count_streets_per_node(G, nodes=G.nodes)\n",
    "    nx.set_node_attributes(G, values=spn, name=\"street_count\")"
   ],
   "metadata": {
    "collapsed": false,
    "ExecuteTime": {
     "end_time": "2024-07-03T07:32:59.964455Z",
     "start_time": "2024-07-03T07:32:59.917726Z"
    }
   },
   "outputs": [
    {
     "name": "stdout",
     "output_type": "stream",
     "text": [
      "Add lane stats to edges\n",
      "Update OSM tags\n"
     ]
    }
   ],
   "execution_count": 16
  },
  {
   "cell_type": "markdown",
   "source": [
    "Enrichment\n",
    "----------\n",
    "Add additional data to the centerline graph, such as public transit, elevation, and traffic counts"
   ],
   "metadata": {
    "collapsed": false
   }
  },
  {
   "cell_type": "code",
   "source": [
    "if 0:\n",
    "    print('Add street widths by fitting the edges to street polygons')\n",
    "    snman.fitting.fit_edges(G, street_polygons)\n",
    "else:\n",
    "    for uvk, data in G.edges.items():\n",
    "        data['width'] = data[KEY_LANES_DESCRIPTION + '_width_total_m']"
   ],
   "metadata": {
    "collapsed": false,
    "ExecuteTime": {
     "end_time": "2024-07-03T07:32:59.987243Z",
     "start_time": "2024-07-03T07:32:59.966092Z"
    }
   },
   "outputs": [],
   "execution_count": 17
  },
  {
   "cell_type": "code",
   "source": [
    "if 1:\n",
    "    print('Add public transit')\n",
    "    snman.enrichment.match_public_transit_zvv(G, pt_routes, max_dist=200, max_dist_init=400, max_lattice_width=20)\n",
    "\n",
    "if 1:\n",
    "    print('Add elevation')\n",
    "    G = oxc.elevation.add_node_elevations_raster(\n",
    "        G,\n",
    "        os.path.join(inputs_path, 'switzerland', 'switzerland', 'ch_dhm_25', 'ch_dhm_2056.tif'),\n",
    "        raster_crs=2056,\n",
    "        #os.path.join(inputs_path, 'copernicus_dem', 'Copernicus_DSM_10_N41_00_W088_00', 'DEM', 'Copernicus_DSM_10_N41_00_W088_00_DEM.tif'),\n",
    "        #raster_crs=4326, #Chicago\n",
    "        graph_crs=CRS_internal,\n",
    "        cpus=1\n",
    "    )\n",
    "    G = oxc.elevation.add_edge_grades(G, add_absolute=False)\n",
    "\n",
    "if 0:\n",
    "    traffic_counts_npvm = snman.io.load_traffic_counts_npvm(\n",
    "        os.path.join(inputs_path, 'traffic_volumes/npvm_2017_filtered.gpkg')\n",
    "    )\n",
    "    snman.enrichment.match_traffic_counts_npvm(G, traffic_counts_npvm)\n",
    "if 1:\n",
    "    snman.street_graph.add_edge_costs(G)"
   ],
   "metadata": {
    "collapsed": false,
    "ExecuteTime": {
     "end_time": "2024-07-03T07:33:45.273919Z",
     "start_time": "2024-07-03T07:32:59.988246Z"
    }
   },
   "outputs": [
    {
     "name": "stdout",
     "output_type": "stream",
     "text": [
      "Add public transit\n",
      "Add elevation\n"
     ]
    }
   ],
   "execution_count": 18
  },
  {
   "cell_type": "code",
   "source": [
    "if 1:\n",
    "    snman.space_allocation.normalize_cycling_lanes(G)\n",
    "    \n",
    "if 1:\n",
    "    snman.street_graph.organize_edge_directions(G)"
   ],
   "metadata": {
    "collapsed": false,
    "ExecuteTime": {
     "end_time": "2024-07-03T07:33:45.322533Z",
     "start_time": "2024-07-03T07:33:45.275449Z"
    }
   },
   "outputs": [],
   "execution_count": 19
  },
  {
   "cell_type": "markdown",
   "source": [
    "Export\n",
    "------\n",
    "Save the datasets to the hard drive. All files can be opened in QGIS using the *snman_detailed.qgz* file."
   ],
   "metadata": {
    "collapsed": false
   }
  },
  {
   "cell_type": "code",
   "source": [
    "if 1:\n",
    "    print('Export street graph')\n",
    "    # each street is one edge, the lanes are saved as an attribute\n",
    "    snman.io.export_street_graph(\n",
    "        G,\n",
    "        os.path.join(process_path, 'street_graph_edges.gpkg'),\n",
    "        os.path.join(process_path, 'street_graph_nodes.gpkg'),\n",
    "        crs=CRS_for_export\n",
    "    )\n",
    "\n",
    "if 1:\n",
    "    print('Export lane geometries')\n",
    "    # each lane has an own geometry and with as an attribute, for visualization purposes\n",
    "    L = snman.lane_graph.create_lane_graph(G)\n",
    "    snman.io.export_lane_geometries(\n",
    "        L,\n",
    "        os.path.join(process_path, 'lane_geometries_edges.gpkg'),\n",
    "        os.path.join(process_path, 'lane_geometries_nodes.gpkg'),\n",
    "        scaling=1, crs=CRS_for_export\n",
    "    )\n",
    "\n",
    "if 1:\n",
    "    print('Save intersection geometries into a file')\n",
    "    snman.io.export_gdf(\n",
    "        intersections_gdf,\n",
    "        os.path.join(process_path, 'intersections_polygons.gpkg'),\n",
    "        columns=['geometry'], crs=CRS_for_export\n",
    "    )"
   ],
   "metadata": {
    "collapsed": false,
    "ExecuteTime": {
     "end_time": "2024-07-03T07:33:48.087344Z",
     "start_time": "2024-07-03T07:33:45.324135Z"
    }
   },
   "outputs": [
    {
     "name": "stdout",
     "output_type": "stream",
     "text": [
      "Export street graph\n",
      "Export lane geometries\n",
      "Save intersection geometries into a file\n"
     ]
    }
   ],
   "execution_count": 20
  }
 ],
 "metadata": {
  "kernelspec": {
   "display_name": "Python 3",
   "language": "python",
   "name": "python3"
  },
  "language_info": {
   "codemirror_mode": {
    "name": "ipython",
    "version": 2
   },
   "file_extension": ".py",
   "mimetype": "text/x-python",
   "name": "python",
   "nbconvert_exporter": "python",
   "pygments_lexer": "ipython2",
   "version": "2.7.6"
  }
 },
 "nbformat": 4,
 "nbformat_minor": 0
}
