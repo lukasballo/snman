{
 "cells": [
  {
   "cell_type": "markdown",
   "source": [
    "Rebuild street graph\n",
    "====================\n",
    "Loads a street graph and reallocates roads space, e.g., into a network of one-way streets.\n",
    "\n",
    "Prerequisite: Preparing the simplified street graph"
   ],
   "metadata": {
    "collapsed": false
   }
  },
  {
   "cell_type": "code",
   "execution_count": 1,
   "outputs": [
    {
     "name": "stderr",
     "output_type": "stream",
     "text": [
      "C:\\Users\\lballo\\AppData\\Roaming\\Python\\Python39\\site-packages\\osmnx\\utils.py:192: UserWarning: The `utils.config` function is deprecated and will be removed in a future release. Instead, use the `settings` module directly to configure a global setting's value. For example, `ox.settings.log_console=True`.\n",
      "  warnings.warn(\n"
     ]
    }
   ],
   "source": [
    "import copy\n",
    "\n",
    "import networkx as nx\n",
    "\n",
    "import snman, os\n",
    "from snman.constants import *\n",
    "\n",
    "PERIMETER = '_debug'\n",
    "\n",
    "# Set these paths according to your own setup\n",
    "data_directory = os.path.join('C:',os.sep,'Users','lballo','polybox','Research','SNMan','SNMan Shared','data_v2')\n",
    "inputs_path = os.path.join(data_directory, 'inputs')\n",
    "process_path = os.path.join(data_directory, 'process', PERIMETER)\n",
    "export_path = os.path.join(data_directory, 'outputs', PERIMETER)\n",
    "\n",
    "#CRS_internal = 29119    # for Boston\n",
    "CRS_internal = 2056      # for Zurich\n",
    "CRS_for_export = 4326"
   ],
   "metadata": {
    "collapsed": false,
    "ExecuteTime": {
     "end_time": "2024-02-09T22:42:48.257941300Z",
     "start_time": "2024-02-09T22:42:46.441929900Z"
    }
   }
  },
  {
   "cell_type": "markdown",
   "source": [
    "Loading data\n",
    "------------\n",
    "Loads the prepared simplified street graph, as well as other datasets such as perimeters, rebuilding regions and measurement regions"
   ],
   "metadata": {
    "collapsed": false
   }
  },
  {
   "cell_type": "code",
   "execution_count": 2,
   "outputs": [
    {
     "name": "stdout",
     "output_type": "stream",
     "text": [
      "Load street graph\n"
     ]
    }
   ],
   "source": [
    "print('Load street graph')\n",
    "G = snman.io.load_street_graph(\n",
    "    os.path.join(process_path, 'street_graph_edges.gpkg'),\n",
    "    os.path.join(process_path, 'street_graph_nodes.gpkg'),\n",
    "    crs=CRS_internal\n",
    ")"
   ],
   "metadata": {
    "collapsed": false,
    "ExecuteTime": {
     "end_time": "2024-02-09T22:42:49.456876300Z",
     "start_time": "2024-02-09T22:42:48.259950500Z"
    }
   }
  },
  {
   "cell_type": "code",
   "execution_count": 6,
   "outputs": [
    {
     "name": "stdout",
     "output_type": "stream",
     "text": [
      "Load perimeters\n",
      "Load rebuilding regions\n"
     ]
    },
    {
     "name": "stderr",
     "output_type": "stream",
     "text": [
      "C:\\Users\\lballo\\AppData\\Roaming\\Python\\Python39\\site-packages\\geopandas\\geodataframe.py:1443: SettingWithCopyWarning: \n",
      "A value is trying to be set on a copy of a slice from a DataFrame.\n",
      "Try using .loc[row_indexer,col_indexer] = value instead\n",
      "\n",
      "See the caveats in the documentation: https://pandas.pydata.org/pandas-docs/stable/user_guide/indexing.html#returning-a-view-versus-a-copy\n",
      "  super().__setitem__(key, value)\n"
     ]
    }
   ],
   "source": [
    "print('Load perimeters')\n",
    "perimeters_gdf = snman.io.load_perimeters(os.path.join(inputs_path, 'perimeters', 'perimeters.shp'), crs=CRS_internal)\n",
    "\n",
    "print('Load rebuilding regions')\n",
    "# Polygons that define which streets will be reorganized\n",
    "rebuilding_regions_gdf = snman.io.load_rebuilding_regions(\n",
    "    os.path.join(inputs_path, 'rebuilding_regions', 'rebuilding_regions.gpkg'),\n",
    "    only_active=True,\n",
    "    #filter_ids=['zrh-1'],\n",
    "    crs=CRS_internal\n",
    ")"
   ],
   "metadata": {
    "collapsed": false,
    "ExecuteTime": {
     "end_time": "2024-02-09T22:42:11.388632400Z",
     "start_time": "2024-02-09T22:42:11.232597700Z"
    }
   }
  },
  {
   "cell_type": "code",
   "execution_count": null,
   "outputs": [
    {
     "name": "stdout",
     "output_type": "stream",
     "text": [
      "rebuilding region zrh-main\n",
      "include {'1_main_road'}\n",
      "fix {'4_path', '2_local_road', '0_highway', '3_dead_end', '9_other'}\n"
     ]
    }
   ],
   "source": [
    "snman.rebuilding.multi_rebuild_regions(\n",
    "    G, \n",
    "    rebuilding_regions_gdf,\n",
    "    width_attribute=KEY_LANES_DESCRIPTION + '_width_total_m',\n",
    "    #rebuilding_function=snman.rebuilding.multi_rebuild,\n",
    "    #given_lanes_function=snman.rebuilding.multi_set_given_lanes,\n",
    "    public_transit_mode='mandatory_like_existing',\n",
    "    parking_mode='mandatory_like_existing',\n",
    "    needed_node_access_function=snman.rebuilding.multi_set_needed_node_access,\n",
    "    existing_lanes_attribute=KEY_LANES_DESCRIPTION,\n",
    "    given_lanes_attribute=KEY_GIVEN_LANES_DESCRIPTION,\n",
    "    target_lanes_attribute=KEY_LANES_DESCRIPTION_AFTER,\n",
    "    export_L=(os.path.join(export_path, 'L_edges.gpkg'), os.path.join(export_path, 'L_nodes.gpkg')),\n",
    "    export_H=(os.path.join(export_path, 'H_edges.gpkg'), os.path.join(export_path, 'H_nodes.gpkg')),\n",
    "    export_when='before_and_after',\n",
    "    verbose=True\n",
    ")"
   ],
   "metadata": {
    "collapsed": false,
    "ExecuteTime": {
     "start_time": "2024-02-09T22:42:20.408145200Z"
    }
   }
  },
  {
   "cell_type": "code",
   "execution_count": null,
   "outputs": [],
   "source": [
    "print('Reorder lanes')\n",
    "snman.space_allocation.reorder_lanes(G, lanes_attribute=KEY_LANES_DESCRIPTION)\n",
    "snman.space_allocation.reorder_lanes(G, lanes_attribute=KEY_LANES_DESCRIPTION_AFTER)\n",
    "\n",
    "print('Nornmalize cycling infrastructure')\n",
    "snman.space_allocation.normalize_cycling_lanes(G, lanes_key=KEY_LANES_DESCRIPTION)\n",
    "snman.space_allocation.normalize_cycling_lanes(G, lanes_key=KEY_LANES_DESCRIPTION_AFTER)"
   ],
   "metadata": {
    "collapsed": false,
    "ExecuteTime": {
     "end_time": "2024-02-07T20:54:38.034906100Z",
     "start_time": "2024-02-07T20:54:38.034906100Z"
    }
   }
  },
  {
   "cell_type": "markdown",
   "source": [
    "Add edge costs\n",
    "--------------\n",
    "We add the mode-specific cost to the edges so that they can be easily inspected"
   ],
   "metadata": {
    "collapsed": false
   }
  },
  {
   "cell_type": "code",
   "execution_count": null,
   "outputs": [],
   "source": [
    "print('Add edge costs')\n",
    "snman.street_graph.add_edge_costs(G, lanes_description=KEY_LANES_DESCRIPTION)\n",
    "snman.street_graph.add_edge_costs(G, lanes_description=KEY_LANES_DESCRIPTION_AFTER)"
   ],
   "metadata": {
    "collapsed": false,
    "ExecuteTime": {
     "start_time": "2024-02-07T20:54:38.036905900Z"
    }
   }
  },
  {
   "cell_type": "markdown",
   "source": [
    "Export\n",
    "------\n",
    "Saves the resulting datasets to the disk. Use the *snman_detailed.qgz* file to view them in QGIS."
   ],
   "metadata": {
    "collapsed": false
   }
  },
  {
   "cell_type": "code",
   "execution_count": null,
   "outputs": [],
   "source": [
    "if 1:\n",
    "    print('Export network without lanes')\n",
    "    snman.io.export_street_graph(\n",
    "        G,\n",
    "        os.path.join(export_path, 'street_graph_edges.gpkg'),\n",
    "        os.path.join(export_path, 'street_graph_nodes.gpkg'),\n",
    "        crs=CRS_for_export\n",
    "    )\n",
    "\n",
    "if 1:\n",
    "    print('Export lane geometries')\n",
    "    SCALING = 3\n",
    "    snman.io.export_street_graph_with_lanes(\n",
    "        G,\n",
    "        [KEY_LANES_DESCRIPTION, KEY_LANES_DESCRIPTION_AFTER],\n",
    "        os.path.join(export_path, 'lane_geometries.shp'),\n",
    "        scaling=SCALING,\n",
    "        crs=CRS_for_export\n",
    "    )\n",
    "\n",
    "if 1:\n",
    "    print('Export lane graphs')\n",
    "    L_before = snman.lane_graph.create_lane_graph(G, KEY_LANES_DESCRIPTION)\n",
    "    L_after = snman.lane_graph.create_lane_graph(G, KEY_LANES_DESCRIPTION_AFTER)\n",
    "    \n",
    "    for uvk, data in L_before.edges.items():\n",
    "        data['_cost_increase_by_removal'] = snman.graph.cost_increase_by_edge_removal(G, *uvk, 'cost_cycling')\n",
    "    \n",
    "    snman.io.export_street_graph(\n",
    "        L_before,\n",
    "        os.path.join(export_path, 'lane_graph_edges.gpkg'),\n",
    "        os.path.join(export_path, 'lane_graph_nodes.gpkg'),\n",
    "        crs=CRS_for_export\n",
    "    )\n",
    "    snman.io.export_street_graph(\n",
    "        L_after,\n",
    "        os.path.join(export_path, 'lane_graph_after_edges.gpkg'),\n",
    "        os.path.join(export_path, 'lane_graph_after_nodes.gpkg'),\n",
    "        crs=CRS_for_export\n",
    "    )"
   ],
   "metadata": {
    "collapsed": false,
    "ExecuteTime": {
     "start_time": "2024-02-07T20:54:38.038905300Z"
    }
   }
  },
  {
   "cell_type": "code",
   "outputs": [
    {
     "name": "stdout",
     "output_type": "stream",
     "text": [
      "Load rebuilding regions\n"
     ]
    }
   ],
   "source": [
    "print('Load rebuilding regions')\n",
    "# Polygons that define which streets will be reorganized\n",
    "rebuilding_regions_gdf = snman.io.load_rebuilding_regions(\n",
    "    os.path.join(inputs_path, 'rebuilding_regions', 'rebuilding_regions.gpkg'),\n",
    "    #only_active=True,\n",
    "    filter_ids=['test-98'],\n",
    "    crs=CRS_internal\n",
    ")"
   ],
   "metadata": {
    "collapsed": false,
    "ExecuteTime": {
     "end_time": "2024-02-09T22:42:55.215844400Z",
     "start_time": "2024-02-09T22:42:55.136844500Z"
    }
   },
   "execution_count": 3
  },
  {
   "cell_type": "code",
   "outputs": [
    {
     "name": "stdout",
     "output_type": "stream",
     "text": [
      "rebuilding region test-98\n",
      "include {'4_path', '1_main_road', '9_other', '2_local_road', '3_dead_end', '0_highway'}\n",
      "fix {'4_path', '9_other'}\n"
     ]
    },
    {
     "ename": "KeyError",
     "evalue": "'grade'",
     "output_type": "error",
     "traceback": [
      "\u001B[1;31m---------------------------------------------------------------------------\u001B[0m",
      "\u001B[1;31mKeyError\u001B[0m                                  Traceback (most recent call last)",
      "Cell \u001B[1;32mIn[4], line 1\u001B[0m\n\u001B[1;32m----> 1\u001B[0m \u001B[43msnman\u001B[49m\u001B[38;5;241;43m.\u001B[39;49m\u001B[43mrebuilding\u001B[49m\u001B[38;5;241;43m.\u001B[39;49m\u001B[43mmulti_rebuild_regions\u001B[49m\u001B[43m(\u001B[49m\n\u001B[0;32m      2\u001B[0m \u001B[43m    \u001B[49m\u001B[43mG\u001B[49m\u001B[43m,\u001B[49m\u001B[43m \u001B[49m\n\u001B[0;32m      3\u001B[0m \u001B[43m    \u001B[49m\u001B[43mrebuilding_regions_gdf\u001B[49m\u001B[43m,\u001B[49m\n\u001B[0;32m      4\u001B[0m \u001B[43m    \u001B[49m\u001B[43mwidth_attribute\u001B[49m\u001B[38;5;241;43m=\u001B[39;49m\u001B[43mKEY_LANES_DESCRIPTION\u001B[49m\u001B[43m \u001B[49m\u001B[38;5;241;43m+\u001B[39;49m\u001B[43m \u001B[49m\u001B[38;5;124;43m'\u001B[39;49m\u001B[38;5;124;43m_width_total_m\u001B[39;49m\u001B[38;5;124;43m'\u001B[39;49m\u001B[43m,\u001B[49m\n\u001B[0;32m      5\u001B[0m \u001B[43m    \u001B[49m\u001B[38;5;66;43;03m#rebuilding_function=lambda L, *x, **kwargs: L,\u001B[39;49;00m\n\u001B[0;32m      6\u001B[0m \u001B[43m    \u001B[49m\u001B[38;5;66;43;03m#given_lanes_function=snman.rebuilding.multi_set_given_lanes,\u001B[39;49;00m\n\u001B[0;32m      7\u001B[0m \u001B[43m    \u001B[49m\u001B[43mpublic_transit_mode\u001B[49m\u001B[38;5;241;43m=\u001B[39;49m\u001B[38;5;124;43m'\u001B[39;49m\u001B[38;5;124;43mmandatory_like_existing\u001B[39;49m\u001B[38;5;124;43m'\u001B[39;49m\u001B[43m,\u001B[49m\n\u001B[0;32m      8\u001B[0m \u001B[43m    \u001B[49m\u001B[43mparking_mode\u001B[49m\u001B[38;5;241;43m=\u001B[39;49m\u001B[38;5;124;43m'\u001B[39;49m\u001B[38;5;124;43mmandatory_like_existing\u001B[39;49m\u001B[38;5;124;43m'\u001B[39;49m\u001B[43m,\u001B[49m\n\u001B[0;32m      9\u001B[0m \u001B[43m    \u001B[49m\u001B[43mneeded_node_access_function\u001B[49m\u001B[38;5;241;43m=\u001B[39;49m\u001B[43msnman\u001B[49m\u001B[38;5;241;43m.\u001B[39;49m\u001B[43mrebuilding\u001B[49m\u001B[38;5;241;43m.\u001B[39;49m\u001B[43mmulti_set_needed_node_access\u001B[49m\u001B[43m,\u001B[49m\n\u001B[0;32m     10\u001B[0m \u001B[43m    \u001B[49m\u001B[43mexisting_lanes_attribute\u001B[49m\u001B[38;5;241;43m=\u001B[39;49m\u001B[43mKEY_LANES_DESCRIPTION\u001B[49m\u001B[43m,\u001B[49m\n\u001B[0;32m     11\u001B[0m \u001B[43m    \u001B[49m\u001B[43mgiven_lanes_attribute\u001B[49m\u001B[38;5;241;43m=\u001B[39;49m\u001B[43mKEY_GIVEN_LANES_DESCRIPTION\u001B[49m\u001B[43m,\u001B[49m\n\u001B[0;32m     12\u001B[0m \u001B[43m    \u001B[49m\u001B[43mtarget_lanes_attribute\u001B[49m\u001B[38;5;241;43m=\u001B[39;49m\u001B[43mKEY_LANES_DESCRIPTION_AFTER\u001B[49m\u001B[43m,\u001B[49m\n\u001B[0;32m     13\u001B[0m \u001B[43m    \u001B[49m\u001B[43mexport_L\u001B[49m\u001B[38;5;241;43m=\u001B[39;49m\u001B[43m(\u001B[49m\u001B[43mos\u001B[49m\u001B[38;5;241;43m.\u001B[39;49m\u001B[43mpath\u001B[49m\u001B[38;5;241;43m.\u001B[39;49m\u001B[43mjoin\u001B[49m\u001B[43m(\u001B[49m\u001B[43mexport_path\u001B[49m\u001B[43m,\u001B[49m\u001B[43m \u001B[49m\u001B[38;5;124;43m'\u001B[39;49m\u001B[38;5;124;43mL_edges.gpkg\u001B[39;49m\u001B[38;5;124;43m'\u001B[39;49m\u001B[43m)\u001B[49m\u001B[43m,\u001B[49m\u001B[43m \u001B[49m\u001B[43mos\u001B[49m\u001B[38;5;241;43m.\u001B[39;49m\u001B[43mpath\u001B[49m\u001B[38;5;241;43m.\u001B[39;49m\u001B[43mjoin\u001B[49m\u001B[43m(\u001B[49m\u001B[43mexport_path\u001B[49m\u001B[43m,\u001B[49m\u001B[43m \u001B[49m\u001B[38;5;124;43m'\u001B[39;49m\u001B[38;5;124;43mL_nodes.gpkg\u001B[39;49m\u001B[38;5;124;43m'\u001B[39;49m\u001B[43m)\u001B[49m\u001B[43m)\u001B[49m\u001B[43m,\u001B[49m\n\u001B[0;32m     14\u001B[0m \u001B[43m    \u001B[49m\u001B[43mexport_H\u001B[49m\u001B[38;5;241;43m=\u001B[39;49m\u001B[43m(\u001B[49m\u001B[43mos\u001B[49m\u001B[38;5;241;43m.\u001B[39;49m\u001B[43mpath\u001B[49m\u001B[38;5;241;43m.\u001B[39;49m\u001B[43mjoin\u001B[49m\u001B[43m(\u001B[49m\u001B[43mexport_path\u001B[49m\u001B[43m,\u001B[49m\u001B[43m \u001B[49m\u001B[38;5;124;43m'\u001B[39;49m\u001B[38;5;124;43mH_edges.gpkg\u001B[39;49m\u001B[38;5;124;43m'\u001B[39;49m\u001B[43m)\u001B[49m\u001B[43m,\u001B[49m\u001B[43m \u001B[49m\u001B[43mos\u001B[49m\u001B[38;5;241;43m.\u001B[39;49m\u001B[43mpath\u001B[49m\u001B[38;5;241;43m.\u001B[39;49m\u001B[43mjoin\u001B[49m\u001B[43m(\u001B[49m\u001B[43mexport_path\u001B[49m\u001B[43m,\u001B[49m\u001B[43m \u001B[49m\u001B[38;5;124;43m'\u001B[39;49m\u001B[38;5;124;43mH_nodes.gpkg\u001B[39;49m\u001B[38;5;124;43m'\u001B[39;49m\u001B[43m)\u001B[49m\u001B[43m)\u001B[49m\u001B[43m,\u001B[49m\n\u001B[0;32m     15\u001B[0m \u001B[43m    \u001B[49m\u001B[43mexport_when\u001B[49m\u001B[38;5;241;43m=\u001B[39;49m\u001B[38;5;124;43m'\u001B[39;49m\u001B[38;5;124;43mbefore_and_after\u001B[39;49m\u001B[38;5;124;43m'\u001B[39;49m\u001B[43m,\u001B[49m\n\u001B[0;32m     16\u001B[0m \u001B[43m    \u001B[49m\u001B[43mverbose\u001B[49m\u001B[38;5;241;43m=\u001B[39;49m\u001B[38;5;28;43;01mTrue\u001B[39;49;00m\n\u001B[0;32m     17\u001B[0m \u001B[43m)\u001B[49m\n",
      "File \u001B[1;32m~\\polybox\\GIT\\github\\snman\\snman\\rebuilding.py:1150\u001B[0m, in \u001B[0;36mmulti_rebuild_regions\u001B[1;34m(G, rebuilding_regions_gdf, width_attribute, rebuilding_function, given_lanes_function, public_transit_mode, parking_mode, needed_node_access_function, add_fix_hierarchies, existing_lanes_attribute, given_lanes_attribute, target_lanes_attribute, export_L, export_H, export_when, verbose)\u001B[0m\n\u001B[0;32m   1147\u001B[0m H \u001B[38;5;241m=\u001B[39m street_graph\u001B[38;5;241m.\u001B[39mfilter_by_hierarchy(H, hierarchies_to_include)\n\u001B[0;32m   1149\u001B[0m \u001B[38;5;66;03m# set given lanes and required access for nodes according to network rules\u001B[39;00m\n\u001B[1;32m-> 1150\u001B[0m \u001B[43mgiven_lanes_function\u001B[49m\u001B[43m(\u001B[49m\n\u001B[0;32m   1151\u001B[0m \u001B[43m    \u001B[49m\u001B[43mH\u001B[49m\u001B[43m,\u001B[49m\n\u001B[0;32m   1152\u001B[0m \u001B[43m    \u001B[49m\u001B[43mhierarchies_to_fix\u001B[49m\u001B[38;5;241;43m=\u001B[39;49m\u001B[43mhierarchies_to_fix\u001B[49m\u001B[43m,\u001B[49m\n\u001B[0;32m   1153\u001B[0m \u001B[43m    \u001B[49m\u001B[43mmotorized_traffic_on_all_streets\u001B[49m\u001B[38;5;241;43m=\u001B[39;49m\u001B[43mrebuilding_region\u001B[49m\u001B[43m[\u001B[49m\u001B[38;5;124;43m'\u001B[39;49m\u001B[38;5;124;43mkeep_all_streets\u001B[39;49m\u001B[38;5;124;43m'\u001B[39;49m\u001B[43m]\u001B[49m\u001B[43m,\u001B[49m\n\u001B[0;32m   1154\u001B[0m \u001B[43m    \u001B[49m\u001B[43mpublic_transit_mode\u001B[49m\u001B[38;5;241;43m=\u001B[39;49m\u001B[43mpublic_transit_mode\u001B[49m\u001B[43m,\u001B[49m\n\u001B[0;32m   1155\u001B[0m \u001B[43m    \u001B[49m\u001B[43mparking_mode\u001B[49m\u001B[38;5;241;43m=\u001B[39;49m\u001B[43mparking_mode\u001B[49m\n\u001B[0;32m   1156\u001B[0m \u001B[43m\u001B[49m\u001B[43m)\u001B[49m\n\u001B[0;32m   1157\u001B[0m needed_node_access_function(H)\n\u001B[0;32m   1159\u001B[0m \u001B[38;5;66;03m# simplify the graph by removing intermediate nodes\u001B[39;00m\n",
      "File \u001B[1;32m~\\polybox\\GIT\\github\\snman\\snman\\rebuilding.py:459\u001B[0m, in \u001B[0;36mmulti_set_given_lanes\u001B[1;34m(G, source_lanes_attribute, target_lanes_attribute, public_transit_mode, parking_mode, motorized_traffic_on_all_streets, motorized_traffic_road_hierarchies, cycling_infra_road_hierarchies, hierarchies_to_fix)\u001B[0m\n\u001B[0;32m    457\u001B[0m data[target_lanes_attribute] \u001B[38;5;241m=\u001B[39m target_lanes\n\u001B[0;32m    458\u001B[0m \u001B[38;5;66;03m# on every edge with public transit, add a motorized traffic lane if no connection is possible\u001B[39;00m\n\u001B[1;32m--> 459\u001B[0m pt_cost_forward \u001B[38;5;241m=\u001B[39m \u001B[43mstreet_graph\u001B[49m\u001B[38;5;241;43m.\u001B[39;49m\u001B[43mcalculate_edge_cost\u001B[49m\u001B[43m(\u001B[49m\n\u001B[0;32m    460\u001B[0m \u001B[43m    \u001B[49m\u001B[43mG\u001B[49m\u001B[43m,\u001B[49m\u001B[43m \u001B[49m\u001B[38;5;241;43m*\u001B[39;49m\u001B[43muvk\u001B[49m\u001B[43m,\u001B[49m\u001B[43m \u001B[49m\u001B[43mDIRECTION_FORWARD\u001B[49m\u001B[43m,\u001B[49m\u001B[43m \u001B[49m\u001B[43mMODE_TRANSIT\u001B[49m\u001B[43m,\u001B[49m\u001B[43m \u001B[49m\u001B[43mlanes_description\u001B[49m\u001B[38;5;241;43m=\u001B[39;49m\u001B[43mtarget_lanes_attribute\u001B[49m\n\u001B[0;32m    461\u001B[0m \u001B[43m\u001B[49m\u001B[43m)\u001B[49m\n\u001B[0;32m    462\u001B[0m \u001B[38;5;28;01mif\u001B[39;00m data\u001B[38;5;241m.\u001B[39mget(\u001B[38;5;124m'\u001B[39m\u001B[38;5;124mpt_forward\u001B[39m\u001B[38;5;124m'\u001B[39m) \u001B[38;5;129;01mand\u001B[39;00m pt_cost_forward \u001B[38;5;241m==\u001B[39m math\u001B[38;5;241m.\u001B[39minf:\n\u001B[0;32m    463\u001B[0m     target_lanes \u001B[38;5;241m+\u001B[39m\u001B[38;5;241m=\u001B[39m [LANETYPE_MOTORIZED \u001B[38;5;241m+\u001B[39m DIRECTION_FORWARD]\n",
      "File \u001B[1;32m~\\polybox\\GIT\\github\\snman\\snman\\street_graph.py:460\u001B[0m, in \u001B[0;36mcalculate_edge_cost\u001B[1;34m(G, u, v, k, direction, mode, lanes_description, include_tentative)\u001B[0m\n\u001B[0;32m    458\u001B[0m lp \u001B[38;5;241m=\u001B[39m space_allocation\u001B[38;5;241m.\u001B[39m_lane_properties(lane)\n\u001B[0;32m    459\u001B[0m length \u001B[38;5;241m=\u001B[39m data[\u001B[38;5;124m'\u001B[39m\u001B[38;5;124mlength\u001B[39m\u001B[38;5;124m'\u001B[39m]\n\u001B[1;32m--> 460\u001B[0m slope \u001B[38;5;241m=\u001B[39m \u001B[43mdata\u001B[49m\u001B[43m[\u001B[49m\u001B[38;5;124;43m'\u001B[39;49m\u001B[38;5;124;43mgrade\u001B[39;49m\u001B[38;5;124;43m'\u001B[39;49m\u001B[43m]\u001B[49m\n\u001B[0;32m    461\u001B[0m cost \u001B[38;5;241m=\u001B[39m space_allocation\u001B[38;5;241m.\u001B[39m_calculate_lane_cost(\n\u001B[0;32m    462\u001B[0m     lane, length, slope, mode, direction, include_tentative\u001B[38;5;241m=\u001B[39minclude_tentative\n\u001B[0;32m    463\u001B[0m )\n\u001B[0;32m    464\u001B[0m cost_list\u001B[38;5;241m.\u001B[39mappend(cost)\n",
      "\u001B[1;31mKeyError\u001B[0m: 'grade'"
     ]
    }
   ],
   "source": [
    "snman.rebuilding.multi_rebuild_regions(\n",
    "    G, \n",
    "    rebuilding_regions_gdf,\n",
    "    width_attribute=KEY_LANES_DESCRIPTION + '_width_total_m',\n",
    "    #rebuilding_function=lambda L, *x, **kwargs: L,\n",
    "    #given_lanes_function=snman.rebuilding.multi_set_given_lanes,\n",
    "    public_transit_mode='mandatory_like_existing',\n",
    "    parking_mode='mandatory_like_existing',\n",
    "    needed_node_access_function=snman.rebuilding.multi_set_needed_node_access,\n",
    "    existing_lanes_attribute=KEY_LANES_DESCRIPTION,\n",
    "    given_lanes_attribute=KEY_GIVEN_LANES_DESCRIPTION,\n",
    "    target_lanes_attribute=KEY_LANES_DESCRIPTION_AFTER,\n",
    "    export_L=(os.path.join(export_path, 'L_edges.gpkg'), os.path.join(export_path, 'L_nodes.gpkg')),\n",
    "    export_H=(os.path.join(export_path, 'H_edges.gpkg'), os.path.join(export_path, 'H_nodes.gpkg')),\n",
    "    export_when='before_and_after',\n",
    "    verbose=True\n",
    ")"
   ],
   "metadata": {
    "collapsed": false,
    "ExecuteTime": {
     "end_time": "2024-02-09T22:43:06.895747900Z",
     "start_time": "2024-02-09T22:42:56.670065900Z"
    }
   },
   "execution_count": 4
  },
  {
   "cell_type": "code",
   "outputs": [],
   "source": [
    "for uvk, data in G.edges.items():\n",
    "    data[KEY_LANES_DESCRIPTION_AFTER] = copy.deepcopy(data[KEY_LANES_DESCRIPTION])"
   ],
   "metadata": {
    "collapsed": false,
    "ExecuteTime": {
     "end_time": "2024-02-07T20:54:38.043906600Z",
     "start_time": "2024-02-07T20:54:38.041906600Z"
    }
   },
   "execution_count": null
  },
  {
   "cell_type": "code",
   "outputs": [],
   "source": [
    "import numpy as np\n",
    "\n",
    "L = snman.io.load_street_graph(os.path.join(export_path, 'L_edges.gpkg'), os.path.join(export_path, 'L_nodes.gpkg'))\n",
    "\n",
    "M = L.subgraph(\n",
    "        [i for i, data in L.nodes.items() if data['needs_access_by_private_cars']]\n",
    "    )\n",
    "\n",
    "M = M.edge_subgraph(\n",
    "    [uvk for uvk, data in M.edges.items() if data.get('cost_private_cars') != np.inf and uvk not in ()]\n",
    ")\n",
    "\n",
    "snman.oxc.plot_graph(M)\n",
    "snman.rebuilding.is_strongly_connected_plus(\n",
    "    M,\n",
    "    'cost_private_cars',\n",
    "    'needs_access_by_private_cars'\n",
    ")\n",
    "nx.is_strongly_connected(M)"
   ],
   "metadata": {
    "collapsed": false,
    "ExecuteTime": {
     "start_time": "2024-02-07T20:54:38.042907Z"
    }
   },
   "execution_count": null
  },
  {
   "cell_type": "code",
   "outputs": [],
   "source": [
    "scc = nx.strongly_connected_components(M)\n",
    "list(scc)"
   ],
   "metadata": {
    "collapsed": false,
    "ExecuteTime": {
     "start_time": "2024-02-07T20:54:38.043906600Z"
    }
   },
   "execution_count": null
  }
 ],
 "metadata": {
  "kernelspec": {
   "display_name": "Python 3",
   "language": "python",
   "name": "python3"
  },
  "language_info": {
   "codemirror_mode": {
    "name": "ipython",
    "version": 2
   },
   "file_extension": ".py",
   "mimetype": "text/x-python",
   "name": "python",
   "nbconvert_exporter": "python",
   "pygments_lexer": "ipython2",
   "version": "2.7.6"
  }
 },
 "nbformat": 4,
 "nbformat_minor": 0
}
