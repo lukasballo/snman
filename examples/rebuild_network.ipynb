{
 "cells": [
  {
   "cell_type": "code",
   "source": [
    "import warnings\n",
    "\n",
    "warnings.filterwarnings('ignore')\n",
    "\n",
    "import os\n",
    "\n",
    "import snman\n",
    "from snman.constants import *\n",
    "from snman import osmnx_customized as oxc\n",
    "from snman import *\n",
    "\n",
    "PERIMETER = 'affoltern'\n",
    "PROJECT = '_main'\n",
    "\n",
    "data_directory = os.path.join('C:',os.sep,'Users','lballo','polybox','HOSTING','web', 'xxxx snman data package')\n",
    "inputs_path = os.path.join(data_directory, 'inputs')\n",
    "process_path = os.path.join(data_directory, 'process', PROJECT)\n",
    "export_path = os.path.join(data_directory, 'outputs', PROJECT)\n",
    "\n",
    "CRS_internal = 2056      # for Zurich"
   ],
   "metadata": {
    "collapsed": false
   },
   "outputs": [],
   "execution_count": null
  },
  {
   "cell_type": "markdown",
   "source": [
    "Loading data\n",
    "------------\n",
    "Loads the prepared simplified street graph, as well as other datasets such as perimeters, rebuilding regions and measurement regions"
   ],
   "metadata": {
    "collapsed": false
   }
  },
  {
   "cell_type": "code",
   "source": [
    "print('Load street graph')\n",
    "G = snman.io.load_street_graph(\n",
    "    os.path.join(process_path, 'street_graph_edges.gpkg'),\n",
    "    os.path.join(process_path, 'street_graph_nodes.gpkg'),\n",
    "    crs=CRS_internal\n",
    ")\n",
    "\n",
    "street_graph.organize_edge_directions(G)"
   ],
   "metadata": {
    "collapsed": false
   },
   "outputs": [],
   "execution_count": null
  },
  {
   "cell_type": "code",
   "source": [
    "print('Load rebuilding regions')\n",
    "# Polygons that define which streets will be reorganized\n",
    "rebuilding_regions_gdf = snman.io.load_rebuilding_regions(\n",
    "    os.path.join(inputs_path, 'rebuilding_regions', 'rebuilding_regions.gpkg'),\n",
    "    only_active=True,\n",
    "    crs=CRS_internal\n",
    ")\n",
    "\n",
    "if 1:\n",
    "    print('Load access needs')\n",
    "    access_needs = snman.io.load_access_needs(\n",
    "        os.path.join(inputs_path, 'switzerland', 'zurich', 'statpop', 'statpop22_zurich_city_agg_hectars_public.gpkg'),\n",
    "        CRS_internal\n",
    "    )\n",
    "    access_needs['parking_spots_needed'] = access_needs['residents'] / 60\n",
    "    \n",
    "if 1:\n",
    "    print('Load lane edits')\n",
    "    lane_edits = snman.io.load_lane_edits(\n",
    "        os.path.join(inputs_path, 'lane_edits', 'lane_edits.gpkg')\n",
    "    )\n",
    "    snman.enrichment.match_lane_edits(\n",
    "        G, lane_edits, lanes_key=KEY_FORCED_GIVEN_LANES_DESCRIPTION,\n",
    "        max_dist=200, max_dist_init=500, max_lattice_width=5,\n",
    "    )\n",
    "    \n",
    "if 1:\n",
    "    print('Load hierarchy edits')\n",
    "    hierarchy_edits = snman.io.load_hierarchy_edits(\n",
    "        os.path.join(inputs_path, 'hierarchy_edits', 'hierarchy_edits.gpkg')\n",
    "    )\n",
    "    snman.enrichment.match_hierarchy_edits(\n",
    "        G, hierarchy_edits,\n",
    "        max_dist=200, max_dist_init=500, max_lattice_width=5,\n",
    "    )"
   ],
   "metadata": {
    "collapsed": false
   },
   "outputs": [],
   "execution_count": null
  },
  {
   "cell_type": "code",
   "source": [
    "from snman.rebuilding import *\n",
    "\n",
    "HLAs = multi_rebuild_regions(\n",
    "    G, rebuilding_regions_gdf, access_needs,\n",
    "    save_steps_path=os.path.join(export_path, 'steps'),\n",
    "    save_steps_scaling_factor=4,\n",
    "    gravity_iterations=10,\n",
    ")\n",
    "HLAs = list(filter(lambda HLA: HLA is not None, HLAs))"
   ],
   "metadata": {
    "collapsed": false
   },
   "outputs": [],
   "execution_count": null
  },
  {
   "cell_type": "code",
   "source": [
    "import networkx as nx\n",
    "\n",
    "Hs,Ls,As = zip(*HLAs)\n",
    "A = nx.compose_all(As)\n",
    "L = nx.compose_all(Ls)\n",
    "\n",
    "snman.io.export_HLA(os.path.join(export_path, 'steps'), '_debug', L=L, A=A)"
   ],
   "metadata": {
    "collapsed": false
   },
   "outputs": [],
   "execution_count": null
  },
  {
   "cell_type": "code",
   "source": [
    "print('Reorder lanes')\n",
    "snman.space_allocation.reorder_lanes(G, lanes_attribute=KEY_LANES_DESCRIPTION)\n",
    "snman.space_allocation.reorder_lanes(G, lanes_attribute=KEY_LANES_DESCRIPTION_AFTER)\n",
    "\n",
    "print('Normalize cycling infrastructure')\n",
    "snman.space_allocation.normalize_cycling_lanes(G, lanes_key=KEY_LANES_DESCRIPTION)\n",
    "snman.space_allocation.normalize_cycling_lanes(G, lanes_key=KEY_LANES_DESCRIPTION_AFTER)\n",
    "\n",
    "snman.street_graph.organize_edge_directions(G)"
   ],
   "metadata": {
    "collapsed": false
   },
   "outputs": [],
   "execution_count": null
  },
  {
   "cell_type": "code",
   "source": [
    "print('Add elevation')\n",
    "G = oxc.elevation.add_node_elevations_raster(\n",
    "    G,\n",
    "    os.path.join(inputs_path, 'switzerland', 'switzerland', 'ch_dhm_25', 'ch_dhm_2056.tif'),\n",
    "    raster_crs=2056,\n",
    "    graph_crs=CRS_internal,\n",
    "    cpus=1\n",
    ")\n",
    "G = oxc.elevation.add_edge_grades(G, add_absolute=False)"
   ],
   "metadata": {
    "collapsed": false
   },
   "outputs": [],
   "execution_count": null
  },
  {
   "cell_type": "code",
   "source": [
    "snman.space_allocation.generate_lane_stats(G, lanes_attribute=KEY_LANES_DESCRIPTION)\n",
    "snman.space_allocation.generate_lane_stats(G, lanes_attribute=KEY_LANES_DESCRIPTION_AFTER)"
   ],
   "metadata": {
    "collapsed": false
   },
   "outputs": [],
   "execution_count": null
  },
  {
   "cell_type": "code",
   "source": [
    "if 1:\n",
    "    print('export G')\n",
    "    snman.io.export_street_graph(\n",
    "        G,\n",
    "        os.path.join(export_path, 'G_edges.gpkg'),\n",
    "        os.path.join(export_path, 'G_nodes.gpkg')\n",
    "    )\n",
    "\n",
    "if 1:\n",
    "    print('export L before')\n",
    "    L = snman.lane_graph.create_lane_graph(G, lanes_attribute=KEY_LANES_DESCRIPTION)\n",
    "    snman.io.export_lane_geometries(\n",
    "        L,\n",
    "        os.path.join(export_path, 'lane_geometries_edges.gpkg'),\n",
    "        os.path.join(export_path, 'lane_geometries_nodes.gpkg'),\n",
    "        scaling=4\n",
    "    )\n",
    "\n",
    "if 1:\n",
    "    print('export L after')\n",
    "    L = snman.lane_graph.create_lane_graph(G, lanes_attribute=KEY_LANES_DESCRIPTION_AFTER)\n",
    "    snman.io.export_lane_geometries(\n",
    "        L,\n",
    "        os.path.join(export_path, 'lane_geometries_rebuilt_edges.gpkg'),\n",
    "        os.path.join(export_path, 'lane_geometries_rebuilt_nodes.gpkg'),\n",
    "        scaling=4\n",
    "    )"
   ],
   "metadata": {
    "collapsed": false
   },
   "outputs": [],
   "execution_count": null
  }
 ],
 "metadata": {
  "kernelspec": {
   "display_name": "Python 3",
   "language": "python",
   "name": "python3"
  },
  "language_info": {
   "codemirror_mode": {
    "name": "ipython",
    "version": 2
   },
   "file_extension": ".py",
   "mimetype": "text/x-python",
   "name": "python",
   "nbconvert_exporter": "python",
   "pygments_lexer": "ipython2",
   "version": "2.7.6"
  }
 },
 "nbformat": 4,
 "nbformat_minor": 0
}
