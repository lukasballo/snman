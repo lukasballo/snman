{
 "cells": [
  {
   "cell_type": "markdown",
   "source": [
    "Rebuilding Steps, Example Network, Integrated in SNMan 'Multi' Rebuild\n",
    "====================\n",
    "xxx"
   ],
   "metadata": {
    "collapsed": false
   }
  },
  {
   "cell_type": "code",
   "source": [
    "import warnings\n",
    "warnings.filterwarnings('ignore')\n",
    "\n",
    "import copy\n",
    "import os\n",
    "import sys\n",
    "import networkx as nx\n",
    "import numpy as np\n",
    "import shutil\n",
    "\n",
    "import snman\n",
    "from snman.constants import *\n",
    "from snman import osmnx_customized as oxc\n",
    "from snman import *\n",
    "\n",
    "PERIMETER = 'db'\n",
    "\n",
    "data_directory = os.path.join('C:',os.sep,'Users','lballo','polybox','Research','SNMan','SNMan Shared','data_v2')\n",
    "inputs_path = os.path.join(data_directory, 'inputs')\n",
    "process_path = os.path.join(data_directory, 'process', PERIMETER)\n",
    "export_path = os.path.join(data_directory, 'outputs', PERIMETER)\n",
    "\n",
    "CRS_internal = 2056      # for Zurich"
   ],
   "metadata": {
    "collapsed": false
   },
   "outputs": [],
   "execution_count": null
  },
  {
   "cell_type": "markdown",
   "source": [
    "Loading data\n",
    "------------\n",
    "Loads the prepared simplified street graph, as well as other datasets such as perimeters, rebuilding regions and measurement regions"
   ],
   "metadata": {
    "collapsed": false
   }
  },
  {
   "cell_type": "code",
   "source": [
    "print('Load street graph')\n",
    "G = snman.io.load_street_graph(\n",
    "    os.path.join(process_path, 'street_graph_edges.gpkg'),\n",
    "    os.path.join(process_path, 'street_graph_nodes.gpkg'),\n",
    "    crs=CRS_internal\n",
    ")\n",
    "\n",
    "street_graph.organize_edge_directions(G)"
   ],
   "metadata": {
    "collapsed": false
   },
   "outputs": [],
   "execution_count": null
  },
  {
   "metadata": {},
   "cell_type": "code",
   "source": [
    "widths = snman.io.import_geofile_to_gdf('C:/Users/lballo/polybox/BUSINESS/PROJECTS/01 Dornbirn GVK/DATA/strassennetz_mit_breiten_bereinigt.gpkg')\n",
    "widths['width'] = widths['fb_1_avgw']\n",
    "widths"
   ],
   "outputs": [],
   "execution_count": null
  },
  {
   "metadata": {},
   "cell_type": "code",
   "source": [
    "snman.enrichment.match_width(\n",
    "    G, widths, \n",
    "    max_dist=200, max_dist_init=500, max_lattice_width=5\n",
    ")"
   ],
   "outputs": [],
   "execution_count": null
  },
  {
   "cell_type": "code",
   "source": [
    "if 1:\n",
    "    print('export G')\n",
    "    snman.io.export_street_graph(\n",
    "        G,\n",
    "        os.path.join(process_path, 'G_edges.gpkg'),\n",
    "        os.path.join(process_path, 'G_nodes.gpkg')\n",
    "    )"
   ],
   "metadata": {
    "collapsed": false
   },
   "outputs": [],
   "execution_count": null
  }
 ],
 "metadata": {
  "kernelspec": {
   "display_name": "Python 3",
   "language": "python",
   "name": "python3"
  },
  "language_info": {
   "codemirror_mode": {
    "name": "ipython",
    "version": 2
   },
   "file_extension": ".py",
   "mimetype": "text/x-python",
   "name": "python",
   "nbconvert_exporter": "python",
   "pygments_lexer": "ipython2",
   "version": "2.7.6"
  }
 },
 "nbformat": 4,
 "nbformat_minor": 0
}
