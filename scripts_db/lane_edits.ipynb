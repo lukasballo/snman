{
 "cells": [
  {
   "cell_type": "markdown",
   "source": [
    "Rebuilding Steps, Example Network, Integrated in SNMan 'Multi' Rebuild\n",
    "====================\n",
    "xxx"
   ],
   "metadata": {
    "collapsed": false
   }
  },
  {
   "cell_type": "code",
   "source": [
    "import warnings\n",
    "warnings.filterwarnings('ignore')\n",
    "\n",
    "import copy\n",
    "import os\n",
    "import sys\n",
    "import networkx as nx\n",
    "import numpy as np\n",
    "import shutil\n",
    "\n",
    "import snman\n",
    "from snman.constants import *\n",
    "from snman import osmnx_customized as oxc\n",
    "from snman import *\n",
    "\n",
    "PERIMETER = 'db'\n",
    "\n",
    "data_directory = os.path.join('C:',os.sep,'Users','lballo','polybox','Research','SNMan','SNMan Shared','data_v2')\n",
    "inputs_path = os.path.join(data_directory, 'inputs')\n",
    "process_path = os.path.join(data_directory, 'process', PERIMETER)\n",
    "export_path = os.path.join(data_directory, 'outputs', PERIMETER)\n",
    "\n",
    "CRS_internal = 2056      # for Zurich\n",
    "CRS_for_export = 4326   "
   ],
   "metadata": {
    "collapsed": false,
    "ExecuteTime": {
     "end_time": "2024-08-17T11:41:38.435899Z",
     "start_time": "2024-08-17T11:41:34.867636Z"
    }
   },
   "outputs": [],
   "execution_count": 1
  },
  {
   "cell_type": "markdown",
   "source": [
    "Loading data\n",
    "------------\n",
    "Loads the prepared simplified street graph, as well as other datasets such as perimeters, rebuilding regions and measurement regions"
   ],
   "metadata": {
    "collapsed": false
   }
  },
  {
   "cell_type": "code",
   "source": [
    "print('Load street graph')\n",
    "G = snman.io.load_street_graph(\n",
    "    os.path.join(process_path, 'street_graph_edges.gpkg'),\n",
    "    os.path.join(process_path, 'street_graph_nodes.gpkg'),\n",
    "    crs=CRS_internal\n",
    ")\n",
    "\n",
    "street_graph.organize_edge_directions(G)"
   ],
   "metadata": {
    "collapsed": false,
    "ExecuteTime": {
     "end_time": "2024-08-17T11:41:43.706444Z",
     "start_time": "2024-08-17T11:41:38.444888Z"
    }
   },
   "outputs": [
    {
     "name": "stdout",
     "output_type": "stream",
     "text": [
      "Load street graph\n"
     ]
    }
   ],
   "execution_count": 2
  },
  {
   "metadata": {
    "ExecuteTime": {
     "end_time": "2024-08-17T11:59:03.671807Z",
     "start_time": "2024-08-17T11:59:03.638131Z"
    }
   },
   "cell_type": "code",
   "source": [
    "lane_edits = snman.io.load_lane_edits(\n",
    "    os.path.join(inputs_path, 'lane_edits', 'lane_edits.gpkg')\n",
    ")"
   ],
   "outputs": [],
   "execution_count": 24
  },
  {
   "metadata": {
    "ExecuteTime": {
     "end_time": "2024-08-17T11:59:05.346857Z",
     "start_time": "2024-08-17T11:59:04.780748Z"
    }
   },
   "cell_type": "code",
   "source": [
    "snman.enrichment.match_lane_edits(\n",
    "    G, lane_edits, lanes_key=KEY_FORCED_GIVEN_LANES_DESCRIPTION,\n",
    "    max_dist=400, max_dist_init=500, max_lattice_width=5, remove_short_overlaps=True\n",
    ")"
   ],
   "outputs": [],
   "execution_count": 25
  },
  {
   "cell_type": "code",
   "source": [
    "if 1:\n",
    "    print('Export street graph')\n",
    "    # each street is one edge, the lanes are saved as an attribute\n",
    "    snman.io.export_street_graph(\n",
    "        G,\n",
    "        os.path.join(process_path, 'street_graph_edges.gpkg'),\n",
    "        os.path.join(process_path, 'street_graph_nodes.gpkg'),\n",
    "        stringify_additional_attributes=['given_lanes_global'],\n",
    "        crs=CRS_for_export\n",
    "    )"
   ],
   "metadata": {
    "collapsed": false,
    "ExecuteTime": {
     "end_time": "2024-08-17T11:59:08.697599Z",
     "start_time": "2024-08-17T11:59:06.094136Z"
    }
   },
   "outputs": [
    {
     "name": "stdout",
     "output_type": "stream",
     "text": [
      "Export street graph\n"
     ]
    }
   ],
   "execution_count": 26
  },
  {
   "metadata": {
    "ExecuteTime": {
     "end_time": "2024-08-17T12:05:58.422747Z",
     "start_time": "2024-08-17T12:05:58.366748Z"
    }
   },
   "cell_type": "code",
   "source": [
    "a = snman.space_allocation.space_allocation_from_string('nan')\n",
    "str(a)"
   ],
   "outputs": [
    {
     "ename": "KeyError",
     "evalue": "'na'",
     "output_type": "error",
     "traceback": [
      "\u001B[1;31m---------------------------------------------------------------------------\u001B[0m",
      "\u001B[1;31mKeyError\u001B[0m                                  Traceback (most recent call last)",
      "Cell \u001B[1;32mIn[32], line 1\u001B[0m\n\u001B[1;32m----> 1\u001B[0m a \u001B[38;5;241m=\u001B[39m \u001B[43msnman\u001B[49m\u001B[38;5;241;43m.\u001B[39;49m\u001B[43mspace_allocation\u001B[49m\u001B[38;5;241;43m.\u001B[39;49m\u001B[43mspace_allocation_from_string\u001B[49m\u001B[43m(\u001B[49m\u001B[38;5;124;43m'\u001B[39;49m\u001B[38;5;124;43mnan\u001B[39;49m\u001B[38;5;124;43m'\u001B[39;49m\u001B[43m)\u001B[49m\n\u001B[0;32m      2\u001B[0m \u001B[38;5;28mstr\u001B[39m(a)\n",
      "File \u001B[1;32m~\\polybox\\GIT\\github\\snman\\snman\\space_allocation.py:1055\u001B[0m, in \u001B[0;36mspace_allocation_from_string\u001B[1;34m(sa_string)\u001B[0m\n\u001B[0;32m   1053\u001B[0m \u001B[38;5;28;01mdef\u001B[39;00m \u001B[38;5;21mspace_allocation_from_string\u001B[39m(sa_string):\n\u001B[0;32m   1054\u001B[0m     lane_strings \u001B[38;5;241m=\u001B[39m sa_string\u001B[38;5;241m.\u001B[39msplit(\u001B[38;5;124m'\u001B[39m\u001B[38;5;124m | \u001B[39m\u001B[38;5;124m'\u001B[39m)\n\u001B[1;32m-> 1055\u001B[0m     lanes \u001B[38;5;241m=\u001B[39m [\n\u001B[0;32m   1056\u001B[0m         Lane(s[\u001B[38;5;241m0\u001B[39m], s[\u001B[38;5;241m1\u001B[39m], status\u001B[38;5;241m=\u001B[39ms[\u001B[38;5;241m2\u001B[39m], width\u001B[38;5;241m=\u001B[39mutils\u001B[38;5;241m.\u001B[39msafe_float(s[\u001B[38;5;241m3\u001B[39m:])) \u001B[38;5;28;01mif\u001B[39;00m \u001B[38;5;28mlen\u001B[39m(s) \u001B[38;5;241m>\u001B[39m \u001B[38;5;241m2\u001B[39m\n\u001B[0;32m   1057\u001B[0m         \u001B[38;5;28;01melse\u001B[39;00m Lane(s[\u001B[38;5;241m0\u001B[39m], s[\u001B[38;5;241m1\u001B[39m]) \u001B[38;5;28;01mif\u001B[39;00m \u001B[38;5;28mlen\u001B[39m(s) \u001B[38;5;241m==\u001B[39m \u001B[38;5;241m2\u001B[39m \u001B[38;5;66;03m# fallback for old lane format\u001B[39;00m\n\u001B[0;32m   1058\u001B[0m         \u001B[38;5;28;01melse\u001B[39;00m \u001B[38;5;28;01mNone\u001B[39;00m\n\u001B[0;32m   1059\u001B[0m         \u001B[38;5;28;01mfor\u001B[39;00m s \u001B[38;5;129;01min\u001B[39;00m lane_strings\n\u001B[0;32m   1060\u001B[0m     ]\n\u001B[0;32m   1061\u001B[0m     \u001B[38;5;28;01mreturn\u001B[39;00m SpaceAllocation(lanes)\n",
      "File \u001B[1;32m~\\polybox\\GIT\\github\\snman\\snman\\space_allocation.py:1056\u001B[0m, in \u001B[0;36m<listcomp>\u001B[1;34m(.0)\u001B[0m\n\u001B[0;32m   1053\u001B[0m \u001B[38;5;28;01mdef\u001B[39;00m \u001B[38;5;21mspace_allocation_from_string\u001B[39m(sa_string):\n\u001B[0;32m   1054\u001B[0m     lane_strings \u001B[38;5;241m=\u001B[39m sa_string\u001B[38;5;241m.\u001B[39msplit(\u001B[38;5;124m'\u001B[39m\u001B[38;5;124m | \u001B[39m\u001B[38;5;124m'\u001B[39m)\n\u001B[0;32m   1055\u001B[0m     lanes \u001B[38;5;241m=\u001B[39m [\n\u001B[1;32m-> 1056\u001B[0m         \u001B[43mLane\u001B[49m\u001B[43m(\u001B[49m\u001B[43ms\u001B[49m\u001B[43m[\u001B[49m\u001B[38;5;241;43m0\u001B[39;49m\u001B[43m]\u001B[49m\u001B[43m,\u001B[49m\u001B[43m \u001B[49m\u001B[43ms\u001B[49m\u001B[43m[\u001B[49m\u001B[38;5;241;43m1\u001B[39;49m\u001B[43m]\u001B[49m\u001B[43m,\u001B[49m\u001B[43m \u001B[49m\u001B[43mstatus\u001B[49m\u001B[38;5;241;43m=\u001B[39;49m\u001B[43ms\u001B[49m\u001B[43m[\u001B[49m\u001B[38;5;241;43m2\u001B[39;49m\u001B[43m]\u001B[49m\u001B[43m,\u001B[49m\u001B[43m \u001B[49m\u001B[43mwidth\u001B[49m\u001B[38;5;241;43m=\u001B[39;49m\u001B[43mutils\u001B[49m\u001B[38;5;241;43m.\u001B[39;49m\u001B[43msafe_float\u001B[49m\u001B[43m(\u001B[49m\u001B[43ms\u001B[49m\u001B[43m[\u001B[49m\u001B[38;5;241;43m3\u001B[39;49m\u001B[43m:\u001B[49m\u001B[43m]\u001B[49m\u001B[43m)\u001B[49m\u001B[43m)\u001B[49m \u001B[38;5;28;01mif\u001B[39;00m \u001B[38;5;28mlen\u001B[39m(s) \u001B[38;5;241m>\u001B[39m \u001B[38;5;241m2\u001B[39m\n\u001B[0;32m   1057\u001B[0m         \u001B[38;5;28;01melse\u001B[39;00m Lane(s[\u001B[38;5;241m0\u001B[39m], s[\u001B[38;5;241m1\u001B[39m]) \u001B[38;5;28;01mif\u001B[39;00m \u001B[38;5;28mlen\u001B[39m(s) \u001B[38;5;241m==\u001B[39m \u001B[38;5;241m2\u001B[39m \u001B[38;5;66;03m# fallback for old lane format\u001B[39;00m\n\u001B[0;32m   1058\u001B[0m         \u001B[38;5;28;01melse\u001B[39;00m \u001B[38;5;28;01mNone\u001B[39;00m\n\u001B[0;32m   1059\u001B[0m         \u001B[38;5;28;01mfor\u001B[39;00m s \u001B[38;5;129;01min\u001B[39;00m lane_strings\n\u001B[0;32m   1060\u001B[0m     ]\n\u001B[0;32m   1061\u001B[0m     \u001B[38;5;28;01mreturn\u001B[39;00m SpaceAllocation(lanes)\n",
      "File \u001B[1;32m~\\polybox\\GIT\\github\\snman\\snman\\space_allocation.py:1093\u001B[0m, in \u001B[0;36mLane.__init__\u001B[1;34m(self, lanetype, direction, status, width)\u001B[0m\n\u001B[0;32m   1091\u001B[0m     \u001B[38;5;28mself\u001B[39m\u001B[38;5;241m.\u001B[39mwidth \u001B[38;5;241m=\u001B[39m width\n\u001B[0;32m   1092\u001B[0m \u001B[38;5;28;01melse\u001B[39;00m:\n\u001B[1;32m-> 1093\u001B[0m     \u001B[38;5;28;43mself\u001B[39;49m\u001B[38;5;241;43m.\u001B[39;49m\u001B[43mset_default_width\u001B[49m\u001B[43m(\u001B[49m\u001B[43m)\u001B[49m\n\u001B[0;32m   1094\u001B[0m \u001B[38;5;28mself\u001B[39m\u001B[38;5;241m.\u001B[39mvalid \u001B[38;5;241m=\u001B[39m \u001B[38;5;28;01mTrue\u001B[39;00m\n",
      "File \u001B[1;32m~\\polybox\\GIT\\github\\snman\\snman\\space_allocation.py:1106\u001B[0m, in \u001B[0;36mLane.set_default_width\u001B[1;34m(self)\u001B[0m\n\u001B[0;32m   1105\u001B[0m \u001B[38;5;28;01mdef\u001B[39;00m \u001B[38;5;21mset_default_width\u001B[39m(\u001B[38;5;28mself\u001B[39m):\n\u001B[1;32m-> 1106\u001B[0m     \u001B[38;5;28mself\u001B[39m\u001B[38;5;241m.\u001B[39mwidth \u001B[38;5;241m=\u001B[39m \u001B[43mLANE_TYPES\u001B[49m\u001B[43m[\u001B[49m\u001B[38;5;28;43mself\u001B[39;49m\u001B[38;5;241;43m.\u001B[39;49m\u001B[43mlanetype\u001B[49m\u001B[43m \u001B[49m\u001B[38;5;241;43m+\u001B[39;49m\u001B[43m \u001B[49m\u001B[38;5;28;43mself\u001B[39;49m\u001B[38;5;241;43m.\u001B[39;49m\u001B[43mdirection\u001B[49m\u001B[43m]\u001B[49m[\u001B[38;5;124m'\u001B[39m\u001B[38;5;124mwidth\u001B[39m\u001B[38;5;124m'\u001B[39m]\n",
      "\u001B[1;31mKeyError\u001B[0m: 'na'"
     ]
    }
   ],
   "execution_count": 32
  }
 ],
 "metadata": {
  "kernelspec": {
   "display_name": "Python 3",
   "language": "python",
   "name": "python3"
  },
  "language_info": {
   "codemirror_mode": {
    "name": "ipython",
    "version": 2
   },
   "file_extension": ".py",
   "mimetype": "text/x-python",
   "name": "python",
   "nbconvert_exporter": "python",
   "pygments_lexer": "ipython2",
   "version": "2.7.6"
  }
 },
 "nbformat": 4,
 "nbformat_minor": 0
}
