{
 "cells": [
  {
   "metadata": {},
   "cell_type": "markdown",
   "source": "Preparing on-street parking data - converting polygons into matchable points",
   "id": "d4447092143d6bbf"
  },
  {
   "cell_type": "code",
   "id": "initial_id",
   "metadata": {
    "collapsed": true
   },
   "source": [
    "import warnings\n",
    "warnings.filterwarnings('ignore')\n",
    "\n",
    "\n",
    "import os\n",
    "import shutil\n",
    "\n",
    "import snman\n",
    "from snman.constants import *\n",
    "from snman import osmnx_customized as oxc\n",
    "\n",
    "PERIMETER = 'db'\n",
    "\n",
    "# Set these paths according to your own setup\n",
    "data_directory = os.path.join('C:',os.sep,'Users','lballo','polybox','Research','SNMan','SNMan Shared','data_v2')\n",
    "inputs_path = os.path.join(data_directory, 'inputs')\n",
    "process_path = os.path.join(data_directory, 'process', PERIMETER)\n",
    "export_path = os.path.join(data_directory, 'outputs', PERIMETER)\n",
    "\n",
    "#CRS_internal = 29119    # for Boston\n",
    "#CRS_internal = 32216    # for Chicago\n",
    "CRS_internal = 2056      # for Zurich\n",
    "CRS_for_export = 4326\n",
    "oxc.settings.useful_tags_way = OSM_TAGS"
   ],
   "outputs": [],
   "execution_count": null
  },
  {
   "metadata": {},
   "cell_type": "code",
   "source": [
    "parking = snman.io.import_geofile_to_gdf(\n",
    "    \"C:/Users/lballo/polybox/BUSINESS/PROJECTS/01 Dornbirn GVK/DATA/Parkflächen Erhebung Stadt+OSM.gpkg\"\n",
    ").query(\"typ in ['Parkstreifen', 'Zickzack']\")\n",
    "parking"
   ],
   "id": "ab12bc2d4476d40a",
   "outputs": [],
   "execution_count": null
  },
  {
   "metadata": {},
   "cell_type": "code",
   "source": [
    "import numpy as np\n",
    "import shapely as shp\n",
    "\n",
    "def random_points_in_polygon(polygon, number):\n",
    "    points = []\n",
    "    minx, miny, maxx, maxy = polygon.bounds\n",
    "    while len(points) < number:\n",
    "        pnt = shp.Point(np.random.uniform(minx, maxx), np.random.uniform(miny, maxy))\n",
    "        if polygon.contains(pnt):\n",
    "            points.append(pnt)\n",
    "    return shp.MultiPoint(points)\n",
    "\n",
    "parking.geometry = parking.apply(\n",
    "    lambda row: random_points_in_polygon(row.geometry, row['kapazitaet']),\n",
    "    axis=1\n",
    ")"
   ],
   "id": "a8125eed573e8277",
   "outputs": [],
   "execution_count": null
  },
  {
   "metadata": {},
   "cell_type": "code",
   "source": [
    "parking = parking.explode().reset_index(drop=True)\n",
    "parking"
   ],
   "id": "7968921d81d71bcd",
   "outputs": [],
   "execution_count": null
  },
  {
   "metadata": {},
   "cell_type": "code",
   "source": [
    "snman.io.export_gdf(\n",
    "    parking,\n",
    "    \"C:/Users/lballo/polybox/BUSINESS/PROJECTS/01 Dornbirn GVK/DATA/Parkflächen Erhebung Stadt+OSM_punkte.gpkg\"\n",
    ")"
   ],
   "id": "24fe99ee317a41ad",
   "outputs": [],
   "execution_count": null
  }
 ],
 "metadata": {
  "kernelspec": {
   "display_name": "Python 3",
   "language": "python",
   "name": "python3"
  },
  "language_info": {
   "codemirror_mode": {
    "name": "ipython",
    "version": 2
   },
   "file_extension": ".py",
   "mimetype": "text/x-python",
   "name": "python",
   "nbconvert_exporter": "python",
   "pygments_lexer": "ipython2",
   "version": "2.7.6"
  }
 },
 "nbformat": 4,
 "nbformat_minor": 5
}
