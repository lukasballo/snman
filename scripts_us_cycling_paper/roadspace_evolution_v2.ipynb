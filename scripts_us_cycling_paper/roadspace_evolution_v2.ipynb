{
 "cells": [
  {
   "cell_type": "markdown",
   "source": [
    "Road space evolution\n",
    "====================\n",
    "Reconstructs the road space allocation in a given year"
   ],
   "metadata": {
    "collapsed": false
   },
   "id": "2a4da893a2ea329e"
  },
  {
   "cell_type": "code",
   "id": "initial_id",
   "metadata": {
    "collapsed": true
   },
   "source": [
    "import os\n",
    "import pandas as pd\n",
    "import geopandas as gpd\n",
    "import shapely as shp\n",
    "import snman\n",
    "from snman.constants import *\n",
    "import copy\n",
    "\n",
    "PERIMETER = 'cambridge_extended'\n",
    "\n",
    "# Set these paths according to your own setup\n",
    "data_directory = os.path.join('C:',os.sep,'Users','lballo','polybox','Research','SNMan','SNMan Shared','data_v2')\n",
    "inputs_path = os.path.join(data_directory, 'inputs')\n",
    "process_path = os.path.join(data_directory, 'process', PERIMETER)\n",
    "\n",
    "export_path = os.path.join(data_directory, 'roadspace_evolution', '_debug')\n",
    "\n",
    "CRS_internal = 29119    # for Boston\n",
    "#CRS_internal = 2056      # for Zurich\n",
    "\n",
    "CRS_for_export = 4326"
   ],
   "outputs": [],
   "execution_count": null
  },
  {
   "cell_type": "markdown",
   "source": [
    "Loading data\n",
    "------------\n",
    "Loads the prepared simplified street graph, as well as other datasets such as perimeters, rebuilding regions and measurement regions"
   ],
   "metadata": {
    "collapsed": false
   },
   "id": "e07b86720ffab21e"
  },
  {
   "cell_type": "code",
   "source": [
    "print('Load street graph')\n",
    "G = snman.io.load_street_graph(\n",
    "    os.path.join(process_path, 'street_graph_edges.gpkg'),\n",
    "    os.path.join(process_path, 'street_graph_nodes.gpkg'),\n",
    "    crs=CRS_internal\n",
    ")"
   ],
   "metadata": {
    "collapsed": false
   },
   "id": "cb96ff2fc5561896",
   "outputs": [],
   "execution_count": null
  },
  {
   "cell_type": "code",
   "source": [
    "lane_updates_cleaned_gpd = snman.io.import_geofile_to_gdf(\n",
    "    os.path.join(export_path, 'lane_updates_cleaned.gpkg'),\n",
    "    crs=CRS_internal\n",
    ")\n",
    "\n",
    "# keep only major cycling infra\n",
    "# excluding shared streets and shared lane pavement markings\n",
    "lane_updates_cleaned_gpd = lane_updates_cleaned_gpd.query('BIKE_FAC not in [2,6,7]')\n",
    "lane_updates_cleaned_gpd"
   ],
   "metadata": {
    "collapsed": false
   },
   "id": "62b6bbcf201fd457",
   "outputs": [],
   "execution_count": null
  },
  {
   "cell_type": "code",
   "source": [
    "# MATCH THE MANUAL LANE UPDATES ONTO THE STREET GRAPH\n",
    "\n",
    "for year, lane_key in lane_keys.items():\n",
    "    \n",
    "    print(year)\n",
    "    \n",
    "    for uvk, data in G.edges.items():\n",
    "        data[lane_key] = copy.deepcopy(data[KEY_LANES_DESCRIPTION])\n",
    "    \n",
    "    lanes = gpd.GeoDataFrame(lane_updates_cleaned_gpd.query(f\"from_year <= {year} <= to_year\"))\n",
    "    \n",
    "    lanes_opposite = copy.deepcopy(lanes)\n",
    "    lanes_opposite = lanes_opposite.query('oneway == False')\n",
    "    lanes_opposite.geometry = lanes_opposite.geometry.apply(\n",
    "        lambda geom: shp.ops.substring(geom, 1, 0, normalized=True)\n",
    "    )\n",
    "    \n",
    "    lanes = gpd.GeoDataFrame(pd.concat([lanes, lanes_opposite], ignore_index=True), crs=lanes.crs)\n",
    "\n",
    "    \"\"\"\n",
    "    snman.enrichment.match_lane_edits(G, lanes,\n",
    "        remove_short_overlaps=True,\n",
    "        remove_sidetrips=False,\n",
    "        max_dist=30, max_dist_init=30, max_lattice_width=5,\n",
    "        lanes_key=lane_key\n",
    "    )\n",
    "    \"\"\"\n",
    "    \n",
    "    snman.enrichment.match_linestrings(\n",
    "        G, lanes,\n",
    "        [{'source_column': 'BIKE_FAC', 'target_column': '_factype_' + lane_key, 'agg': 'list'}],\n",
    "        remove_short_overlaps=True,\n",
    "        remove_sidetrips=False,\n",
    "        max_dist=400, max_dist_init=100, max_lattice_width=5,\n",
    "        _save_map=(os.path.join(export_path, '_matching_edges.gpkg'), os.path.join(export_path, '_matching_nodes.gpkg'))\n",
    "    )\n",
    "    "
   ],
   "metadata": {
    "collapsed": false
   },
   "id": "6780d30b7c7b61fb",
   "outputs": [],
   "execution_count": null
  },
  {
   "cell_type": "code",
   "source": [
    "# CALCULATE CHANGE ON EDGES\n",
    "if 1:\n",
    "    for uvk, data in G.edges.items():\n",
    "        \n",
    "        previous_lane_key = None\n",
    "        for year, lane_key in lane_keys.items():\n",
    "            \n",
    "            if previous_lane_key is None:\n",
    "                data['_bike_fac_change_' + lane_key] = 0\n",
    "                \n",
    "            else:\n",
    "            \n",
    "                bike_facilities_previous_year = set(\n",
    "                    data['_factype_' + previous_lane_key + '_forward'] + \n",
    "                    data['_factype_' + previous_lane_key + '_backward']\n",
    "                )\n",
    "                \n",
    "                bike_facilities_this_year = set(\n",
    "                    data['_factype_' + lane_key + '_forward'] + \n",
    "                    data['_factype_' + lane_key + '_backward']\n",
    "                )\n",
    "                \n",
    "                if bike_facilities_this_year != bike_facilities_previous_year:\n",
    "                    data['_bike_fac_change_' + lane_key] = 1\n",
    "                else:\n",
    "                    data['_bike_fac_change_' + lane_key] = 0\n",
    "                \n",
    "            previous_lane_key = lane_key\n",
    "            \n",
    "    edges_df = snman.oxc.graph_to_gdfs(G, nodes=False).assign(x=1)\n",
    "    timeline_df = pd.DataFrame({'year': lane_keys.keys(), 'lanes_key': lane_keys.values()}).assign(x=1)\n",
    "    \n",
    "    changes_df = pd.merge(edges_df, timeline_df, on='x')\n",
    "    \n",
    "    changes_df['change'] = changes_df.apply(lambda row: row['_bike_fac_change_steps_' + str(row['year'])], axis=1)\n",
    "    \n",
    "    changes_df = changes_df.query('change==1')\n",
    "    \n",
    "    changes_df = gpd.GeoDataFrame(changes_df[['osmid', 'year', 'lanes_key', 'change', 'geometry']])\n",
    "    \n",
    "    snman.io.export_gdf(changes_df, os.path.join(export_path, 'edge_changes.gpkg'))"
   ],
   "metadata": {
    "collapsed": false
   },
   "id": "eafe0b8b1c06418d",
   "outputs": [],
   "execution_count": null
  },
  {
   "cell_type": "code",
   "source": "",
   "metadata": {
    "collapsed": false
   },
   "id": "d5b61fb0da0b9086",
   "outputs": [],
   "execution_count": null
  },
  {
   "cell_type": "code",
   "source": "",
   "metadata": {
    "collapsed": false
   },
   "id": "585bf5c4fc7d6ce8",
   "outputs": [],
   "execution_count": null
  },
  {
   "cell_type": "code",
   "source": "",
   "metadata": {
    "collapsed": false
   },
   "id": "240246056ea1ec72",
   "outputs": [],
   "execution_count": null
  },
  {
   "cell_type": "code",
   "source": [
    "if 0:\n",
    "    def cycling_lanes_length(lanes_key):\n",
    "        L = snman.lane_graph.create_lane_graph(H, lanes_key)\n",
    "        return sum(\n",
    "            [\n",
    "                e['length']\n",
    "                for uvk, e\n",
    "                in L.edges.items()\n",
    "                if e['lanetype'] == LANETYPE_CYCLING_LANE and e['width'] > 0\n",
    "            ]\n",
    "        ) / 1000\n",
    "    \n",
    "    def car_lanes_length(lanes_key):\n",
    "        L = snman.lane_graph.create_lane_graph(H, lanes_key)\n",
    "        return sum(\n",
    "            [\n",
    "                e['length']\n",
    "                for uvk, e\n",
    "                in L.edges.items()\n",
    "                if e['lanetype'] == LANETYPE_MOTORIZED and e['width'] > 0\n",
    "            ]\n",
    "        ) / 1000"
   ],
   "metadata": {
    "collapsed": false
   },
   "id": "d4a26a2d6ac800b4",
   "outputs": [],
   "execution_count": null
  },
  {
   "cell_type": "code",
   "source": [
    "# GENERATE METRICS\n",
    "if 0:\n",
    "    import pandas as pd\n",
    "    import copy\n",
    "    \n",
    "    timeline_df = pd.DataFrame()\n",
    "    \n",
    "    for name, data in measurement_regions_gdf.iterrows():\n",
    "        \n",
    "        polygon = data.geometry\n",
    "        H = snman.oxc.truncate.truncate_graph_polygon(G, polygon, quadrat_width=100, retain_all=True)\n",
    "        \n",
    "        timeline_df_one_region = pd.DataFrame({'year': lane_keys.keys(), 'lanes_key': lane_keys.values()})\n",
    "        timeline_df_one_region['measurement_region_name'] = name\n",
    "        timeline_df_one_region['cycling_lanes_length'] = timeline_df_one_region['lanes_key'].apply(cycling_lanes_length)\n",
    "        timeline_df_one_region['change_metric'] = timeline_df_one_region['cycling_lanes_length'].diff().fillna(0)\n",
    "        \n",
    "        #print(timeline_df_one_region)\n",
    "        \n",
    "        timeline_df = pd.concat([timeline_df, timeline_df_one_region], axis=0, ignore_index=True)\n",
    "        \n",
    "        timeline_gdf = gpd.GeoDataFrame(\n",
    "            pd.merge(timeline_df, measurement_regions_gdf, left_on='measurement_region_name', right_index=True, how='left')\n",
    "        )  \n",
    "        \n",
    "        snman.io.export_gdf(timeline_gdf, os.path.join(export_path, 'timeline.gpkg'))"
   ],
   "metadata": {
    "collapsed": false
   },
   "id": "8abfb74a5b36418f",
   "outputs": [],
   "execution_count": null
  },
  {
   "cell_type": "code",
   "source": "",
   "metadata": {
    "collapsed": false
   },
   "id": "851fe67e2961eb89",
   "outputs": [],
   "execution_count": null
  },
  {
   "cell_type": "code",
   "source": "",
   "metadata": {
    "collapsed": false
   },
   "id": "19b7ed131998fccc",
   "outputs": [],
   "execution_count": null
  },
  {
   "cell_type": "code",
   "source": [
    "pd.DataFrame(projects_gdf.groupby('bike_facility').agg({'bike_facility_color': 'first', 'bike_facility_name': 'first'}).reset_index())"
   ],
   "metadata": {
    "collapsed": false
   },
   "id": "ba57c4df493d377d",
   "outputs": [],
   "execution_count": null
  },
  {
   "cell_type": "markdown",
   "source": [
    "Export\n",
    "------\n",
    "Saves the resulting datasets to the disk. Use the *snman_detailed.qgz* file to view them in QGIS."
   ],
   "metadata": {
    "collapsed": false
   },
   "id": "dba46285410c3462"
  },
  {
   "cell_type": "code",
   "source": [
    "if 1:\n",
    "    print('Export network without lanes')\n",
    "    snman.io.export_street_graph(\n",
    "        G,\n",
    "        os.path.join(export_path, 'street_graph_edges.gpkg'),\n",
    "        os.path.join(export_path, 'street_graph_nodes.gpkg'),\n",
    "        crs=CRS_for_export,\n",
    "        lane_keys=[KEY_LANES_DESCRIPTION, KEY_GIVEN_LANES_DESCRIPTION, KEY_LANES_DESCRIPTION_AFTER] + list(lane_keys.values())\n",
    "    )\n",
    "\n",
    "if 0:\n",
    "    print('Export lane geometries')\n",
    "    SCALING = 1\n",
    "    snman.io.export_street_graph_with_lanes(\n",
    "        G,\n",
    "        list(lane_keys.values()),\n",
    "        os.path.join(export_path, 'lane_geometries.shp'),\n",
    "        scaling=SCALING,\n",
    "        crs=CRS_for_export\n",
    "    )"
   ],
   "metadata": {
    "collapsed": false
   },
   "id": "c0195fc9d05df2d5",
   "outputs": [],
   "execution_count": null
  }
 ],
 "metadata": {
  "kernelspec": {
   "display_name": "Python 3",
   "language": "python",
   "name": "python3"
  },
  "language_info": {
   "codemirror_mode": {
    "name": "ipython",
    "version": 2
   },
   "file_extension": ".py",
   "mimetype": "text/x-python",
   "name": "python",
   "nbconvert_exporter": "python",
   "pygments_lexer": "ipython2",
   "version": "2.7.6"
  }
 },
 "nbformat": 4,
 "nbformat_minor": 5
}
