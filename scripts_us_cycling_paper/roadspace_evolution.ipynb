{
 "cells": [
  {
   "cell_type": "markdown",
   "source": [
    "Road space evolution\n",
    "====================\n",
    "Reconstructs the road space allocation in a given year"
   ],
   "metadata": {
    "collapsed": false
   },
   "id": "2a4da893a2ea329e"
  },
  {
   "cell_type": "code",
   "id": "initial_id",
   "metadata": {
    "collapsed": true
   },
   "source": [
    "import os\n",
    "import pandas as pd\n",
    "import geopandas as gpd\n",
    "import snman\n",
    "from snman.constants import *\n",
    "\n",
    "PERIMETER = 'cambridge_extended'\n",
    "\n",
    "# Set these paths according to your own setup\n",
    "data_directory = os.path.join('C:',os.sep,'Users','lballo','polybox','Research','SNMan','SNMan Shared','data_v2')\n",
    "inputs_path = os.path.join(data_directory, 'inputs')\n",
    "process_path = os.path.join(data_directory, 'process', PERIMETER)\n",
    "\n",
    "export_path = os.path.join(data_directory, 'roadspace_evolution', '_debug')\n",
    "\n",
    "CRS_internal = 29119    # for Boston\n",
    "#CRS_internal = 2056      # for Zurich\n",
    "\n",
    "CRS_for_export = 4326"
   ],
   "outputs": [],
   "execution_count": null
  },
  {
   "cell_type": "markdown",
   "source": [
    "Loading data\n",
    "------------\n",
    "Loads the prepared simplified street graph, as well as other datasets such as perimeters, rebuilding regions and measurement regions"
   ],
   "metadata": {
    "collapsed": false
   },
   "id": "e07b86720ffab21e"
  },
  {
   "cell_type": "code",
   "source": [
    "print('Load street graph')\n",
    "G = snman.io.load_street_graph(\n",
    "    os.path.join(process_path, 'street_graph_edges.gpkg'),\n",
    "    os.path.join(process_path, 'street_graph_nodes.gpkg'),\n",
    "    crs=CRS_internal\n",
    ")"
   ],
   "metadata": {
    "collapsed": false
   },
   "id": "cb96ff2fc5561896",
   "outputs": [],
   "execution_count": null
  },
  {
   "cell_type": "code",
   "source": [
    "lane_updates_cleaned_gpd = snman.io.import_geofile_to_gdf(\n",
    "    os.path.join(export_path, 'lane_updates_cleaned.gpkg'),\n",
    "    crs=CRS_internal\n",
    ")\n",
    "\n",
    "# keep only major cycling infra\n",
    "# excluding shared streets and shared lane pavement markings\n",
    "lane_updates_cleaned_gpd = lane_updates_cleaned_gpd.query('BIKE_FAC not in [2,6,7]')\n",
    "lane_updates_cleaned_gpd"
   ],
   "metadata": {
    "collapsed": false
   },
   "id": "62b6bbcf201fd457",
   "outputs": [],
   "execution_count": null
  },
  {
   "cell_type": "code",
   "source": [
    "#G = snman.street_graph.filter_lanes_by_modes(G, [MODE_PRIVATE_CARS, MODE_TRANSIT], delete_empty_edges=False)"
   ],
   "metadata": {
    "collapsed": false
   },
   "id": "681a975a4634831e",
   "outputs": [],
   "execution_count": null
  },
  {
   "cell_type": "code",
   "source": [
    "path = os.path.join(inputs_path, 'usa', 'cambridge', 'BikeFacilities_by_year', 'metadata', 'BIKE_FAC Lookup.csv')\n",
    "bike_fac_names = pd.read_csv(path)"
   ],
   "metadata": {
    "collapsed": false
   },
   "id": "28a29a2ea0612bef",
   "outputs": [],
   "execution_count": null
  },
  {
   "cell_type": "code",
   "source": [
    "# IMPORT CYCLING FACILITIES IN EACH YEAR AND CREATE THE LN_DESC KEY FOR EVERY YEAR\n",
    "path = os.path.join(inputs_path, 'usa', 'cambridge', 'BikeFacilities_by_year', 'geojson_selected')\n",
    "lane_updates = gpd.GeoDataFrame()\n",
    "\n",
    "lane_keys = {}\n",
    "\n",
    "for filename in os.listdir(path):\n",
    "    \n",
    "    file_path = os.path.join(path, filename)\n",
    "    if not os.path.isfile(file_path):\n",
    "        continue\n",
    "    bike_facilities = snman.io.import_geofile_to_gdf(file_path, crs=CRS_internal)\n",
    "    #bike_facilities = bike_facilities.query(\"BIKE_FAC in [1,5,4,8,9,11,12,41,42,81,82,83,84,92,91]\")\n",
    "    \n",
    "    lane_update = gpd.GeoDataFrame(bike_facilities.geometry)\n",
    "    # extract the year from the file name\n",
    "    year = int(filename[14:18])\n",
    "    lane_update['from_year'] = year\n",
    "    lane_update['to_year'] = year\n",
    "    lane_keys[year] = 'steps_' + str(year)\n",
    "    lane_update['add_lanes'] = lane_update.apply(lambda row: 'L-', axis=1)\n",
    "    lane_update['BIKE_FAC'] = bike_facilities['BIKE_FAC']\n",
    "    lane_updates = pd.concat([lane_updates, lane_update], ignore_index=True)\n",
    "    \n",
    "\n",
    "# prepare the resulting lane updates\n",
    "import shapely as shp\n",
    "lane_updates.geometry = lane_updates.geometry.apply(\n",
    "    lambda geom: shp.ops.linemerge(\n",
    "        snman.geometry_tools.ensure_multilinestring(geom)\n",
    "    )\n",
    ")\n",
    "gdf_lines = lane_updates.explode()\n",
    "gdf_lines.reset_index(drop=True, inplace=True)"
   ],
   "metadata": {
    "collapsed": false
   },
   "id": "d573f5bc96a40ebf",
   "outputs": [],
   "execution_count": null
  },
  {
   "cell_type": "code",
   "source": [
    "lane_updates = pd.merge(lane_updates, bike_fac_names, on='BIKE_FAC', how='left').reset_index(drop=True)\n",
    "lane_updates = gpd.GeoDataFrame(lane_updates)\n",
    "snman.io.export_gdf(lane_updates, os.path.join(export_path, 'lane_updates.gpkg'))"
   ],
   "metadata": {
    "collapsed": false
   },
   "id": "e6686a3d742f27a8",
   "outputs": [],
   "execution_count": null
  },
  {
   "cell_type": "code",
   "source": [
    "# MATCH THE LANE UPDATES ONTO THE STREET GRAPH\n",
    "\n",
    "import copy\n",
    "import geopandas as gpd\n",
    "import shapely as shp\n",
    "\n",
    "for year, lane_key in lane_keys.items():\n",
    "    \n",
    "    print(year)\n",
    "    \n",
    "    for uvk, data in G.edges.items():\n",
    "        data[lane_key] = copy.deepcopy(data[KEY_LANES_DESCRIPTION])\n",
    "    \n",
    "    lanes = gpd.GeoDataFrame(lane_updates_cleaned_gpd.query(f\"from_year <= {year} <= to_year\"))\n",
    "    \n",
    "    lanes_opposite = copy.deepcopy(lanes)\n",
    "    lanes_opposite = lanes_opposite.query('oneway == False')\n",
    "    lanes_opposite.geometry = lanes_opposite.geometry.apply(\n",
    "        lambda geom: shp.ops.substring(geom, 1, 0, normalized=True)\n",
    "    )\n",
    "    \n",
    "    lanes = gpd.GeoDataFrame(pd.concat([lanes, lanes_opposite], ignore_index=True), crs=lanes.crs)\n",
    "\n",
    "    \"\"\"\n",
    "    snman.enrichment.match_lane_edits(G, lanes,\n",
    "        remove_short_overlaps=True,\n",
    "        remove_sidetrips=False,\n",
    "        max_dist=30, max_dist_init=30, max_lattice_width=5,\n",
    "        lanes_key=lane_key\n",
    "    )\n",
    "    \"\"\"\n",
    "    \n",
    "    snman.enrichment.match_linestrings(\n",
    "        G, lanes,\n",
    "        [{'source_column': 'BIKE_FAC', 'target_column': '_factype_' + lane_key, 'agg': 'list'}],\n",
    "        remove_short_overlaps=True,\n",
    "        remove_sidetrips=False,\n",
    "        max_dist=400, max_dist_init=100, max_lattice_width=5,\n",
    "        _save_map=(os.path.join(export_path, '_matching_edges.gpkg'), os.path.join(export_path, '_matching_nodes.gpkg'))\n",
    "    )\n",
    "    "
   ],
   "metadata": {
    "collapsed": false
   },
   "id": "6780d30b7c7b61fb",
   "outputs": [],
   "execution_count": null
  },
  {
   "cell_type": "code",
   "source": [
    "# CALCULATE CHANGE ON EDGES\n",
    "if 1:\n",
    "    for uvk, data in G.edges.items():\n",
    "        \n",
    "        previous_lane_key = None\n",
    "        for year, lane_key in lane_keys.items():\n",
    "            \n",
    "            if previous_lane_key is None:\n",
    "                data['_bike_fac_change_' + lane_key] = 0\n",
    "                \n",
    "            else:\n",
    "            \n",
    "                bike_facilities_previous_year = set(\n",
    "                    data['_factype_' + previous_lane_key + '_forward'] + \n",
    "                    data['_factype_' + previous_lane_key + '_backward']\n",
    "                )\n",
    "                \n",
    "                bike_facilities_this_year = set(\n",
    "                    data['_factype_' + lane_key + '_forward'] + \n",
    "                    data['_factype_' + lane_key + '_backward']\n",
    "                )\n",
    "                \n",
    "                if bike_facilities_this_year != bike_facilities_previous_year:\n",
    "                    data['_bike_fac_change_' + lane_key] = 1\n",
    "                else:\n",
    "                    data['_bike_fac_change_' + lane_key] = 0\n",
    "                \n",
    "            previous_lane_key = lane_key\n",
    "            \n",
    "    edges_df = snman.oxc.graph_to_gdfs(G, nodes=False).assign(x=1)\n",
    "    timeline_df = pd.DataFrame({'year': lane_keys.keys(), 'lanes_key': lane_keys.values()}).assign(x=1)\n",
    "    \n",
    "    changes_df = pd.merge(edges_df, timeline_df, on='x')\n",
    "    \n",
    "    changes_df['change'] = changes_df.apply(lambda row: row['_bike_fac_change_steps_' + str(row['year'])], axis=1)\n",
    "    \n",
    "    changes_df = changes_df.query('change==1')\n",
    "    \n",
    "    changes_df = gpd.GeoDataFrame(changes_df[['osmid', 'year', 'lanes_key', 'change', 'geometry']])\n",
    "    \n",
    "    snman.io.export_gdf(changes_df, os.path.join(export_path, 'edge_changes.gpkg'))"
   ],
   "metadata": {
    "collapsed": false
   },
   "id": "eafe0b8b1c06418d",
   "outputs": [],
   "execution_count": null
  },
  {
   "cell_type": "code",
   "source": [
    "# CATEGORIZE PROJECTS ACCORDING TO INTERVIEW MATRIX"
   ],
   "metadata": {
    "collapsed": false
   },
   "id": "d5b61fb0da0b9086",
   "outputs": [],
   "execution_count": null
  },
  {
   "cell_type": "code",
   "source": [
    "#CHECK IF LINKS ARE PART OF THE PLANNED NETWORK\n",
    "\n",
    "# Load the Cycling Safety Ordinance (CSO) network\n",
    "cso_gpkg = snman.io.import_geofile_to_gdf(\n",
    "    os.path.join(inputs_path, 'usa/cambridge/CSO/cso.gpkg'),\n",
    "    crs=CRS_internal\n",
    ")\n",
    "\n",
    "# Match the SCO onto the street graph\n",
    "snman.enrichment.match_linestrings(\n",
    "    G, cso_gpkg,\n",
    "    [{'source_column': 'type', 'target_column': '_cso_type', 'agg': 'list'}],\n",
    "    remove_short_overlaps=True,\n",
    "    remove_sidetrips=False,\n",
    "    max_dist=400, max_dist_init=100, max_lattice_width=5\n",
    ")\n",
    "\n",
    "for uvk, data in G.edges.items():\n",
    "    if 'mass_ave_4' in data['_cso_type_forward'] + data['_cso_type_backward']:\n",
    "        data['cso_type'] = 'mass_ave_4'\n",
    "    elif 'mass_ave_rest' in data['_cso_type_forward'] + data['_cso_type_backward']:\n",
    "        data['cso_type'] = 'mass_ave_rest'\n",
    "    elif 'special_4' in data['_cso_type_forward'] + data['_cso_type_backward']:\n",
    "        data['cso_type'] = 'special_4'\n",
    "    elif 'other' in data['_cso_type_forward'] + data['_cso_type_backward']:\n",
    "        data['cso_type'] = 'other'\n",
    "    else:\n",
    "        data['cso_type'] = 'none'\n",
    "    "
   ],
   "metadata": {
    "collapsed": false
   },
   "id": "585bf5c4fc7d6ce8",
   "outputs": [],
   "execution_count": null
  },
  {
   "cell_type": "code",
   "source": [
    "# CHECK IF SEPARATED INFRASTRUCTURE IS IMPLEMENTED\n",
    "factypes_separated_bikelanes = {4,8,84,83}\n",
    "for uvk, data in G.edges.items():\n",
    "    # Check if separated bike lanes are implemented\n",
    "    #separated_bikelanes_implemented = factypes_separated_bikelanes in data['_factype_steps_2023_forward']\n",
    "    #print([data['_factype_' + key + '_forward'] for key in lane_keys])\n",
    "    #print(data['_factype_steps_2023_forward'])\n",
    "    results = []\n",
    "    for key in ['_factype_steps_2023_forward', '_factype_steps_2023_backward']:\n",
    "        facilities = data[key]\n",
    "        # unstringify the list\n",
    "        facilities = facilities.strip('][').split(',')\n",
    "        facilities = [int(float(facility)) for facility in facilities if len(facility) > 0]\n",
    "        print(facilities)\n",
    "        direction_has_separated_bikelanes = len(set(facilities) & factypes_separated_bikelanes) > 0\n",
    "        #print(set(facilities) & factypes_separated_bikelanes)\n",
    "        results += [direction_has_separated_bikelanes]\n",
    "        \n",
    "    data['has_separated_bikelanes'] = any(results)\n",
    "    if all(results):\n",
    "        data['has_separated_bikelanes'] = 'both_directions'\n",
    "    elif results[0] == True:\n",
    "        data['has_separated_bikelanes'] = 'only_forward'\n",
    "    elif results[1] == True:\n",
    "        data['has_separated_bikelanes'] = 'only_backward'\n",
    "    else:\n",
    "        data['has_separated_bikelanes'] = 'no'\n",
    "    \n",
    "    "
   ],
   "metadata": {
    "collapsed": false
   },
   "id": "240246056ea1ec72",
   "outputs": [],
   "execution_count": null
  },
  {
   "cell_type": "code",
   "source": [
    "if 0:\n",
    "    def cycling_lanes_length(lanes_key):\n",
    "        L = snman.lane_graph.create_lane_graph(H, lanes_key)\n",
    "        return sum(\n",
    "            [\n",
    "                e['length']\n",
    "                for uvk, e\n",
    "                in L.edges.items()\n",
    "                if e['lanetype'] == LANETYPE_CYCLING_LANE and e['width'] > 0\n",
    "            ]\n",
    "        ) / 1000\n",
    "    \n",
    "    def car_lanes_length(lanes_key):\n",
    "        L = snman.lane_graph.create_lane_graph(H, lanes_key)\n",
    "        return sum(\n",
    "            [\n",
    "                e['length']\n",
    "                for uvk, e\n",
    "                in L.edges.items()\n",
    "                if e['lanetype'] == LANETYPE_MOTORIZED and e['width'] > 0\n",
    "            ]\n",
    "        ) / 1000"
   ],
   "metadata": {
    "collapsed": false
   },
   "id": "d4a26a2d6ac800b4",
   "outputs": [],
   "execution_count": null
  },
  {
   "cell_type": "code",
   "source": [
    "# GENERATE METRICS\n",
    "if 0:\n",
    "    import pandas as pd\n",
    "    import copy\n",
    "    \n",
    "    timeline_df = pd.DataFrame()\n",
    "    \n",
    "    for name, data in measurement_regions_gdf.iterrows():\n",
    "        \n",
    "        polygon = data.geometry\n",
    "        H = snman.oxc.truncate.truncate_graph_polygon(G, polygon, quadrat_width=100, retain_all=True)\n",
    "        \n",
    "        timeline_df_one_region = pd.DataFrame({'year': lane_keys.keys(), 'lanes_key': lane_keys.values()})\n",
    "        timeline_df_one_region['measurement_region_name'] = name\n",
    "        timeline_df_one_region['cycling_lanes_length'] = timeline_df_one_region['lanes_key'].apply(cycling_lanes_length)\n",
    "        timeline_df_one_region['change_metric'] = timeline_df_one_region['cycling_lanes_length'].diff().fillna(0)\n",
    "        \n",
    "        #print(timeline_df_one_region)\n",
    "        \n",
    "        timeline_df = pd.concat([timeline_df, timeline_df_one_region], axis=0, ignore_index=True)\n",
    "        \n",
    "        timeline_gdf = gpd.GeoDataFrame(\n",
    "            pd.merge(timeline_df, measurement_regions_gdf, left_on='measurement_region_name', right_index=True, how='left')\n",
    "        )  \n",
    "        \n",
    "        snman.io.export_gdf(timeline_gdf, os.path.join(export_path, 'timeline.gpkg'))"
   ],
   "metadata": {
    "collapsed": false
   },
   "id": "8abfb74a5b36418f",
   "outputs": [],
   "execution_count": null
  },
  {
   "cell_type": "code",
   "source": "",
   "metadata": {
    "collapsed": false
   },
   "id": "851fe67e2961eb89",
   "outputs": [],
   "execution_count": null
  },
  {
   "cell_type": "code",
   "source": [
    "import matplotlib.pyplot as plt\n",
    "import textwrap\n",
    "from matplotlib.lines import Line2D\n",
    "\n",
    "projects_gdf['x'] = projects_gdf['year_from'] + 0.5\n",
    "\n",
    "plt.rcParams['font.size'] = 8\n",
    "\n",
    "fig, ax = plt.subplots(figsize=(20, 5))\n",
    "\n",
    "ax.set_xlabel('Year')\n",
    "ax.set_ylabel('Category')\n",
    "\n",
    "ax.set_xlim([2004, 2029])\n",
    "ax.set_ylim([0, 10])\n",
    "\n",
    "for index, row in projects_gdf.iterrows():\n",
    "    marker_width = row['length_m'] / 2500\n",
    "    for direction in [0,1]:\n",
    "        offset = 0.1 * direction\n",
    "        ax.add_line(\n",
    "            Line2D(\n",
    "                [row['x'] - marker_width / 2, row['x'] + marker_width / 2],\n",
    "                [row['y'] + offset, row['y'] + offset],\n",
    "                color=row['bike_facility_color'],\n",
    "                lw=1.5, label='One'\n",
    "            )\n",
    "        )\n",
    "        if row['only_one_direction'] == True:\n",
    "            break\n",
    "\n",
    "for i, label in enumerate(projects_gdf['name']):\n",
    "    ax.annotate('\\n'.join(textwrap.wrap(textwrap.shorten(label, 30, placeholder='...'), width=13)), (projects_gdf['x'][i], projects_gdf['y'][i]+0), textcoords=\"offset points\", xytext=(0,-3), ha='center', va='top', fontsize='6')\n",
    "\n",
    "for index, row in grouped_df.iterrows():\n",
    "    if index in {'none', 'other', 'mass_ave_rest', 'mass_ave_4'}:\n",
    "        ax.axhline(y=row['y_min'], color='gray', linestyle=':', label='Threshold', linewidth=0.3)\n",
    "    else:\n",
    "        ax.axhline(y=row['y_min'], color='black', linestyle='--', label='Threshold', linewidth=0.5)\n",
    "\n",
    "x_milestones = {2020: 'Amended CSO', 2024: 'Now'}\n",
    "\n",
    "for x, name in x_milestones.items():\n",
    "    ax.axvline(x=x, color='black', linestyle='--', linewidth=0.5)\n",
    "\n",
    "ax.set_yticks(grouped_df['y_min'], grouped_df['fullname'].apply(lambda x: '\\n'.join(textwrap.wrap(x, 10) + [' '])), va='bottom')  # Adjust the tick positions and labels\n",
    "y_ticks = range(int(min(projects_gdf['year_from'])), 2025)\n",
    "ax.set_xticks(y_ticks)\n",
    "\n",
    "legend_elements = [\n",
    "    Line2D([0], [0], color='b', lw=2, label='One'),\n",
    "    Line2D([0], [0], color='r', lw=2, label='Tro')\n",
    "]\n",
    "\n",
    "legend_df = pd.DataFrame(projects_gdf.groupby('bike_facility').agg({'bike_facility_color': 'first', 'bike_facility_name': 'first'}))\n",
    "\n",
    "legend_elements = [\n",
    "    Line2D([0], [0], color=row['bike_facility_color'], lw=2, label=row['bike_facility_name'])\n",
    "    for index, row\n",
    "    in legend_df.iterrows()\n",
    "]\n",
    "\n",
    "ax.legend(handles=legend_elements, loc='upper left')\n",
    "\n",
    "plt.savefig('scatter_plot_custom_dpi.png', dpi=300) "
   ],
   "metadata": {
    "collapsed": false
   },
   "id": "19b7ed131998fccc",
   "outputs": [],
   "execution_count": null
  },
  {
   "cell_type": "code",
   "source": [
    "pd.DataFrame(projects_gdf.groupby('bike_facility').agg({'bike_facility_color': 'first', 'bike_facility_name': 'first'}).reset_index())"
   ],
   "metadata": {
    "collapsed": false
   },
   "id": "ba57c4df493d377d",
   "outputs": [],
   "execution_count": null
  },
  {
   "cell_type": "markdown",
   "source": [
    "Export\n",
    "------\n",
    "Saves the resulting datasets to the disk. Use the *snman_detailed.qgz* file to view them in QGIS."
   ],
   "metadata": {
    "collapsed": false
   },
   "id": "dba46285410c3462"
  },
  {
   "cell_type": "code",
   "source": [
    "if 1:\n",
    "    print('Export network without lanes')\n",
    "    snman.io.export_street_graph(\n",
    "        G,\n",
    "        os.path.join(export_path, 'street_graph_edges.gpkg'),\n",
    "        os.path.join(export_path, 'street_graph_nodes.gpkg'),\n",
    "        crs=CRS_for_export,\n",
    "        lane_keys=[KEY_LANES_DESCRIPTION, KEY_GIVEN_LANES_DESCRIPTION, KEY_LANES_DESCRIPTION_AFTER] + list(lane_keys.values())\n",
    "    )\n",
    "\n",
    "if 0:\n",
    "    print('Export lane geometries')\n",
    "    SCALING = 1\n",
    "    snman.io.export_street_graph_with_lanes(\n",
    "        G,\n",
    "        list(lane_keys.values()),\n",
    "        os.path.join(export_path, 'lane_geometries.shp'),\n",
    "        scaling=SCALING,\n",
    "        crs=CRS_for_export\n",
    "    )"
   ],
   "metadata": {
    "collapsed": false
   },
   "id": "c0195fc9d05df2d5",
   "outputs": [],
   "execution_count": null
  }
 ],
 "metadata": {
  "kernelspec": {
   "display_name": "Python 3",
   "language": "python",
   "name": "python3"
  },
  "language_info": {
   "codemirror_mode": {
    "name": "ipython",
    "version": 2
   },
   "file_extension": ".py",
   "mimetype": "text/x-python",
   "name": "python",
   "nbconvert_exporter": "python",
   "pygments_lexer": "ipython2",
   "version": "2.7.6"
  }
 },
 "nbformat": 4,
 "nbformat_minor": 5
}
