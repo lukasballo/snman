{
 "cells": [
  {
   "cell_type": "code",
   "id": "initial_id",
   "metadata": {
    "collapsed": true,
    "ExecuteTime": {
     "end_time": "2024-07-16T17:15:44.308687Z",
     "start_time": "2024-07-16T17:15:41.754062Z"
    }
   },
   "source": [
    "import geopandas\n",
    "import r5py\n",
    "import shapely\n",
    "import pandas as pd\n",
    "import geopandas as gpd\n",
    "import numpy as np\n",
    "import datetime\n",
    "\n",
    "import os\n",
    "import snman\n",
    "from snman import osmnx_customized as oxc\n",
    "from snman.constants import *\n",
    "\n",
    "PERIMETER = '_accessibility_debug'\n",
    "\n",
    "# Set these paths according to your own setup\n",
    "data_directory = os.path.join('C:',os.sep,'Users','lballo','polybox','Research','SNMan','SNMan Shared','data_v2')\n",
    "inputs_path = os.path.join(data_directory, 'inputs')\n",
    "process_path = os.path.join(data_directory, 'process', PERIMETER)\n",
    "outputs_path = os.path.join(data_directory, 'outputs', PERIMETER)\n",
    "\n",
    "CRS_internal = 2056      # for Zurich"
   ],
   "outputs": [
    {
     "name": "stderr",
     "output_type": "stream",
     "text": [
      "C:\\Users\\lballo\\AppData\\Roaming\\Python\\Python39\\site-packages\\osmnx\\utils.py:192: UserWarning: The `utils.config` function is deprecated and will be removed in a future release. Instead, use the `settings` module directly to configure a global setting's value. For example, `ox.settings.log_console=True`.\n",
      "  warnings.warn(\n"
     ]
    }
   ],
   "execution_count": 1
  },
  {
   "metadata": {
    "ExecuteTime": {
     "end_time": "2024-07-16T17:15:46.279460Z",
     "start_time": "2024-07-16T17:15:46.008188Z"
    }
   },
   "cell_type": "code",
   "source": [
    "# Import Statent grid\n",
    "statent = gpd.read_parquet(\n",
    "    os.path.join(inputs_path, 'switzerland', 'switzerland', 'statent', 'STATENT_2021_ebc_10_reduced_fields.gzip')\n",
    ")\n",
    "statent.rename(columns={'RELI': 'id'}, inplace=True)\n",
    "#statent"
   ],
   "id": "dad58c272587f9ce",
   "outputs": [],
   "execution_count": 2
  },
  {
   "metadata": {
    "ExecuteTime": {
     "end_time": "2024-07-16T22:13:21.168579Z",
     "start_time": "2024-07-16T22:13:11.863696Z"
    }
   },
   "cell_type": "code",
   "source": [
    "print('read transport network car')\n",
    "transport_network_car_before = r5py.TransportNetwork(\n",
    "    os.path.join(outputs_path, 'tt_car_before.osm.pbf'),\n",
    ")\n",
    "\n",
    "transport_network_car_after = r5py.TransportNetwork(\n",
    "    os.path.join(outputs_path, 'tt_car_after.osm.pbf'),\n",
    ")"
   ],
   "id": "ee266aad9ed4fbd7",
   "outputs": [
    {
     "name": "stdout",
     "output_type": "stream",
     "text": [
      "read transport network car\n"
     ]
    }
   ],
   "execution_count": 48
  },
  {
   "metadata": {
    "ExecuteTime": {
     "end_time": "2024-07-16T22:14:15.919515Z",
     "start_time": "2024-07-16T22:14:15.759482Z"
    }
   },
   "cell_type": "code",
   "source": [
    "# filter statent for cells within distance limit\n",
    "from_id, to_id = (68232483, 68232484)\n",
    "\n",
    "origins = geopandas.GeoDataFrame(\n",
    "    {\n",
    "        \"id\": [from_id],\n",
    "        #\"geometry\": [statent.set_index('id').geometry[from_id]]\n",
    "        \"geometry\": shapely.Point(2680843, 1249291)\n",
    "    },\n",
    "    crs=\"EPSG:2056\"\n",
    ")\n",
    "\n",
    "destinations = geopandas.GeoDataFrame(\n",
    "    {\n",
    "        \"id\": [to_id],\n",
    "        #\"geometry\": [statent.set_index('id').geometry[to_id]]\n",
    "        \"geometry\": shapely.Point(2681956, 1249512)\n",
    "    },\n",
    "    crs=\"EPSG:2056\"\n",
    ")\n",
    "\n",
    "tt_computer = r5py.DetailedItinerariesComputer(\n",
    "    transport_network_car_before,\n",
    "    transport_modes=[r5py.TransportMode.CAR],\n",
    "    origins=origins,\n",
    "    destinations=destinations,\n",
    "    departure=datetime.datetime(2024, 2, 22, 8, 30),\n",
    "    \n",
    ")\n",
    "tt_matrix = tt_computer.compute_travel_details()\n",
    "\n",
    "for key in ['transport_mode', 'travel_time']:\n",
    "    tt_matrix[key] = tt_matrix[key].astype(str)\n",
    "\n",
    "snman.io.export_gdf(\n",
    "    tt_matrix,\n",
    "    os.path.join(outputs_path, 'routes.gpkg')\n",
    ")"
   ],
   "id": "abd12904ffc50c4e",
   "outputs": [
    {
     "ename": "AttributeError",
     "evalue": "'RegionalTask' object has no attribute 'fromLon'",
     "output_type": "error",
     "traceback": [
      "\u001B[1;31m---------------------------------------------------------------------------\u001B[0m",
      "\u001B[1;31m_RemoteTraceback\u001B[0m                          Traceback (most recent call last)",
      "\u001B[1;31m_RemoteTraceback\u001B[0m: \n\"\"\"\nTraceback (most recent call last):\n  File \"StreetRouter.java\", line 753, in com.conveyal.r5.streets.StreetRouter.getState\nException: Java Exception\n\nThe above exception was the direct cause of the following exception:\n\nTraceback (most recent call last):\n  File \"C:\\Users\\lballo\\AppData\\Local\\miniconda3\\envs\\snman\\lib\\site-packages\\r5py\\r5\\trip_planner.py\", line 132, in direct_paths\n    router_state = street_router.getState(\njava.lang.java.lang.NullPointerException: java.lang.NullPointerException\n\nDuring handling of the above exception, another exception occurred:\n\nTraceback (most recent call last):\n  File \"C:\\Users\\lballo\\AppData\\Local\\miniconda3\\envs\\snman\\lib\\site-packages\\joblib\\_utils.py\", line 72, in __call__\n    return self.func(**kwargs)\n  File \"C:\\Users\\lballo\\AppData\\Local\\miniconda3\\envs\\snman\\lib\\site-packages\\joblib\\parallel.py\", line 598, in __call__\n    return [func(*args, **kwargs)\n  File \"C:\\Users\\lballo\\AppData\\Local\\miniconda3\\envs\\snman\\lib\\site-packages\\joblib\\parallel.py\", line 598, in <listcomp>\n    return [func(*args, **kwargs)\n  File \"C:\\Users\\lballo\\AppData\\Local\\miniconda3\\envs\\snman\\lib\\site-packages\\r5py\\r5\\detailed_itineraries_computer.py\", line 200, in _travel_details_per_od_pair\n    trips = trip_planner.trips\n  File \"C:\\Users\\lballo\\AppData\\Local\\miniconda3\\envs\\snman\\lib\\site-packages\\r5py\\r5\\trip_planner.py\", line 82, in trips\n    trips = self.direct_paths + self.transit_paths\n  File \"C:\\Users\\lballo\\AppData\\Local\\miniconda3\\envs\\snman\\lib\\site-packages\\r5py\\r5\\trip_planner.py\", line 149, in direct_paths\n    f\"({self.request.fromLon}, {self.request.fromLat}) \"\nAttributeError: 'RegionalTask' object has no attribute 'fromLon'\n\"\"\"",
      "\nThe above exception was the direct cause of the following exception:\n",
      "\u001B[1;31mAttributeError\u001B[0m                            Traceback (most recent call last)",
      "Cell \u001B[1;32mIn[51], line 30\u001B[0m\n\u001B[0;32m     13\u001B[0m destinations \u001B[38;5;241m=\u001B[39m geopandas\u001B[38;5;241m.\u001B[39mGeoDataFrame(\n\u001B[0;32m     14\u001B[0m     {\n\u001B[0;32m     15\u001B[0m         \u001B[38;5;124m\"\u001B[39m\u001B[38;5;124mid\u001B[39m\u001B[38;5;124m\"\u001B[39m: [to_id],\n\u001B[1;32m   (...)\u001B[0m\n\u001B[0;32m     19\u001B[0m     crs\u001B[38;5;241m=\u001B[39m\u001B[38;5;124m\"\u001B[39m\u001B[38;5;124mEPSG:2056\u001B[39m\u001B[38;5;124m\"\u001B[39m\n\u001B[0;32m     20\u001B[0m )\n\u001B[0;32m     22\u001B[0m tt_computer \u001B[38;5;241m=\u001B[39m r5py\u001B[38;5;241m.\u001B[39mDetailedItinerariesComputer(\n\u001B[0;32m     23\u001B[0m     transport_network_car_before,\n\u001B[0;32m     24\u001B[0m     transport_modes\u001B[38;5;241m=\u001B[39m[r5py\u001B[38;5;241m.\u001B[39mTransportMode\u001B[38;5;241m.\u001B[39mCAR],\n\u001B[1;32m   (...)\u001B[0m\n\u001B[0;32m     28\u001B[0m     \n\u001B[0;32m     29\u001B[0m )\n\u001B[1;32m---> 30\u001B[0m tt_matrix \u001B[38;5;241m=\u001B[39m \u001B[43mtt_computer\u001B[49m\u001B[38;5;241;43m.\u001B[39;49m\u001B[43mcompute_travel_details\u001B[49m\u001B[43m(\u001B[49m\u001B[43m)\u001B[49m\n\u001B[0;32m     32\u001B[0m \u001B[38;5;28;01mfor\u001B[39;00m key \u001B[38;5;129;01min\u001B[39;00m [\u001B[38;5;124m'\u001B[39m\u001B[38;5;124mtransport_mode\u001B[39m\u001B[38;5;124m'\u001B[39m, \u001B[38;5;124m'\u001B[39m\u001B[38;5;124mtravel_time\u001B[39m\u001B[38;5;124m'\u001B[39m]:\n\u001B[0;32m     33\u001B[0m     tt_matrix[key] \u001B[38;5;241m=\u001B[39m tt_matrix[key]\u001B[38;5;241m.\u001B[39mastype(\u001B[38;5;28mstr\u001B[39m)\n",
      "File \u001B[1;32m~\\AppData\\Local\\miniconda3\\envs\\snman\\lib\\site-packages\\r5py\\r5\\detailed_itineraries_computer.py:154\u001B[0m, in \u001B[0;36mDetailedItinerariesComputer.compute_travel_details\u001B[1;34m(self)\u001B[0m\n\u001B[0;32m    146\u001B[0m \u001B[38;5;66;03m# loop over all origin/destination pairs, modify the request, and\u001B[39;00m\n\u001B[0;32m    147\u001B[0m \u001B[38;5;66;03m# compute times, distance, and other details for each trip\u001B[39;00m\n\u001B[0;32m    148\u001B[0m \u001B[38;5;28;01mwith\u001B[39;00m joblib\u001B[38;5;241m.\u001B[39mParallel(\n\u001B[0;32m    149\u001B[0m     prefer\u001B[38;5;241m=\u001B[39m\u001B[38;5;124m\"\u001B[39m\u001B[38;5;124mthreads\u001B[39m\u001B[38;5;124m\"\u001B[39m,\n\u001B[0;32m    150\u001B[0m     verbose\u001B[38;5;241m=\u001B[39m(\u001B[38;5;241m10\u001B[39m \u001B[38;5;241m*\u001B[39m \u001B[38;5;28mself\u001B[39m\u001B[38;5;241m.\u001B[39mverbose),  \u001B[38;5;66;03m# joblib has a funny verbosity scale\u001B[39;00m\n\u001B[0;32m    151\u001B[0m     n_jobs\u001B[38;5;241m=\u001B[39m\u001B[38;5;28mself\u001B[39m\u001B[38;5;241m.\u001B[39mNUM_THREADS,\n\u001B[0;32m    152\u001B[0m ) \u001B[38;5;28;01mas\u001B[39;00m parallel:\n\u001B[0;32m    153\u001B[0m     od_matrix \u001B[38;5;241m=\u001B[39m pandas\u001B[38;5;241m.\u001B[39mconcat(\n\u001B[1;32m--> 154\u001B[0m         \u001B[43mparallel\u001B[49m\u001B[43m(\u001B[49m\n\u001B[0;32m    155\u001B[0m \u001B[43m            \u001B[49m\u001B[43mjoblib\u001B[49m\u001B[38;5;241;43m.\u001B[39;49m\u001B[43mdelayed\u001B[49m\u001B[43m(\u001B[49m\u001B[38;5;28;43mself\u001B[39;49m\u001B[38;5;241;43m.\u001B[39;49m\u001B[43m_travel_details_per_od_pair\u001B[49m\u001B[43m)\u001B[49m\u001B[43m(\u001B[49m\u001B[43mfrom_id\u001B[49m\u001B[43m,\u001B[49m\u001B[43m \u001B[49m\u001B[43mto_id\u001B[49m\u001B[43m)\u001B[49m\n\u001B[0;32m    156\u001B[0m \u001B[43m            \u001B[49m\u001B[38;5;28;43;01mfor\u001B[39;49;00m\u001B[43m \u001B[49m\u001B[43m_\u001B[49m\u001B[43m,\u001B[49m\u001B[43m \u001B[49m\u001B[43m(\u001B[49m\u001B[43mfrom_id\u001B[49m\u001B[43m,\u001B[49m\u001B[43m \u001B[49m\u001B[43mto_id\u001B[49m\u001B[43m)\u001B[49m\u001B[43m \u001B[49m\u001B[38;5;129;43;01min\u001B[39;49;00m\u001B[43m \u001B[49m\u001B[38;5;28;43mself\u001B[39;49m\u001B[38;5;241;43m.\u001B[39;49m\u001B[43mod_pairs\u001B[49m\u001B[38;5;241;43m.\u001B[39;49m\u001B[43miterrows\u001B[49m\u001B[43m(\u001B[49m\u001B[43m)\u001B[49m\n\u001B[0;32m    157\u001B[0m \u001B[43m        \u001B[49m\u001B[43m)\u001B[49m,\n\u001B[0;32m    158\u001B[0m         ignore_index\u001B[38;5;241m=\u001B[39m\u001B[38;5;28;01mTrue\u001B[39;00m,\n\u001B[0;32m    159\u001B[0m     )\n\u001B[0;32m    161\u001B[0m od_matrix \u001B[38;5;241m=\u001B[39m geopandas\u001B[38;5;241m.\u001B[39mGeoDataFrame(od_matrix, crs\u001B[38;5;241m=\u001B[39m\u001B[38;5;28mself\u001B[39m\u001B[38;5;241m.\u001B[39m_origins_crs)\n\u001B[0;32m    162\u001B[0m \u001B[38;5;28;01mreturn\u001B[39;00m od_matrix\n",
      "File \u001B[1;32m~\\AppData\\Local\\miniconda3\\envs\\snman\\lib\\site-packages\\joblib\\parallel.py:2007\u001B[0m, in \u001B[0;36mParallel.__call__\u001B[1;34m(self, iterable)\u001B[0m\n\u001B[0;32m   2001\u001B[0m \u001B[38;5;66;03m# The first item from the output is blank, but it makes the interpreter\u001B[39;00m\n\u001B[0;32m   2002\u001B[0m \u001B[38;5;66;03m# progress until it enters the Try/Except block of the generator and\u001B[39;00m\n\u001B[0;32m   2003\u001B[0m \u001B[38;5;66;03m# reaches the first `yield` statement. This starts the asynchronous\u001B[39;00m\n\u001B[0;32m   2004\u001B[0m \u001B[38;5;66;03m# dispatch of the tasks to the workers.\u001B[39;00m\n\u001B[0;32m   2005\u001B[0m \u001B[38;5;28mnext\u001B[39m(output)\n\u001B[1;32m-> 2007\u001B[0m \u001B[38;5;28;01mreturn\u001B[39;00m output \u001B[38;5;28;01mif\u001B[39;00m \u001B[38;5;28mself\u001B[39m\u001B[38;5;241m.\u001B[39mreturn_generator \u001B[38;5;28;01melse\u001B[39;00m \u001B[38;5;28;43mlist\u001B[39;49m\u001B[43m(\u001B[49m\u001B[43moutput\u001B[49m\u001B[43m)\u001B[49m\n",
      "File \u001B[1;32m~\\AppData\\Local\\miniconda3\\envs\\snman\\lib\\site-packages\\joblib\\parallel.py:1650\u001B[0m, in \u001B[0;36mParallel._get_outputs\u001B[1;34m(self, iterator, pre_dispatch)\u001B[0m\n\u001B[0;32m   1647\u001B[0m     \u001B[38;5;28;01myield\u001B[39;00m\n\u001B[0;32m   1649\u001B[0m     \u001B[38;5;28;01mwith\u001B[39;00m \u001B[38;5;28mself\u001B[39m\u001B[38;5;241m.\u001B[39m_backend\u001B[38;5;241m.\u001B[39mretrieval_context():\n\u001B[1;32m-> 1650\u001B[0m         \u001B[38;5;28;01myield from\u001B[39;00m \u001B[38;5;28mself\u001B[39m\u001B[38;5;241m.\u001B[39m_retrieve()\n\u001B[0;32m   1652\u001B[0m \u001B[38;5;28;01mexcept\u001B[39;00m \u001B[38;5;167;01mGeneratorExit\u001B[39;00m:\n\u001B[0;32m   1653\u001B[0m     \u001B[38;5;66;03m# The generator has been garbage collected before being fully\u001B[39;00m\n\u001B[0;32m   1654\u001B[0m     \u001B[38;5;66;03m# consumed. This aborts the remaining tasks if possible and warn\u001B[39;00m\n\u001B[0;32m   1655\u001B[0m     \u001B[38;5;66;03m# the user if necessary.\u001B[39;00m\n\u001B[0;32m   1656\u001B[0m     \u001B[38;5;28mself\u001B[39m\u001B[38;5;241m.\u001B[39m_exception \u001B[38;5;241m=\u001B[39m \u001B[38;5;28;01mTrue\u001B[39;00m\n",
      "File \u001B[1;32m~\\AppData\\Local\\miniconda3\\envs\\snman\\lib\\site-packages\\joblib\\parallel.py:1754\u001B[0m, in \u001B[0;36mParallel._retrieve\u001B[1;34m(self)\u001B[0m\n\u001B[0;32m   1747\u001B[0m \u001B[38;5;28;01mwhile\u001B[39;00m \u001B[38;5;28mself\u001B[39m\u001B[38;5;241m.\u001B[39m_wait_retrieval():\n\u001B[0;32m   1748\u001B[0m \n\u001B[0;32m   1749\u001B[0m     \u001B[38;5;66;03m# If the callback thread of a worker has signaled that its task\u001B[39;00m\n\u001B[0;32m   1750\u001B[0m     \u001B[38;5;66;03m# triggered an exception, or if the retrieval loop has raised an\u001B[39;00m\n\u001B[0;32m   1751\u001B[0m     \u001B[38;5;66;03m# exception (e.g. `GeneratorExit`), exit the loop and surface the\u001B[39;00m\n\u001B[0;32m   1752\u001B[0m     \u001B[38;5;66;03m# worker traceback.\u001B[39;00m\n\u001B[0;32m   1753\u001B[0m     \u001B[38;5;28;01mif\u001B[39;00m \u001B[38;5;28mself\u001B[39m\u001B[38;5;241m.\u001B[39m_aborting:\n\u001B[1;32m-> 1754\u001B[0m         \u001B[38;5;28;43mself\u001B[39;49m\u001B[38;5;241;43m.\u001B[39;49m\u001B[43m_raise_error_fast\u001B[49m\u001B[43m(\u001B[49m\u001B[43m)\u001B[49m\n\u001B[0;32m   1755\u001B[0m         \u001B[38;5;28;01mbreak\u001B[39;00m\n\u001B[0;32m   1757\u001B[0m     \u001B[38;5;66;03m# If the next job is not ready for retrieval yet, we just wait for\u001B[39;00m\n\u001B[0;32m   1758\u001B[0m     \u001B[38;5;66;03m# async callbacks to progress.\u001B[39;00m\n",
      "File \u001B[1;32m~\\AppData\\Local\\miniconda3\\envs\\snman\\lib\\site-packages\\joblib\\parallel.py:1789\u001B[0m, in \u001B[0;36mParallel._raise_error_fast\u001B[1;34m(self)\u001B[0m\n\u001B[0;32m   1785\u001B[0m \u001B[38;5;66;03m# If this error job exists, immediately raise the error by\u001B[39;00m\n\u001B[0;32m   1786\u001B[0m \u001B[38;5;66;03m# calling get_result. This job might not exists if abort has been\u001B[39;00m\n\u001B[0;32m   1787\u001B[0m \u001B[38;5;66;03m# called directly or if the generator is gc'ed.\u001B[39;00m\n\u001B[0;32m   1788\u001B[0m \u001B[38;5;28;01mif\u001B[39;00m error_job \u001B[38;5;129;01mis\u001B[39;00m \u001B[38;5;129;01mnot\u001B[39;00m \u001B[38;5;28;01mNone\u001B[39;00m:\n\u001B[1;32m-> 1789\u001B[0m     \u001B[43merror_job\u001B[49m\u001B[38;5;241;43m.\u001B[39;49m\u001B[43mget_result\u001B[49m\u001B[43m(\u001B[49m\u001B[38;5;28;43mself\u001B[39;49m\u001B[38;5;241;43m.\u001B[39;49m\u001B[43mtimeout\u001B[49m\u001B[43m)\u001B[49m\n",
      "File \u001B[1;32m~\\AppData\\Local\\miniconda3\\envs\\snman\\lib\\site-packages\\joblib\\parallel.py:745\u001B[0m, in \u001B[0;36mBatchCompletionCallBack.get_result\u001B[1;34m(self, timeout)\u001B[0m\n\u001B[0;32m    739\u001B[0m backend \u001B[38;5;241m=\u001B[39m \u001B[38;5;28mself\u001B[39m\u001B[38;5;241m.\u001B[39mparallel\u001B[38;5;241m.\u001B[39m_backend\n\u001B[0;32m    741\u001B[0m \u001B[38;5;28;01mif\u001B[39;00m backend\u001B[38;5;241m.\u001B[39msupports_retrieve_callback:\n\u001B[0;32m    742\u001B[0m     \u001B[38;5;66;03m# We assume that the result has already been retrieved by the\u001B[39;00m\n\u001B[0;32m    743\u001B[0m     \u001B[38;5;66;03m# callback thread, and is stored internally. It's just waiting to\u001B[39;00m\n\u001B[0;32m    744\u001B[0m     \u001B[38;5;66;03m# be returned.\u001B[39;00m\n\u001B[1;32m--> 745\u001B[0m     \u001B[38;5;28;01mreturn\u001B[39;00m \u001B[38;5;28;43mself\u001B[39;49m\u001B[38;5;241;43m.\u001B[39;49m\u001B[43m_return_or_raise\u001B[49m\u001B[43m(\u001B[49m\u001B[43m)\u001B[49m\n\u001B[0;32m    747\u001B[0m \u001B[38;5;66;03m# For other backends, the main thread needs to run the retrieval step.\u001B[39;00m\n\u001B[0;32m    748\u001B[0m \u001B[38;5;28;01mtry\u001B[39;00m:\n",
      "File \u001B[1;32m~\\AppData\\Local\\miniconda3\\envs\\snman\\lib\\site-packages\\joblib\\parallel.py:763\u001B[0m, in \u001B[0;36mBatchCompletionCallBack._return_or_raise\u001B[1;34m(self)\u001B[0m\n\u001B[0;32m    761\u001B[0m \u001B[38;5;28;01mtry\u001B[39;00m:\n\u001B[0;32m    762\u001B[0m     \u001B[38;5;28;01mif\u001B[39;00m \u001B[38;5;28mself\u001B[39m\u001B[38;5;241m.\u001B[39mstatus \u001B[38;5;241m==\u001B[39m TASK_ERROR:\n\u001B[1;32m--> 763\u001B[0m         \u001B[38;5;28;01mraise\u001B[39;00m \u001B[38;5;28mself\u001B[39m\u001B[38;5;241m.\u001B[39m_result\n\u001B[0;32m    764\u001B[0m     \u001B[38;5;28;01mreturn\u001B[39;00m \u001B[38;5;28mself\u001B[39m\u001B[38;5;241m.\u001B[39m_result\n\u001B[0;32m    765\u001B[0m \u001B[38;5;28;01mfinally\u001B[39;00m:\n",
      "\u001B[1;31mAttributeError\u001B[0m: 'RegionalTask' object has no attribute 'fromLon'"
     ]
    }
   ],
   "execution_count": 51
  }
 ],
 "metadata": {
  "kernelspec": {
   "display_name": "Python 3",
   "language": "python",
   "name": "python3"
  },
  "language_info": {
   "codemirror_mode": {
    "name": "ipython",
    "version": 2
   },
   "file_extension": ".py",
   "mimetype": "text/x-python",
   "name": "python",
   "nbconvert_exporter": "python",
   "pygments_lexer": "ipython2",
   "version": "2.7.6"
  }
 },
 "nbformat": 4,
 "nbformat_minor": 5
}
