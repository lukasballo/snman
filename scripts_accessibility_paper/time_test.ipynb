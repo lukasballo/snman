{
 "cells": [
  {
   "cell_type": "code",
   "id": "initial_id",
   "metadata": {
    "collapsed": true,
    "ExecuteTime": {
     "end_time": "2024-07-18T13:40:04.719379Z",
     "start_time": "2024-07-18T13:40:04.708332Z"
    }
   },
   "source": [
    "import datetime\n",
    "dt = datetime.datetime(2024, 2, 22, 7, 59)\n",
    "\n",
    "f'{dt.hour}:{dt.minute - (dt.minute % 30)}'\n"
   ],
   "outputs": [
    {
     "data": {
      "text/plain": [
       "'7:30'"
      ]
     },
     "execution_count": 24,
     "metadata": {},
     "output_type": "execute_result"
    }
   ],
   "execution_count": 24
  }
 ],
 "metadata": {
  "kernelspec": {
   "display_name": "Python 3",
   "language": "python",
   "name": "python3"
  },
  "language_info": {
   "codemirror_mode": {
    "name": "ipython",
    "version": 2
   },
   "file_extension": ".py",
   "mimetype": "text/x-python",
   "name": "python",
   "nbconvert_exporter": "python",
   "pygments_lexer": "ipython2",
   "version": "2.7.6"
  }
 },
 "nbformat": 4,
 "nbformat_minor": 5
}
