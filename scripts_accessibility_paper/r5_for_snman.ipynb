{
 "cells": [
  {
   "metadata": {
    "ExecuteTime": {
     "end_time": "2024-07-12T14:21:03.010486Z",
     "start_time": "2024-07-12T14:21:00.362721Z"
    }
   },
   "cell_type": "code",
   "source": [
    "import warnings\n",
    "warnings.filterwarnings('ignore')\n",
    "\n",
    "import geopandas\n",
    "import r5py\n",
    "import shapely\n",
    "import pandas as pd\n",
    "import geopandas as gpd\n",
    "import numpy as np\n",
    "import datetime\n",
    "\n",
    "import os\n",
    "import snman\n",
    "from snman import osmnx_customized as oxc\n",
    "from snman.constants import *\n",
    "\n",
    "PERIMETER = '_accessibility_debug'\n",
    "\n",
    "# Set these paths according to your own setup\n",
    "data_directory = os.path.join('C:',os.sep,'Users','lballo','polybox','Research','SNMan','SNMan Shared','data_v2')\n",
    "inputs_path = os.path.join(data_directory, 'inputs')\n",
    "process_path = os.path.join(data_directory, 'process', PERIMETER)\n",
    "outputs_path = os.path.join(data_directory, 'outputs', PERIMETER)\n",
    "\n",
    "CRS_internal = 2056      # for Zurich"
   ],
   "id": "6d65fec16edc778c",
   "outputs": [],
   "execution_count": 1
  },
  {
   "metadata": {
    "ExecuteTime": {
     "end_time": "2024-07-12T14:21:06.000334Z",
     "start_time": "2024-07-12T14:21:03.012469Z"
    }
   },
   "cell_type": "code",
   "source": [
    "print ('import statent grid')\n",
    "statent = gpd.read_parquet(\n",
    "    os.path.join(inputs_path, 'switzerland', 'switzerland', 'statent', 'STATENT_2021_ebc_10_reduced_fields.gzip')\n",
    ")\n",
    "statent.rename(columns={'RELI': 'id'}, inplace=True)\n",
    "\n",
    "print('read statpop that has been pre-joined with statent')\n",
    "statpop = gpd.read_parquet(\n",
    "    os.path.join(inputs_path, 'switzerland', 'switzerland', 'statpop', 'statpop2017_with_statent_reduced_columns.gzip')\n",
    ")"
   ],
   "id": "bc3f3437a6333323",
   "outputs": [
    {
     "name": "stdout",
     "output_type": "stream",
     "text": [
      "import statent grid\n",
      "read statpop that has been pre-joined with statent\n"
     ]
    }
   ],
   "execution_count": 2
  },
  {
   "metadata": {
    "ExecuteTime": {
     "end_time": "2024-07-12T14:21:13.146172Z",
     "start_time": "2024-07-12T14:21:06.001331Z"
    }
   },
   "cell_type": "code",
   "source": [
    "print('read transport network default')\n",
    "transport_network_default = r5py.TransportNetwork(\n",
    "    os.path.join(outputs_path, 'before_oneway_links_default.osm.pbf'),\n",
    "    #os.path.join(inputs_path, 'switzerland', 'switzerland', 'gtfs', 'gtfs_fp2024_2024-06-27_mod.zip')\n",
    "    #os.path.join(inputs_path, 'switzerland', 'switzerland', 'gtfs', 'vbz_2024.zip')\n",
    ")"
   ],
   "id": "71ed77bc86442966",
   "outputs": [
    {
     "name": "stdout",
     "output_type": "stream",
     "text": [
      "read transport network default\n"
     ]
    }
   ],
   "execution_count": 3
  },
  {
   "metadata": {
    "ExecuteTime": {
     "end_time": "2024-07-12T14:21:20.387808Z",
     "start_time": "2024-07-12T14:21:13.147176Z"
    }
   },
   "cell_type": "code",
   "source": [
    "print('read transport network cycling')\n",
    "transport_network_cycling = r5py.TransportNetwork(\n",
    "    os.path.join(outputs_path, 'before_oneway_links_cycling.osm.pbf'),\n",
    ")"
   ],
   "id": "9c06dbc37e713247",
   "outputs": [
    {
     "name": "stdout",
     "output_type": "stream",
     "text": [
      "read transport network cycling\n"
     ]
    }
   ],
   "execution_count": 4
  },
  {
   "metadata": {
    "ExecuteTime": {
     "end_time": "2024-07-12T14:21:26.872532Z",
     "start_time": "2024-07-12T14:21:20.389682Z"
    }
   },
   "cell_type": "code",
   "source": [
    "print('read transport network cycling after')\n",
    "transport_network_cycling_after = r5py.TransportNetwork(\n",
    "    os.path.join(outputs_path, 'after_oneway_links_cycling.osm.pbf'),\n",
    ")"
   ],
   "id": "19479ded7c0e7a2a",
   "outputs": [
    {
     "name": "stdout",
     "output_type": "stream",
     "text": [
      "read transport network cycling after\n"
     ]
    }
   ],
   "execution_count": 5
  },
  {
   "metadata": {
    "ExecuteTime": {
     "end_time": "2024-07-12T14:21:34.085426Z",
     "start_time": "2024-07-12T14:21:26.873516Z"
    }
   },
   "cell_type": "code",
   "source": [
    "print('read transport network car')\n",
    "transport_network_car = r5py.TransportNetwork(\n",
    "    os.path.join(outputs_path, 'tt.osm.pbf'),\n",
    ")"
   ],
   "id": "fa691f4f949ed310",
   "outputs": [
    {
     "name": "stdout",
     "output_type": "stream",
     "text": [
      "read transport network car\n"
     ]
    }
   ],
   "execution_count": 6
  },
  {
   "metadata": {
    "ExecuteTime": {
     "end_time": "2024-07-12T14:21:39.082555Z",
     "start_time": "2024-07-12T14:21:34.086392Z"
    }
   },
   "cell_type": "code",
   "source": [
    "perimeter = snman.io.import_geofile_to_gdf(\n",
    "    os.path.join(inputs_path, 'perimeters', 'perimeters.shp'), index='id'\n",
    ").geometry['ebc_zrh_v01'].simplify(500, preserve_topology=True)\n",
    "statent_in_perimeter = statent[statent.within(perimeter)]"
   ],
   "id": "99b9679934fdb22",
   "outputs": [],
   "execution_count": 7
  },
  {
   "metadata": {
    "ExecuteTime": {
     "end_time": "2024-07-12T14:22:06.076794Z",
     "start_time": "2024-07-12T14:21:39.083552Z"
    }
   },
   "cell_type": "code",
   "source": [
    "cells = list(statent_in_perimeter['id'].sample(n=10, random_state=0))\n",
    "\n",
    "def miniwrapper(cell):\n",
    "    print(f'calculating cell {cell}')\n",
    "    return snman.accessibility.calculate_accessibility_for_statent_cell(\n",
    "        transport_network_default,\n",
    "        transport_network_car,\n",
    "        transport_network_cycling,\n",
    "        statpop, statent, cell,\n",
    "        distance_limit=50*1000,\n",
    "        population_sample=0.05,\n",
    "        destinations_sample=0.02\n",
    "    )\n",
    "\n",
    "accessibility_before = pd.concat(\n",
    "    map(miniwrapper, cells),\n",
    "    ignore_index=True\n",
    ")\n",
    "\n",
    "print('exporting file')\n",
    "snman.io.export_gdf(\n",
    "    accessibility_before,\n",
    "    os.path.join(outputs_path, 'accessibility_before.gpkg')\n",
    ")"
   ],
   "id": "f6671057bfbbf672",
   "outputs": [
    {
     "name": "stdout",
     "output_type": "stream",
     "text": [
      "calculating cell 70042281\n",
      "calculating cell 68132486\n",
      "calculating cell 68672447\n",
      "calculating cell 69702513\n",
      "calculating cell 67962611\n",
      "calculating cell 66382604\n",
      "calculating cell 68322416\n",
      "calculating cell 66682596\n",
      "calculating cell 68172475\n",
      "calculating cell 69482396\n",
      "exporting file\n"
     ]
    }
   ],
   "execution_count": 8
  },
  {
   "metadata": {
    "ExecuteTime": {
     "end_time": "2024-07-12T14:22:30.562507Z",
     "start_time": "2024-07-12T14:22:06.077781Z"
    }
   },
   "cell_type": "code",
   "source": [
    "cells = list(statent_in_perimeter['id'].sample(n=10, random_state=0))\n",
    "\n",
    "def miniwrapper(cell):\n",
    "    print(f'calculating cell {cell}')\n",
    "    return snman.accessibility.calculate_accessibility_for_statent_cell(\n",
    "        transport_network_default,\n",
    "        transport_network_car,\n",
    "        transport_network_cycling_after,\n",
    "        statpop, statent, cell,\n",
    "        distance_limit=50*1000,\n",
    "        population_sample=0.05,\n",
    "        destinations_sample=0.02\n",
    "    )\n",
    "\n",
    "accessibility_after = pd.concat(\n",
    "    map(miniwrapper, cells),\n",
    "    ignore_index=True\n",
    ")\n",
    "\n",
    "print('exporting file')\n",
    "snman.io.export_gdf(\n",
    "    accessibility_after,\n",
    "    os.path.join(outputs_path, 'accessibility_after.gpkg')\n",
    ")"
   ],
   "id": "199c94ed2470cf9c",
   "outputs": [
    {
     "name": "stdout",
     "output_type": "stream",
     "text": [
      "calculating cell 70042281\n",
      "calculating cell 68132486\n",
      "calculating cell 68672447\n",
      "calculating cell 69702513\n",
      "calculating cell 67962611\n",
      "calculating cell 66382604\n",
      "calculating cell 68322416\n",
      "calculating cell 66682596\n",
      "calculating cell 68172475\n",
      "calculating cell 69482396\n",
      "exporting file\n"
     ]
    }
   ],
   "execution_count": 9
  },
  {
   "metadata": {
    "ExecuteTime": {
     "end_time": "2024-07-12T14:22:30.625133Z",
     "start_time": "2024-07-12T14:22:30.563494Z"
    }
   },
   "cell_type": "code",
   "source": [
    "accessibility_keys = [\n",
    "    'accessibility', 'accessibility_private_cars',\n",
    "    'accessibility_cycling', 'accessibility_foot', 'accessibility_transit'\n",
    "]\n",
    "\n",
    "accessibility_before_after = pd.merge(\n",
    "    accessibility_before,\n",
    "    accessibility_after[accessibility_keys],\n",
    "    left_index=True, right_index=True,\n",
    "    suffixes=['_before', '_after']\n",
    ")\n",
    "\n",
    "for key in accessibility_keys:\n",
    "\n",
    "    accessibility_before_after[f'{key}_after-before'] = (\n",
    "            accessibility_before_after[f'{key}_after']\n",
    "            - accessibility_before_after[f'{key}_before']\n",
    "    )\n",
    "\n",
    "snman.io.export_gdf(\n",
    "    accessibility_before_after,\n",
    "    os.path.join(outputs_path, 'accessibility_before_after.gpkg')\n",
    ")"
   ],
   "id": "89a824fd979ffae8",
   "outputs": [],
   "execution_count": 10
  },
  {
   "metadata": {
    "ExecuteTime": {
     "end_time": "2024-07-12T14:22:30.641072Z",
     "start_time": "2024-07-12T14:22:30.625888Z"
    }
   },
   "cell_type": "code",
   "source": [
    "if 0:\n",
    "    import warnings\n",
    "    warnings.filterwarnings('ignore')\n",
    "    \n",
    "    accessibility_contributions = snman.accessibility.calculate_accessibility_for_statent_cell(\n",
    "        transport_network_default,\n",
    "        transport_network_car,\n",
    "        transport_network_cycling_after,\n",
    "        statpop, statent, 69602294,\n",
    "        distance_limit=50*1000,\n",
    "        population_sample=0.05,\n",
    "        destinations_sample=0.0166,\n",
    "        sum_accessibility_contributions=False\n",
    "    )\n",
    "    \n",
    "    snman.io.export_gdf(\n",
    "        accessibility_contributions,\n",
    "        os.path.join(outputs_path, 'accessibility_contributions.gpkg')\n",
    "    )"
   ],
   "id": "d84b25802c572651",
   "outputs": [],
   "execution_count": 11
  }
 ],
 "metadata": {
  "kernelspec": {
   "display_name": "Python 3",
   "language": "python",
   "name": "python3"
  },
  "language_info": {
   "codemirror_mode": {
    "name": "ipython",
    "version": 2
   },
   "file_extension": ".py",
   "mimetype": "text/x-python",
   "name": "python",
   "nbconvert_exporter": "python",
   "pygments_lexer": "ipython2",
   "version": "2.7.6"
  }
 },
 "nbformat": 4,
 "nbformat_minor": 5
}
