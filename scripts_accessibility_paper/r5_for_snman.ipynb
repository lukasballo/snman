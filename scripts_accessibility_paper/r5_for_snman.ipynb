{
 "cells": [
  {
   "metadata": {
    "ExecuteTime": {
     "end_time": "2024-07-03T20:27:08.046402Z",
     "start_time": "2024-07-03T20:27:05.522583Z"
    }
   },
   "cell_type": "code",
   "source": [
    "import geopandas\n",
    "import r5py\n",
    "import shapely\n",
    "import pandas as pd\n",
    "import geopandas as gpd\n",
    "import numpy as np\n",
    "import datetime\n",
    "\n",
    "import os\n",
    "import snman\n",
    "from snman import osmnx_customized as oxc\n",
    "from snman.constants import *\n",
    "\n",
    "PERIMETER = '_accessibility_debug'\n",
    "\n",
    "# Set these paths according to your own setup\n",
    "data_directory = os.path.join('C:',os.sep,'Users','lballo','polybox','Research','SNMan','SNMan Shared','data_v2')\n",
    "inputs_path = os.path.join(data_directory, 'inputs')\n",
    "process_path = os.path.join(data_directory, 'process', PERIMETER)\n",
    "outputs_path = os.path.join(data_directory, 'outputs', PERIMETER)\n",
    "\n",
    "CRS_internal = 2056      # for Zurich"
   ],
   "id": "6d65fec16edc778c",
   "outputs": [
    {
     "name": "stderr",
     "output_type": "stream",
     "text": [
      "C:\\Users\\lballo\\AppData\\Roaming\\Python\\Python39\\site-packages\\osmnx\\utils.py:192: UserWarning: The `utils.config` function is deprecated and will be removed in a future release. Instead, use the `settings` module directly to configure a global setting's value. For example, `ox.settings.log_console=True`.\n",
      "  warnings.warn(\n"
     ]
    }
   ],
   "execution_count": 1
  },
  {
   "metadata": {
    "ExecuteTime": {
     "end_time": "2024-07-03T20:27:10.908479Z",
     "start_time": "2024-07-03T20:27:08.047446Z"
    }
   },
   "cell_type": "code",
   "source": [
    "print ('import statent grid')\n",
    "statent = gpd.read_parquet(\n",
    "    os.path.join(inputs_path, 'switzerland', 'switzerland', 'statent', 'STATENT_2021_ebc_10_reduced_fields.gzip')\n",
    ")\n",
    "statent.rename(columns={'RELI': 'id'}, inplace=True)\n",
    "\n",
    "print('read statpop that has been pre-joined with statent')\n",
    "statpop = gpd.read_parquet(\n",
    "    os.path.join(inputs_path, 'switzerland', 'switzerland', 'statpop', 'statpop2017_with_statent_reduced_columns.gzip')\n",
    ")"
   ],
   "id": "bc3f3437a6333323",
   "outputs": [
    {
     "name": "stdout",
     "output_type": "stream",
     "text": [
      "import statent grid\n",
      "read statpop that has been pre-joined with statent\n"
     ]
    }
   ],
   "execution_count": 2
  },
  {
   "metadata": {
    "ExecuteTime": {
     "end_time": "2024-07-04T09:47:56.595271Z",
     "start_time": "2024-07-04T09:33:27.963153Z"
    }
   },
   "cell_type": "code",
   "source": [
    "print('read transport network default')\n",
    "transport_network_default = r5py.TransportNetwork(\n",
    "    os.path.join(outputs_path, 'before_oneway_links_default.osm.pbf'),\n",
    "    os.path.join(inputs_path, 'switzerland', 'switzerland', 'gtfs', 'gtfs_fp2024_2024-06-27_mod.zip')\n",
    ")"
   ],
   "id": "71ed77bc86442966",
   "outputs": [
    {
     "name": "stdout",
     "output_type": "stream",
     "text": [
      "read transport network default\n"
     ]
    }
   ],
   "execution_count": 9
  },
  {
   "metadata": {
    "ExecuteTime": {
     "end_time": "2024-07-03T20:28:51.920168Z",
     "start_time": "2024-07-03T20:28:46.961643Z"
    }
   },
   "cell_type": "code",
   "source": [
    "print('read transport network cycling')\n",
    "transport_network_cycling = r5py.TransportNetwork(\n",
    "    os.path.join(outputs_path, 'before_oneway_links_cycling.osm.pbf'),\n",
    ")\n",
    "print('read transport network car')\n",
    "transport_network_car = r5py.TransportNetwork(\n",
    "    os.path.join(outputs_path, 'before_oneway_links_car.osm.pbf'),\n",
    ")"
   ],
   "id": "9c06dbc37e713247",
   "outputs": [
    {
     "name": "stdout",
     "output_type": "stream",
     "text": [
      "read transport network cycling\n"
     ]
    }
   ],
   "execution_count": 4
  },
  {
   "metadata": {
    "ExecuteTime": {
     "end_time": "2024-07-03T20:33:44.728159Z",
     "start_time": "2024-07-03T20:28:56.350158Z"
    }
   },
   "cell_type": "code",
   "source": [
    "perimeter = snman.io.import_geofile_to_gdf(\n",
    "    os.path.join(inputs_path, 'perimeters', 'perimeters.shp'), index='id'\n",
    ").geometry['ebc_zrh_v01'].simplify(500, preserve_topology=True)\n",
    "statent_in_perimeter = statent[statent.within(perimeter)]"
   ],
   "id": "99b9679934fdb22",
   "outputs": [],
   "execution_count": 6
  },
  {
   "metadata": {
    "jupyter": {
     "is_executing": true
    },
    "ExecuteTime": {
     "start_time": "2024-07-04T12:27:35.351551Z"
    }
   },
   "cell_type": "code",
   "source": [
    "import warnings\n",
    "warnings.filterwarnings('ignore')\n",
    "\n",
    "cells = list(statent_in_perimeter['id'].sample(n=1500, random_state=0))\n",
    "\n",
    "def miniwrapper(cell):\n",
    "    print(f'calculating cell {cell}')\n",
    "    return snman.accessibility.calculate_accessibility_for_statent_cell(\n",
    "        transport_network_default,\n",
    "        transport_network_car,\n",
    "        transport_network_cycling,\n",
    "        statpop, statent, cell,\n",
    "        distance_limit=50*1000,\n",
    "        population_sample=0.05,\n",
    "        destinations_sample=0.01\n",
    "    )\n",
    "\n",
    "accessibility = pd.concat(\n",
    "    map(miniwrapper, cells),\n",
    "    ignore_index=True\n",
    ")\n",
    "\n",
    "print('exporting file')\n",
    "snman.io.export_gdf(\n",
    "    accessibility,\n",
    "    os.path.join(outputs_path, 'accessibility.gpkg')\n",
    ")"
   ],
   "id": "f6671057bfbbf672",
   "outputs": [
    {
     "name": "stdout",
     "output_type": "stream",
     "text": [
      "calculating cell 70052597\n",
      "calculating cell 67152430\n",
      "calculating cell 69622454\n",
      "calculating cell 68552443\n",
      "calculating cell 68282638\n",
      "calculating cell 69762622\n",
      "calculating cell 68422479\n",
      "calculating cell 68802425\n",
      "calculating cell 68402732\n",
      "calculating cell 69362305\n",
      "calculating cell 68252501\n",
      "calculating cell 69372359\n",
      "calculating cell 69272485\n",
      "calculating cell 68642455\n",
      "calculating cell 68272741\n",
      "calculating cell 68292379\n",
      "calculating cell 70542272\n",
      "calculating cell 68102469\n",
      "calculating cell 69032459\n",
      "calculating cell 68792351\n",
      "calculating cell 68312524\n",
      "calculating cell 69542341\n",
      "calculating cell 67732504\n",
      "calculating cell 69702619\n",
      "calculating cell 70212412\n",
      "calculating cell 69222500\n",
      "calculating cell 69292579\n"
     ]
    }
   ],
   "execution_count": null
  }
 ],
 "metadata": {
  "kernelspec": {
   "display_name": "Python 3",
   "language": "python",
   "name": "python3"
  },
  "language_info": {
   "codemirror_mode": {
    "name": "ipython",
    "version": 2
   },
   "file_extension": ".py",
   "mimetype": "text/x-python",
   "name": "python",
   "nbconvert_exporter": "python",
   "pygments_lexer": "ipython2",
   "version": "2.7.6"
  }
 },
 "nbformat": 4,
 "nbformat_minor": 5
}
