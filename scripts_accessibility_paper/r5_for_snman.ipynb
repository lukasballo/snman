{
 "cells": [
  {
   "metadata": {},
   "cell_type": "code",
   "source": [
    "import warnings\n",
    "warnings.filterwarnings('ignore')\n",
    "\n",
    "import geopandas\n",
    "import r5py\n",
    "import shapely\n",
    "import pandas as pd\n",
    "import geopandas as gpd\n",
    "import numpy as np\n",
    "import datetime\n",
    "import copy\n",
    "\n",
    "import os\n",
    "import snman\n",
    "from snman import osmnx_customized as oxc\n",
    "from snman.constants import *\n",
    "\n",
    "PERIMETER = '_accessibility_debug'\n",
    "\n",
    "# Set these paths according to your own setup\n",
    "data_directory = os.path.join('C:',os.sep,'Users','lballo','polybox','Research','SNMan','SNMan Shared','data_v2')\n",
    "inputs_path = os.path.join(data_directory, 'inputs')\n",
    "process_path = os.path.join(data_directory, 'process', PERIMETER)\n",
    "outputs_path = os.path.join(data_directory, 'outputs', PERIMETER)\n",
    "\n",
    "CRS_internal = 2056      # for Zurich"
   ],
   "id": "6d65fec16edc778c",
   "outputs": [],
   "execution_count": null
  },
  {
   "metadata": {},
   "cell_type": "code",
   "source": [
    "rebuild_inputs = True\n",
    "STATE = 'before'"
   ],
   "id": "2514a774f59f7c6a",
   "outputs": [],
   "execution_count": null
  },
  {
   "metadata": {},
   "cell_type": "code",
   "source": [
    "print('read transport network default')\n",
    "if 1:\n",
    "    r5_transit_network = r5py.TransportNetwork(\n",
    "        os.path.join(outputs_path, 'before_oneway_links_default.osm.pbf'),\n",
    "        #os.path.join(inputs_path, 'switzerland', 'switzerland', 'gtfs', 'vbz_2024.zip'),\n",
    "        os.path.join(inputs_path, 'switzerland', 'switzerland', 'gtfs', 'gtfs_fp2024_2024-06-27_mod.zip'),\n",
    "    )"
   ],
   "id": "71ed77bc86442966",
   "outputs": [],
   "execution_count": null
  },
  {
   "metadata": {},
   "cell_type": "code",
   "source": [
    "if rebuild_inputs:\n",
    "    G_modes = {}\n",
    "    L_modes = {}"
   ],
   "id": "112aba1fbc7b7ac9",
   "outputs": [],
   "execution_count": null
  },
  {
   "metadata": {},
   "cell_type": "code",
   "source": [
    "if rebuild_inputs:\n",
    "    # Load small street graph\n",
    "    G = snman.io.load_street_graph(\n",
    "        os.path.join(data_directory, outputs_path, 'G_edges.gpkg'),\n",
    "        os.path.join(data_directory, outputs_path, 'G_nodes.gpkg'),\n",
    "        crs=CRS_internal\n",
    "    )\n",
    "    \n",
    "    # create mode graphs for other modes\n",
    "    for mode in [MODE_CYCLING, MODE_FOOT]:\n",
    "        print(f'Make street and lane graphs for {mode}')\n",
    "        G_modes[mode] = copy.deepcopy(G)\n",
    "        snman.street_graph.filter_lanes_by_modes(\n",
    "            G_modes[mode], [mode], lane_description_key=KEY_LANES_DESCRIPTION\n",
    "        )\n",
    "        L_modes[mode] = snman.lane_graph.create_lane_graph(\n",
    "            G_modes[mode], lanes_attribute=KEY_LANES_DESCRIPTION\n",
    "        )\n"
   ],
   "id": "b0c966b6a63f0c51",
   "outputs": [],
   "execution_count": null
  },
  {
   "metadata": {},
   "cell_type": "code",
   "source": [
    "if rebuild_inputs:\n",
    "    # load the new car street graph created from MATSim output\n",
    "    G_modes[MODE_PRIVATE_CARS] = snman.io.load_street_graph(\n",
    "        os.path.join(outputs_path, 'tt_before_edges.gpkg'),\n",
    "        os.path.join(outputs_path, 'tt_before_nodes.gpkg'),\n",
    "        crs=CRS_internal,\n",
    "        unstringify_attributes={'lanes': snman.space_allocation.space_allocation_from_string}\n",
    "    )\n",
    "    \n",
    "    # we must avoid that the start/end point of trips are matched onto nodes that not accessible by car\n",
    "    # therefore, we reduce the graph only to those links and nodes that are accessible by car\n",
    "    snman.street_graph.filter_lanes_by_modes(\n",
    "        G_modes[MODE_PRIVATE_CARS], [MODE_PRIVATE_CARS], lane_description_key='lanes'\n",
    "    )\n",
    "    \n",
    "    L_modes[MODE_PRIVATE_CARS] = snman.lane_graph.create_lane_graph(\n",
    "        G_modes[MODE_PRIVATE_CARS], lanes_attribute='lanes', cast_attributes={'matsim_tt_cars': 'car_18:00'}\n",
    "    )"
   ],
   "id": "7f4aab0cc6d1c95c",
   "outputs": [],
   "execution_count": null
  },
  {
   "metadata": {},
   "cell_type": "code",
   "source": [
    "# Import Statent grid\n",
    "if rebuild_inputs:\n",
    "    statent = gpd.read_parquet(\n",
    "        os.path.join(inputs_path, 'switzerland', 'switzerland', 'statent', 'STATENT_2021_ebc_10_reduced_fields.gzip')\n",
    "    )\n",
    "    statent.rename(columns={'RELI': 'id'}, inplace=True)\n",
    "    #statent"
   ],
   "id": "80f0d409fe026173",
   "outputs": [],
   "execution_count": null
  },
  {
   "metadata": {},
   "cell_type": "code",
   "source": [
    "if rebuild_inputs:\n",
    "    # read statpop that has been pre-joined with statent\n",
    "    statpop_with_statent_ids = gpd.read_parquet(\n",
    "        os.path.join(inputs_path, 'switzerland', 'switzerland', 'statpop', 'statpop2017_with_statent_reduced_columns.gzip')\n",
    "    )\n",
    "    \n",
    "    #statpop_with_statent_ids.head()"
   ],
   "id": "7b4eb9d96a769813",
   "outputs": [],
   "execution_count": null
  },
  {
   "metadata": {},
   "cell_type": "code",
   "source": [
    "perimeter = snman.io.import_geofile_to_gdf(\n",
    "    os.path.join(inputs_path, 'perimeters', 'perimeters.shp'), index='id'\n",
    ").geometry['ebc_zrh_v01'].simplify(500, preserve_topology=True)\n",
    "statent_in_perimeter = statent[statent.within(perimeter)]"
   ],
   "id": "99b9679934fdb22",
   "outputs": [],
   "execution_count": null
  },
  {
   "metadata": {},
   "cell_type": "code",
   "source": [
    "a = snman.accessibility.calculate_accessibility_for_statent_cell(\n",
    "        r5_transit_network,\n",
    "        G_modes,\n",
    "        L_modes,\n",
    "        statpop_with_statent_ids, statent, 68352523,\n",
    "        datetime.datetime(2024, 2, 22, 18, 00),\n",
    "        distance_limit=50*1000,\n",
    "        population_sample=0.05,\n",
    "        destinations_sample=0.02\n",
    "    )"
   ],
   "id": "71c0c9d27f82df15",
   "outputs": [],
   "execution_count": null
  },
  {
   "metadata": {},
   "cell_type": "code",
   "outputs": [
    {
     "name": "stdout",
     "output_type": "stream",
     "text": [
      "calculating cell 70042281 (0/10)\n",
      "calculating cell 68132486 (1/10)\n",
      "calculating cell 68672447 (2/10)\n",
      "calculating cell 69702513 (3/10)\n",
      "calculating cell 67962611 (4/10)\n",
      "calculating cell 66382604 (5/10)\n",
      "calculating cell 68322416 (6/10)\n",
      "calculating cell 66682596 (7/10)\n",
      "calculating cell 68172475 (8/10)\n",
      "calculating cell 69482396 (9/10)\n",
      "exporting file\n"
     ]
    }
   ],
   "execution_count": 24,
   "source": [
    "cells = list(statent_in_perimeter['id'].sample(n=100, random_state=0))\n",
    "\n",
    "def miniwrapper(args):\n",
    "    cell, i, N = args\n",
    "    print(f'calculating cell {cell} ({i}/{N})')\n",
    "    return snman.accessibility.calculate_accessibility_for_statent_cell(\n",
    "        r5_transit_network,\n",
    "        G_modes,\n",
    "        L_modes,\n",
    "        statpop_with_statent_ids, statent, cell,\n",
    "        datetime.datetime(2024, 2, 22, 18, 00),\n",
    "        distance_limit=50*1000,\n",
    "        population_sample=0.05,\n",
    "        destinations_sample=0.1\n",
    "    )\n",
    "\n",
    "accessibility_before = pd.concat(\n",
    "    map(\n",
    "        miniwrapper,\n",
    "        zip(\n",
    "            cells,\n",
    "            range(len(cells)),\n",
    "            [len(cells)] * len(cells)\n",
    "        )\n",
    "    ),\n",
    "    ignore_index=True\n",
    ")\n",
    "\n",
    "\n",
    "print('exporting file')\n",
    "snman.io.export_gdf(\n",
    "    accessibility_before,\n",
    "    os.path.join(outputs_path, 'accessibility_before.gpkg')\n",
    ")\n",
    "\n",
    "#accessibility_before"
   ],
   "id": "f6671057bfbbf672"
  },
  {
   "metadata": {},
   "cell_type": "code",
   "source": [
    "accessibility_before = snman.io.import_geofile_to_gdf(\n",
    "    os.path.join(outputs_path, 'accessibility_before.gpkg')\n",
    ")\n",
    "\n",
    "accessibility_after = snman.io.import_geofile_to_gdf(\n",
    "    os.path.join(outputs_path, 'accessibility_after.gpkg')\n",
    ")"
   ],
   "id": "8e580be977206922",
   "outputs": [],
   "execution_count": null
  },
  {
   "metadata": {},
   "cell_type": "code",
   "source": [
    "accessibility_keys = [\n",
    "    'accessibility', 'accessibility_private_cars',\n",
    "    'accessibility_cycling', 'accessibility_foot', 'accessibility_transit'\n",
    "]\n",
    "\n",
    "accessibility_before_after = pd.merge(\n",
    "    accessibility_before,\n",
    "    accessibility_after[accessibility_keys],\n",
    "    left_index=True, right_index=True,\n",
    "    suffixes=['_before', '_after']\n",
    ")\n",
    "\n",
    "for key in accessibility_keys:\n",
    "\n",
    "    accessibility_before_after[f'{key}_after-before'] = (\n",
    "            accessibility_before_after[f'{key}_after']\n",
    "            - accessibility_before_after[f'{key}_before']\n",
    "    )\n",
    "\n",
    "snman.io.export_gdf(\n",
    "    accessibility_before_after,\n",
    "    os.path.join(outputs_path, 'accessibility_before_after.gpkg')\n",
    ")"
   ],
   "id": "89a824fd979ffae8",
   "outputs": [],
   "execution_count": null
  }
 ],
 "metadata": {
  "kernelspec": {
   "display_name": "Python 3",
   "language": "python",
   "name": "python3"
  },
  "language_info": {
   "codemirror_mode": {
    "name": "ipython",
    "version": 2
   },
   "file_extension": ".py",
   "mimetype": "text/x-python",
   "name": "python",
   "nbconvert_exporter": "python",
   "pygments_lexer": "ipython2",
   "version": "2.7.6"
  }
 },
 "nbformat": 4,
 "nbformat_minor": 5
}
