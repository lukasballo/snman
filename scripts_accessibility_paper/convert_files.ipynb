{
 "cells": [
  {
   "cell_type": "code",
   "id": "initial_id",
   "metadata": {
    "collapsed": true,
    "ExecuteTime": {
     "end_time": "2024-07-03T15:43:02.240720Z",
     "start_time": "2024-07-03T15:42:59.473995Z"
    }
   },
   "source": [
    "import geopandas\n",
    "import r5py\n",
    "import shapely\n",
    "import pandas as pd\n",
    "import geopandas as gpd\n",
    "import numpy as np\n",
    "import datetime\n",
    "\n",
    "import os\n",
    "import snman\n",
    "from snman import osmnx_customized as oxc\n",
    "from snman.constants import *\n",
    "\n",
    "PERIMETER = '_accessibility_debug'\n",
    "\n",
    "# Set these paths according to your own setup\n",
    "data_directory = os.path.join('C:',os.sep,'Users','lballo','polybox','Research','SNMan','SNMan Shared','data_v2')\n",
    "inputs_path = os.path.join(data_directory, 'inputs')\n",
    "process_path = os.path.join(data_directory, 'process', PERIMETER)\n",
    "outputs_path = os.path.join(data_directory, 'outputs', PERIMETER)\n",
    "\n",
    "CRS_internal = 2056      # for Zurich"
   ],
   "outputs": [
    {
     "name": "stderr",
     "output_type": "stream",
     "text": [
      "C:\\Users\\lballo\\AppData\\Roaming\\Python\\Python39\\site-packages\\osmnx\\utils.py:192: UserWarning: The `utils.config` function is deprecated and will be removed in a future release. Instead, use the `settings` module directly to configure a global setting's value. For example, `ox.settings.log_console=True`.\n",
      "  warnings.warn(\n"
     ]
    }
   ],
   "execution_count": 2
  },
  {
   "metadata": {
    "ExecuteTime": {
     "end_time": "2024-07-03T15:43:02.256407Z",
     "start_time": "2024-07-03T15:43:02.242720Z"
    }
   },
   "cell_type": "code",
   "source": [
    "def convert_gdf_to_parquet(gdf, parquet):\n",
    "    gdf = snman.io.import_geofile_to_gdf(gdf)\n",
    "    gdf.to_parquet(parquet, compression='gzip')\n",
    "    return gdf"
   ],
   "id": "67c3a096fe87feb9",
   "outputs": [],
   "execution_count": 3
  },
  {
   "metadata": {
    "ExecuteTime": {
     "end_time": "2024-07-03T15:46:10.593557Z",
     "start_time": "2024-07-03T15:43:02.733589Z"
    }
   },
   "cell_type": "code",
   "source": [
    "# Convert street graph to parquet\n",
    "convert_gdf_to_parquet(\n",
    "    os.path.join(outputs_path, 'G_edges.gpkg'),\n",
    "    os.path.join(outputs_path, 'G_edges.gzip')\n",
    ")\n",
    "\n",
    "convert_gdf_to_parquet(\n",
    "    os.path.join(outputs_path, 'G_nodes.gpkg'),\n",
    "    os.path.join(outputs_path, 'G_nodes.gzip')\n",
    ")"
   ],
   "id": "ce1ca79ead81ac59",
   "outputs": [],
   "execution_count": 4
  },
  {
   "metadata": {
    "ExecuteTime": {
     "end_time": "2024-07-03T11:44:01.138887Z",
     "start_time": "2024-07-03T11:35:23.924172Z"
    }
   },
   "cell_type": "code",
   "source": [
    "# Convert statpop to parquet\n",
    "statpop = convert_gdf_to_parquet(\n",
    "    os.path.join(inputs_path, 'switzerland', 'switzerland', 'statpop', 'statpop2017_reduced_columns.gpkg'),\n",
    "    os.path.join(inputs_path, 'switzerland', 'switzerland', 'statpop', 'statpop2017_reduced_columns.gzip')\n",
    ")\n",
    "\n",
    "statpop.head()"
   ],
   "id": "b2c4f1a64f389d90",
   "outputs": [],
   "execution_count": 2
  },
  {
   "metadata": {
    "ExecuteTime": {
     "end_time": "2024-07-03T11:44:20.862850Z",
     "start_time": "2024-07-03T11:44:01.138887Z"
    }
   },
   "cell_type": "code",
   "source": [
    "# Convert statent to parquet\n",
    "\n",
    "statent = convert_gdf_to_parquet(\n",
    "    os.path.join(inputs_path, 'switzerland', 'switzerland', 'statent', 'STATENT_2021_ebc_10_reduced_fields.gpkg'),\n",
    "    os.path.join(inputs_path, 'switzerland', 'switzerland', 'statent', 'STATENT_2021_ebc_10_reduced_fields.gzip')\n",
    ")\n",
    "\n",
    "statent.head()"
   ],
   "id": "9eb7864f233120f5",
   "outputs": [],
   "execution_count": 3
  },
  {
   "metadata": {
    "ExecuteTime": {
     "end_time": "2024-07-03T11:49:44.354939Z",
     "start_time": "2024-07-03T11:49:08.850325Z"
    }
   },
   "cell_type": "code",
   "source": [
    "# Join statpop with statent\n",
    "statpop = gpd.read_parquet(\n",
    "    os.path.join(inputs_path, 'switzerland', 'switzerland', 'statpop', 'statpop2017_reduced_columns.gzip')\n",
    ")\n",
    "\n",
    "statpop = gpd.sjoin_nearest(statpop, statent[['RELI', 'geometry']], how='left', max_distance=100, rsuffix='right', distance_col='distance_to_statent_point')\n",
    "statpop.rename(columns={'RELI': 'statent_id'}, inplace=True)\n",
    "statpop.set_index('record', inplace=True)\n",
    "\n",
    "statpop.to_parquet(\n",
    "    os.path.join(inputs_path, 'switzerland', 'switzerland', 'statpop', 'statpop2017_with_statent_reduced_columns.gzip'),\n",
    "    compression='gzip'\n",
    ")\n",
    "\n",
    "statpop.head()"
   ],
   "id": "14eae1758f9f5b35",
   "outputs": [
    {
     "data": {
      "text/plain": [
       "        statyear  yearofbirth  sex  maritalstatus  residencepermit  age  \\\n",
       "record                                                                    \n",
       "12          2017         1962    1              2              302   55   \n",
       "15          2017         1966    2              1            70102   51   \n",
       "16          2017         1984    1              1               13   33   \n",
       "20          2017         1992    1              2              201   25   \n",
       "21          2017         1994    2              2              201   23   \n",
       "\n",
       "        residentpermit  federalbuildingid                         geometry  \\\n",
       "record                                                                       \n",
       "12                   3          896883164  POINT (2674380.001 1250094.001)   \n",
       "15                   7          899882330  POINT (2672299.001 1251208.001)   \n",
       "16                  13          899882659  POINT (2673496.001 1250355.001)   \n",
       "20                   2          899882087  POINT (2671984.001 1250827.001)   \n",
       "21                   2          899882087  POINT (2671984.001 1250827.001)   \n",
       "\n",
       "        index_right  statent_id  distance_to_statent_point  \n",
       "record                                                      \n",
       "12          18914.0  67442501.0                  20.879700  \n",
       "15          17671.0  67232512.0                   8.063317  \n",
       "16              NaN         NaN                        NaN  \n",
       "20          17414.0  67202508.0                  31.385383  \n",
       "21          17414.0  67202508.0                  31.385383  "
      ],
      "text/html": [
       "<div>\n",
       "<style scoped>\n",
       "    .dataframe tbody tr th:only-of-type {\n",
       "        vertical-align: middle;\n",
       "    }\n",
       "\n",
       "    .dataframe tbody tr th {\n",
       "        vertical-align: top;\n",
       "    }\n",
       "\n",
       "    .dataframe thead th {\n",
       "        text-align: right;\n",
       "    }\n",
       "</style>\n",
       "<table border=\"1\" class=\"dataframe\">\n",
       "  <thead>\n",
       "    <tr style=\"text-align: right;\">\n",
       "      <th></th>\n",
       "      <th>statyear</th>\n",
       "      <th>yearofbirth</th>\n",
       "      <th>sex</th>\n",
       "      <th>maritalstatus</th>\n",
       "      <th>residencepermit</th>\n",
       "      <th>age</th>\n",
       "      <th>residentpermit</th>\n",
       "      <th>federalbuildingid</th>\n",
       "      <th>geometry</th>\n",
       "      <th>index_right</th>\n",
       "      <th>statent_id</th>\n",
       "      <th>distance_to_statent_point</th>\n",
       "    </tr>\n",
       "    <tr>\n",
       "      <th>record</th>\n",
       "      <th></th>\n",
       "      <th></th>\n",
       "      <th></th>\n",
       "      <th></th>\n",
       "      <th></th>\n",
       "      <th></th>\n",
       "      <th></th>\n",
       "      <th></th>\n",
       "      <th></th>\n",
       "      <th></th>\n",
       "      <th></th>\n",
       "      <th></th>\n",
       "    </tr>\n",
       "  </thead>\n",
       "  <tbody>\n",
       "    <tr>\n",
       "      <th>12</th>\n",
       "      <td>2017</td>\n",
       "      <td>1962</td>\n",
       "      <td>1</td>\n",
       "      <td>2</td>\n",
       "      <td>302</td>\n",
       "      <td>55</td>\n",
       "      <td>3</td>\n",
       "      <td>896883164</td>\n",
       "      <td>POINT (2674380.001 1250094.001)</td>\n",
       "      <td>18914.0</td>\n",
       "      <td>67442501.0</td>\n",
       "      <td>20.879700</td>\n",
       "    </tr>\n",
       "    <tr>\n",
       "      <th>15</th>\n",
       "      <td>2017</td>\n",
       "      <td>1966</td>\n",
       "      <td>2</td>\n",
       "      <td>1</td>\n",
       "      <td>70102</td>\n",
       "      <td>51</td>\n",
       "      <td>7</td>\n",
       "      <td>899882330</td>\n",
       "      <td>POINT (2672299.001 1251208.001)</td>\n",
       "      <td>17671.0</td>\n",
       "      <td>67232512.0</td>\n",
       "      <td>8.063317</td>\n",
       "    </tr>\n",
       "    <tr>\n",
       "      <th>16</th>\n",
       "      <td>2017</td>\n",
       "      <td>1984</td>\n",
       "      <td>1</td>\n",
       "      <td>1</td>\n",
       "      <td>13</td>\n",
       "      <td>33</td>\n",
       "      <td>13</td>\n",
       "      <td>899882659</td>\n",
       "      <td>POINT (2673496.001 1250355.001)</td>\n",
       "      <td>NaN</td>\n",
       "      <td>NaN</td>\n",
       "      <td>NaN</td>\n",
       "    </tr>\n",
       "    <tr>\n",
       "      <th>20</th>\n",
       "      <td>2017</td>\n",
       "      <td>1992</td>\n",
       "      <td>1</td>\n",
       "      <td>2</td>\n",
       "      <td>201</td>\n",
       "      <td>25</td>\n",
       "      <td>2</td>\n",
       "      <td>899882087</td>\n",
       "      <td>POINT (2671984.001 1250827.001)</td>\n",
       "      <td>17414.0</td>\n",
       "      <td>67202508.0</td>\n",
       "      <td>31.385383</td>\n",
       "    </tr>\n",
       "    <tr>\n",
       "      <th>21</th>\n",
       "      <td>2017</td>\n",
       "      <td>1994</td>\n",
       "      <td>2</td>\n",
       "      <td>2</td>\n",
       "      <td>201</td>\n",
       "      <td>23</td>\n",
       "      <td>2</td>\n",
       "      <td>899882087</td>\n",
       "      <td>POINT (2671984.001 1250827.001)</td>\n",
       "      <td>17414.0</td>\n",
       "      <td>67202508.0</td>\n",
       "      <td>31.385383</td>\n",
       "    </tr>\n",
       "  </tbody>\n",
       "</table>\n",
       "</div>"
      ]
     },
     "execution_count": 10,
     "metadata": {},
     "output_type": "execute_result"
    }
   ],
   "execution_count": 10
  }
 ],
 "metadata": {
  "kernelspec": {
   "display_name": "Python 3",
   "language": "python",
   "name": "python3"
  },
  "language_info": {
   "codemirror_mode": {
    "name": "ipython",
    "version": 2
   },
   "file_extension": ".py",
   "mimetype": "text/x-python",
   "name": "python",
   "nbconvert_exporter": "python",
   "pygments_lexer": "ipython2",
   "version": "2.7.6"
  }
 },
 "nbformat": 4,
 "nbformat_minor": 5
}
