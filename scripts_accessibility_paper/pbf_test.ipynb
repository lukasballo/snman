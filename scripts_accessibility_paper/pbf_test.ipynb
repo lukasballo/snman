{
 "cells": [
  {
   "cell_type": "code",
   "id": "initial_id",
   "metadata": {
    "collapsed": true,
    "ExecuteTime": {
     "end_time": "2024-07-12T09:56:15.867613Z",
     "start_time": "2024-07-12T09:56:15.849672Z"
    }
   },
   "source": [
    "import snman\n",
    "\n",
    "snman.io.osm_to_pbf('d', dry_run=True)"
   ],
   "outputs": [
    {
     "data": {
      "text/plain": [
       "'\"C:\\\\Users\\\\lballo\\\\polybox\\\\GIT\\\\github\\\\snman\\\\snman\\\\osmconvert.exe\" \"d\" --out-pbf -o=\"d.pbf\"'"
      ]
     },
     "execution_count": 4,
     "metadata": {},
     "output_type": "execute_result"
    }
   ],
   "execution_count": 4
  }
 ],
 "metadata": {
  "kernelspec": {
   "display_name": "Python 3",
   "language": "python",
   "name": "python3"
  },
  "language_info": {
   "codemirror_mode": {
    "name": "ipython",
    "version": 2
   },
   "file_extension": ".py",
   "mimetype": "text/x-python",
   "name": "python",
   "nbconvert_exporter": "python",
   "pygments_lexer": "ipython2",
   "version": "2.7.6"
  }
 },
 "nbformat": 4,
 "nbformat_minor": 5
}
