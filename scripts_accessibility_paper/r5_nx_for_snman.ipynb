{
 "cells": [
  {
   "metadata": {
    "ExecuteTime": {
     "end_time": "2024-07-24T01:15:12.932606Z",
     "start_time": "2024-07-24T01:15:09.609165Z"
    }
   },
   "cell_type": "code",
   "source": [
    "import warnings\n",
    "warnings.filterwarnings('ignore')\n",
    "\n",
    "import geopandas\n",
    "import r5py\n",
    "import shapely\n",
    "import pandas as pd\n",
    "import geopandas as gpd\n",
    "import numpy as np\n",
    "import datetime\n",
    "import copy\n",
    "\n",
    "import os\n",
    "import snman\n",
    "from snman import osmnx_customized as oxc\n",
    "from snman.constants import *\n",
    "\n",
    "PERIMETER = '_accessibility_debug'\n",
    "\n",
    "# Set these paths according to your own setup\n",
    "data_directory = os.path.join('C:',os.sep,'Users','lballo','polybox','Research','SNMan','SNMan Shared','data_v2')\n",
    "inputs_path = os.path.join(data_directory, 'inputs')\n",
    "process_path = os.path.join(data_directory, 'process', PERIMETER)\n",
    "outputs_path = os.path.join(data_directory, 'outputs', PERIMETER)\n",
    "\n",
    "CRS_internal = 2056      # for Zurich"
   ],
   "id": "6d65fec16edc778c",
   "outputs": [],
   "execution_count": 1
  },
  {
   "metadata": {
    "ExecuteTime": {
     "end_time": "2024-07-24T01:15:13.349205Z",
     "start_time": "2024-07-24T01:15:13.333683Z"
    }
   },
   "cell_type": "code",
   "source": [
    "REBUILD_INPUTS = True\n",
    "STATE = 'before'\n",
    "N_ORIGIN_CELLS = 2500\n",
    "SAMPLE_RANGE = [0, 10]"
   ],
   "id": "2514a774f59f7c6a",
   "outputs": [],
   "execution_count": 2
  },
  {
   "metadata": {
    "jupyter": {
     "is_executing": true
    },
    "ExecuteTime": {
     "start_time": "2024-07-24T01:15:13.618508Z"
    }
   },
   "cell_type": "code",
   "source": [
    "# read transport network and timetable for r5\n",
    "if 1:\n",
    "    r5_transit_network = r5py.TransportNetwork(\n",
    "        os.path.join(outputs_path, 'before_oneway_links_default.osm.pbf'),\n",
    "        #os.path.join(inputs_path, 'switzerland', 'switzerland', 'gtfs', 'vbz_2024.zip'),\n",
    "        os.path.join(inputs_path, 'switzerland', 'switzerland', 'gtfs', 'gtfs_fp2024_2024-06-27_mod.zip'),\n",
    "    )"
   ],
   "id": "71ed77bc86442966",
   "outputs": [],
   "execution_count": null
  },
  {
   "metadata": {},
   "cell_type": "code",
   "source": [
    "if REBUILD_INPUTS:\n",
    "    G_modes = {}\n",
    "    L_modes = {}"
   ],
   "id": "112aba1fbc7b7ac9",
   "outputs": [],
   "execution_count": null
  },
  {
   "metadata": {},
   "cell_type": "code",
   "source": [
    "if REBUILD_INPUTS:\n",
    "    # Load small street graph\n",
    "    G = snman.io.load_street_graph(\n",
    "        os.path.join(data_directory, outputs_path, 'G_edges.gpkg'),\n",
    "        os.path.join(data_directory, outputs_path, 'G_nodes.gpkg'),\n",
    "        crs=CRS_internal\n",
    "    )\n",
    "    \n",
    "    if STATE == 'before':\n",
    "        ln_desc = KEY_LANES_DESCRIPTION\n",
    "    else:\n",
    "        ln_desc = KEY_LANES_DESCRIPTION_AFTER\n",
    "    \n",
    "    # create mode graphs for other modes\n",
    "    for mode in [MODE_CYCLING, MODE_FOOT]:\n",
    "        print(f'Make street and lane graphs for {mode}')\n",
    "        G_modes[mode] = copy.deepcopy(G)\n",
    "        snman.street_graph.filter_lanes_by_modes(\n",
    "            G_modes[mode], [mode], lane_description_key=ln_desc\n",
    "        )\n",
    "        L_modes[mode] = snman.lane_graph.create_lane_graph(\n",
    "            G_modes[mode], lanes_attribute=ln_desc\n",
    "        )\n"
   ],
   "id": "b0c966b6a63f0c51",
   "outputs": [],
   "execution_count": null
  },
  {
   "metadata": {},
   "cell_type": "code",
   "source": [
    "if REBUILD_INPUTS:\n",
    "    # load the new car street graph created from MATSim output\n",
    "    G_modes[MODE_PRIVATE_CARS] = snman.io.load_street_graph(\n",
    "        os.path.join(outputs_path, f'tt_{STATE}_edges.gpkg'),\n",
    "        os.path.join(outputs_path, f'tt_{STATE}_nodes.gpkg'),\n",
    "        crs=CRS_internal,\n",
    "        unstringify_attributes={'lanes': snman.space_allocation.space_allocation_from_string}\n",
    "    )\n",
    "    \n",
    "    # we must avoid that the start/end point of trips are matched onto nodes that not accessible by car\n",
    "    # therefore, we reduce the graph only to those links and nodes that are accessible by car\n",
    "    snman.street_graph.filter_lanes_by_modes(\n",
    "        G_modes[MODE_PRIVATE_CARS], [MODE_PRIVATE_CARS], lane_description_key='lanes'\n",
    "    )\n",
    "    \n",
    "    L_modes[MODE_PRIVATE_CARS] = snman.lane_graph.create_lane_graph(\n",
    "        G_modes[MODE_PRIVATE_CARS],\n",
    "        lanes_attribute='lanes',\n",
    "        cast_attributes={'matsim_tt_cars_7:00': 'car_7:00', 'matsim_tt_cars': 'car_18:00'}\n",
    "    )\n",
    "    "
   ],
   "id": "7f4aab0cc6d1c95c",
   "outputs": [],
   "execution_count": null
  },
  {
   "metadata": {},
   "cell_type": "code",
   "source": [
    "# Import Statent grid\n",
    "if REBUILD_INPUTS:\n",
    "    statent = gpd.read_parquet(\n",
    "        os.path.join(inputs_path, 'switzerland', 'switzerland', 'statent', 'STATENT_2021_ebc_10_reduced_fields.gzip')\n",
    "    )\n",
    "    statent.rename(columns={'RELI': 'id'}, inplace=True)"
   ],
   "id": "80f0d409fe026173",
   "outputs": [],
   "execution_count": null
  },
  {
   "metadata": {},
   "cell_type": "code",
   "source": [
    "if REBUILD_INPUTS:\n",
    "    # read statpop that has been pre-joined with statent\n",
    "    statpop_with_statent_ids = gpd.read_parquet(\n",
    "        os.path.join(inputs_path, 'switzerland', 'switzerland', 'statpop', 'statpop2017_with_statent_reduced_columns.gzip')\n",
    "    )"
   ],
   "id": "7b4eb9d96a769813",
   "outputs": [],
   "execution_count": null
  },
  {
   "metadata": {},
   "cell_type": "code",
   "source": [
    "perimeter = snman.io.import_geofile_to_gdf(\n",
    "    os.path.join(inputs_path, 'perimeters', 'perimeters.shp'), index='id'\n",
    ").geometry['ebc_zrh_v01'].simplify(500, preserve_topology=True)\n",
    "statent_in_perimeter = statent[statent.within(perimeter)]"
   ],
   "id": "99b9679934fdb22",
   "outputs": [],
   "execution_count": null
  },
  {
   "metadata": {},
   "cell_type": "code",
   "source": [
    "cells = list(statent_in_perimeter['id'].sample(n=N_ORIGIN_CELLS, random_state=0))[SAMPLE_RANGE[0]:SAMPLE_RANGE[1]]\n",
    "\n",
    "def miniwrapper(args):\n",
    "    cell, i, N = args\n",
    "    print(f'calculating cell {cell} ({i}/{N})')\n",
    "    a = snman.accessibility.calculate_accessibility_for_statent_cell(\n",
    "        r5_transit_network,\n",
    "        G_modes,\n",
    "        L_modes,\n",
    "        statpop_with_statent_ids, statent, cell,\n",
    "        datetime.datetime(2024, 2, 22, 18, 00),\n",
    "        distance_limit=50*1000,\n",
    "        population_sample=0.05,\n",
    "        destinations_sample=0.1\n",
    "    )\n",
    "    return a\n",
    "\n",
    "accessibility = pd.concat(\n",
    "    map(\n",
    "        miniwrapper,\n",
    "        zip(\n",
    "            cells,\n",
    "            range(len(cells)),\n",
    "            [len(cells)] * len(cells)\n",
    "        )\n",
    "    ),\n",
    "    ignore_index=True\n",
    ")\n",
    "\n",
    "\n",
    "print('exporting file')\n",
    "snman.io.export_gdf(\n",
    "    accessibility,\n",
    "    os.path.join(outputs_path, f'accessibility_{STATE}.gpkg')\n",
    ")"
   ],
   "id": "3caa2b8db62a8dbd",
   "outputs": [],
   "execution_count": null
  },
  {
   "metadata": {},
   "cell_type": "code",
   "source": "accessibility",
   "id": "29a353ac0ed493cb",
   "outputs": [],
   "execution_count": null
  }
 ],
 "metadata": {
  "kernelspec": {
   "display_name": "Python 3",
   "language": "python",
   "name": "python3"
  },
  "language_info": {
   "codemirror_mode": {
    "name": "ipython",
    "version": 2
   },
   "file_extension": ".py",
   "mimetype": "text/x-python",
   "name": "python",
   "nbconvert_exporter": "python",
   "pygments_lexer": "ipython2",
   "version": "2.7.6"
  }
 },
 "nbformat": 4,
 "nbformat_minor": 5
}
