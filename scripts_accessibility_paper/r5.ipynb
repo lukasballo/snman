{
 "cells": [
  {
   "cell_type": "code",
   "outputs": [
    {
     "name": "stderr",
     "output_type": "stream",
     "text": [
      "C:\\APPS\\Anaconda3\\envs\\ebc39a\\lib\\site-packages\\pandas\\core\\arrays\\masked.py:60: UserWarning: Pandas requires version '1.3.6' or newer of 'bottleneck' (version '1.3.5' currently installed).\n",
      "  from pandas.core import (\n",
      "C:\\Users\\lballo\\AppData\\Roaming\\Python\\Python39\\site-packages\\osmnx\\utils.py:192: UserWarning: The `utils.config` function is deprecated and will be removed in a future release. Instead, use the `settings` module directly to configure a global setting's value. For example, `ox.settings.log_console=True`.\n",
      "  warnings.warn(\n"
     ]
    }
   ],
   "source": [
    "import geopandas\n",
    "import r5py.sampledata.helsinki\n",
    "import shapely\n",
    "import pandas as pd\n",
    "import geopandas as gpd\n",
    "import numpy as np\n",
    "\n",
    "import os\n",
    "import snman\n",
    "from snman import osmnx_customized as oxc\n",
    "from snman.constants import *\n",
    "\n",
    "PERIMETER = '_accessibility_debug'\n",
    "\n",
    "# Set these paths according to your own setup\n",
    "data_directory = os.path.join('C:',os.sep,'Users','lballo','polybox','Research','SNMan','SNMan Shared','data_v2')\n",
    "inputs_path = os.path.join(data_directory, 'inputs')\n",
    "process_path = os.path.join(data_directory, 'process', PERIMETER)\n",
    "outputs_path = os.path.join(data_directory, 'outputs', PERIMETER)\n",
    "\n",
    "CRS_internal = 2056      # for Zurich"
   ],
   "metadata": {
    "collapsed": false,
    "ExecuteTime": {
     "end_time": "2024-06-27T16:30:28.927230Z",
     "start_time": "2024-06-27T16:30:25.423152100Z"
    }
   },
   "id": "da4e7f915094519e",
   "execution_count": 1
  },
  {
   "cell_type": "code",
   "outputs": [
    {
     "name": "stdout",
     "output_type": "stream",
     "text": [
      "Load street graph\n"
     ]
    }
   ],
   "source": [
    "print('Load street graph')\n",
    "G = snman.io.load_street_graph(\n",
    "    os.path.join(process_path, 'street_graph_edges.gpkg'),\n",
    "    os.path.join(process_path, 'street_graph_nodes.gpkg'),\n",
    "    crs=CRS_internal\n",
    ")\n",
    "\n",
    "snman.street_graph.organize_edge_directions(G)"
   ],
   "metadata": {
    "collapsed": false,
    "ExecuteTime": {
     "end_time": "2024-06-27T16:30:29.255073900Z",
     "start_time": "2024-06-27T16:30:28.927230Z"
    }
   },
   "id": "cb970f9545661f8e",
   "execution_count": 2
  },
  {
   "cell_type": "code",
   "outputs": [
    {
     "name": "stdout",
     "output_type": "stream",
     "text": [
      "Load statpop\n"
     ]
    }
   ],
   "source": [
    "print('Load statpop')\n",
    "statpop = snman.io.import_geofile_to_gdf(\n",
    "    os.path.join(inputs_path, 'switzerland', 'switzerland', 'statpop', 'statpop2017_zrh_north-west.gpkg')\n",
    ")"
   ],
   "metadata": {
    "collapsed": false,
    "ExecuteTime": {
     "end_time": "2024-06-27T16:30:36.456403900Z",
     "start_time": "2024-06-27T16:30:29.251940700Z"
    }
   },
   "id": "2a46cd8f6f2cdb3e",
   "execution_count": 3
  },
  {
   "cell_type": "code",
   "outputs": [],
   "source": [
    "nodes = oxc.graph_to_gdfs(G, edges=False)\n",
    "# add an id column for r5\n",
    "nodes['id'] = nodes.index"
   ],
   "metadata": {
    "collapsed": false,
    "ExecuteTime": {
     "end_time": "2024-06-27T16:30:36.473560300Z",
     "start_time": "2024-06-27T16:30:36.454315200Z"
    }
   },
   "id": "5e2c5fb6fe7387fb",
   "execution_count": 4
  },
  {
   "cell_type": "code",
   "outputs": [],
   "source": [
    "import geopandas as gpd\n",
    "\n",
    "statpop = gpd.sjoin_nearest(statpop, nodes, how='left', max_distance=100, rsuffix='right', distance_col='distance')\n",
    "statpop.rename(columns={'id': 'from_id'}, inplace=True)\n",
    "statpop.set_index('record', inplace=True)"
   ],
   "metadata": {
    "collapsed": false,
    "ExecuteTime": {
     "end_time": "2024-06-27T16:30:36.604993300Z",
     "start_time": "2024-06-27T16:30:36.468241Z"
    }
   },
   "id": "315cecfcea021d59",
   "execution_count": 5
  },
  {
   "cell_type": "code",
   "outputs": [],
   "source": [
    "transport_network = r5py.TransportNetwork(\n",
    "    os.path.join(outputs_path, 'after_oneway_links_01.pbf'),\n",
    ")"
   ],
   "metadata": {
    "collapsed": false,
    "ExecuteTime": {
     "end_time": "2024-06-27T16:30:37.139280Z",
     "start_time": "2024-06-27T16:30:36.608139800Z"
    }
   },
   "id": "140b8cf01eab6218",
   "execution_count": 6
  },
  {
   "cell_type": "code",
   "outputs": [],
   "source": [
    "origins = geopandas.GeoDataFrame(\n",
    "    {\n",
    "        \"id\": [\"origin\"],\n",
    "        \"geometry\": [shapely.Point(2682699.0, 1250903.9)]\n",
    "    },\n",
    "    crs=\"EPSG:2056\",\n",
    ")\n",
    "\n",
    "destinations = geopandas.GeoDataFrame(\n",
    "    {\n",
    "        \"id\": [\"destination\"],\n",
    "        \"geometry\": [shapely.Point(2682650.6, 1250981.0)]\n",
    "    },\n",
    "    crs=\"EPSG:2056\",\n",
    ")"
   ],
   "metadata": {
    "collapsed": false,
    "ExecuteTime": {
     "end_time": "2024-06-27T16:30:37.155436900Z",
     "start_time": "2024-06-27T16:30:37.136119800Z"
    }
   },
   "id": "6b2b7a411a5fddb3",
   "execution_count": 7
  },
  {
   "cell_type": "code",
   "outputs": [
    {
     "name": "stderr",
     "output_type": "stream",
     "text": [
      "C:\\Users\\lballo\\AppData\\Roaming\\Python\\Python39\\site-packages\\geopandas\\geoseries.py:645: FutureWarning: the convert_dtype parameter is deprecated and will be removed in a future version.  Do ``ser.astype(object).apply()`` instead if you want ``convert_dtype=False``.\n",
      "  result = super().apply(func, convert_dtype=convert_dtype, args=args, **kwargs)\n",
      "C:\\Users\\lballo\\AppData\\Roaming\\Python\\Python39\\site-packages\\geopandas\\geoseries.py:645: FutureWarning: the convert_dtype parameter is deprecated and will be removed in a future version.  Do ``ser.astype(object).apply()`` instead if you want ``convert_dtype=False``.\n",
      "  result = super().apply(func, convert_dtype=convert_dtype, args=args, **kwargs)\n",
      "C:\\Users\\lballo\\AppData\\Roaming\\Python\\Python39\\site-packages\\geopandas\\geoseries.py:645: FutureWarning: the convert_dtype parameter is deprecated and will be removed in a future version.  Do ``ser.astype(object).apply()`` instead if you want ``convert_dtype=False``.\n",
      "  result = super().apply(func, convert_dtype=convert_dtype, args=args, **kwargs)\n",
      "C:\\Users\\lballo\\AppData\\Roaming\\Python\\Python39\\site-packages\\geopandas\\geoseries.py:645: FutureWarning: the convert_dtype parameter is deprecated and will be removed in a future version.  Do ``ser.astype(object).apply()`` instead if you want ``convert_dtype=False``.\n",
      "  result = super().apply(func, convert_dtype=convert_dtype, args=args, **kwargs)\n"
     ]
    }
   ],
   "source": [
    "import datetime\n",
    "import numpy as np\n",
    "\n",
    "tt_computers = {}\n",
    "tt_computers[MODE_FOOT] = r5py.TravelTimeMatrixComputer(\n",
    "    transport_network,\n",
    "    origins=nodes.to_crs(4326),\n",
    "    destinations=nodes.to_crs(4326),\n",
    "    snap_to_network=True,\n",
    "    departure=datetime.datetime(2022, 2, 22, 8, 30),\n",
    "    transport_modes=[\n",
    "        r5py.TransportMode.WALK\n",
    "    ],\n",
    "    max_bicycle_traffic_stress=4\n",
    ")\n",
    "\n",
    "tt_computers[MODE_CYCLING] = r5py.TravelTimeMatrixComputer(\n",
    "    transport_network,\n",
    "    origins=nodes.to_crs(4326),\n",
    "    destinations=nodes.to_crs(4326),\n",
    "    snap_to_network=True,\n",
    "    departure=datetime.datetime(2022, 2, 22, 8, 30),\n",
    "    transport_modes=[\n",
    "        r5py.TransportMode.BICYCLE\n",
    "    ],\n",
    "    max_bicycle_traffic_stress=4\n",
    ")\n",
    "\n",
    "# travel time matrix calculation: compute travel times, add a mode label\n",
    "def tt_calculation(tt_computer, mode):\n",
    "    tt_matrix = tt_computer.compute_travel_times()\n",
    "    tt_matrix['mode'] = mode\n",
    "    return tt_matrix\n",
    "\n",
    "# calculate a travel time matrix for each mode\n",
    "tt_matrices = {mode: tt_calculation(tt_computer, mode) for mode, tt_computer in tt_computers.items()}\n",
    "\n",
    "# merge all travel time matrices into one\n",
    "tt_matrix = pd.concat(tt_matrices.values())\n",
    "\n",
    "# add base travel time to avoid 0 values\n",
    "tt_matrix['travel_time'] = tt_matrix['travel_time'] + 2"
   ],
   "metadata": {
    "collapsed": false,
    "ExecuteTime": {
     "end_time": "2024-06-27T16:30:38.378290200Z",
     "start_time": "2024-06-27T16:30:37.153016600Z"
    }
   },
   "id": "42d39f458b24da98",
   "execution_count": 8
  },
  {
   "cell_type": "code",
   "outputs": [],
   "source": [
    "import pandas as pd\n",
    "import geopandas as gpd\n",
    "\n",
    "accessibility_costs = pd.merge(statpop.reset_index(), tt_matrix, on='from_id', how='left')\n",
    "accessibility_costs.sort_values(['record', 'to_id', 'mode'], inplace=True)"
   ],
   "metadata": {
    "collapsed": false,
    "ExecuteTime": {
     "end_time": "2024-06-27T16:30:38.707281200Z",
     "start_time": "2024-06-27T16:30:38.378290200Z"
    }
   },
   "id": "edb9723b54b1bad6",
   "execution_count": 9
  },
  {
   "cell_type": "code",
   "outputs": [
    {
     "data": {
      "text/plain": "     record  statyear  yearofbirth  sex  maritalstatus  residencepermit  age  \\\n267    2951      2017         1992    2              1              202   25   \n218    2951      2017         1992    2              1              202   25   \n\n     residentpermit  federalbuildingid                         geometry  ...  \\\n267               2          899849017  POINT (2682791.001 1251184.001)  ...   \n218               2          899849017  POINT (2682791.001 1251184.001)  ...   \n\n                x             y  street_count layers  elevation  from_id  \\\n267  2.682751e+06  1.251226e+06           3.0    {0}  454.48996     12.0   \n218  2.682751e+06  1.251226e+06           3.0    {0}  454.48996     12.0   \n\n     distance  to_id travel_time     mode  \n267  57.74214   12.0         2.0  cycling  \n218  57.74214   12.0         2.0     foot  \n\n[2 rows x 25 columns]",
      "text/html": "<div>\n<style scoped>\n    .dataframe tbody tr th:only-of-type {\n        vertical-align: middle;\n    }\n\n    .dataframe tbody tr th {\n        vertical-align: top;\n    }\n\n    .dataframe thead th {\n        text-align: right;\n    }\n</style>\n<table border=\"1\" class=\"dataframe\">\n  <thead>\n    <tr style=\"text-align: right;\">\n      <th></th>\n      <th>record</th>\n      <th>statyear</th>\n      <th>yearofbirth</th>\n      <th>sex</th>\n      <th>maritalstatus</th>\n      <th>residencepermit</th>\n      <th>age</th>\n      <th>residentpermit</th>\n      <th>federalbuildingid</th>\n      <th>geometry</th>\n      <th>...</th>\n      <th>x</th>\n      <th>y</th>\n      <th>street_count</th>\n      <th>layers</th>\n      <th>elevation</th>\n      <th>from_id</th>\n      <th>distance</th>\n      <th>to_id</th>\n      <th>travel_time</th>\n      <th>mode</th>\n    </tr>\n  </thead>\n  <tbody>\n    <tr>\n      <th>267</th>\n      <td>2951</td>\n      <td>2017</td>\n      <td>1992</td>\n      <td>2</td>\n      <td>1</td>\n      <td>202</td>\n      <td>25</td>\n      <td>2</td>\n      <td>899849017</td>\n      <td>POINT (2682791.001 1251184.001)</td>\n      <td>...</td>\n      <td>2.682751e+06</td>\n      <td>1.251226e+06</td>\n      <td>3.0</td>\n      <td>{0}</td>\n      <td>454.48996</td>\n      <td>12.0</td>\n      <td>57.74214</td>\n      <td>12.0</td>\n      <td>2.0</td>\n      <td>cycling</td>\n    </tr>\n    <tr>\n      <th>218</th>\n      <td>2951</td>\n      <td>2017</td>\n      <td>1992</td>\n      <td>2</td>\n      <td>1</td>\n      <td>202</td>\n      <td>25</td>\n      <td>2</td>\n      <td>899849017</td>\n      <td>POINT (2682791.001 1251184.001)</td>\n      <td>...</td>\n      <td>2.682751e+06</td>\n      <td>1.251226e+06</td>\n      <td>3.0</td>\n      <td>{0}</td>\n      <td>454.48996</td>\n      <td>12.0</td>\n      <td>57.74214</td>\n      <td>12.0</td>\n      <td>2.0</td>\n      <td>foot</td>\n    </tr>\n  </tbody>\n</table>\n<p>2 rows × 25 columns</p>\n</div>"
     },
     "execution_count": 10,
     "metadata": {},
     "output_type": "execute_result"
    }
   ],
   "source": [
    "accessibility_costs.query('record==2951 and to_id==12')"
   ],
   "metadata": {
    "collapsed": false,
    "ExecuteTime": {
     "end_time": "2024-06-27T16:30:38.838838100Z",
     "start_time": "2024-06-27T16:30:38.711265900Z"
    }
   },
   "id": "963931c1e826af02",
   "execution_count": 10
  },
  {
   "cell_type": "code",
   "outputs": [
    {
     "data": {
      "text/plain": "      from_id  to_id  travel_time     mode\n0           0      0            2     foot\n1           0      1           19     foot\n2           0      2           16     foot\n3           0      3           14     foot\n4           0      4           14     foot\n...       ...    ...          ...      ...\n2396       53     48            4  cycling\n2397       53     50            7  cycling\n2398       53     51            4  cycling\n2399       53     52            6  cycling\n2400       53     53            2  cycling\n\n[4802 rows x 4 columns]",
      "text/html": "<div>\n<style scoped>\n    .dataframe tbody tr th:only-of-type {\n        vertical-align: middle;\n    }\n\n    .dataframe tbody tr th {\n        vertical-align: top;\n    }\n\n    .dataframe thead th {\n        text-align: right;\n    }\n</style>\n<table border=\"1\" class=\"dataframe\">\n  <thead>\n    <tr style=\"text-align: right;\">\n      <th></th>\n      <th>from_id</th>\n      <th>to_id</th>\n      <th>travel_time</th>\n      <th>mode</th>\n    </tr>\n  </thead>\n  <tbody>\n    <tr>\n      <th>0</th>\n      <td>0</td>\n      <td>0</td>\n      <td>2</td>\n      <td>foot</td>\n    </tr>\n    <tr>\n      <th>1</th>\n      <td>0</td>\n      <td>1</td>\n      <td>19</td>\n      <td>foot</td>\n    </tr>\n    <tr>\n      <th>2</th>\n      <td>0</td>\n      <td>2</td>\n      <td>16</td>\n      <td>foot</td>\n    </tr>\n    <tr>\n      <th>3</th>\n      <td>0</td>\n      <td>3</td>\n      <td>14</td>\n      <td>foot</td>\n    </tr>\n    <tr>\n      <th>4</th>\n      <td>0</td>\n      <td>4</td>\n      <td>14</td>\n      <td>foot</td>\n    </tr>\n    <tr>\n      <th>...</th>\n      <td>...</td>\n      <td>...</td>\n      <td>...</td>\n      <td>...</td>\n    </tr>\n    <tr>\n      <th>2396</th>\n      <td>53</td>\n      <td>48</td>\n      <td>4</td>\n      <td>cycling</td>\n    </tr>\n    <tr>\n      <th>2397</th>\n      <td>53</td>\n      <td>50</td>\n      <td>7</td>\n      <td>cycling</td>\n    </tr>\n    <tr>\n      <th>2398</th>\n      <td>53</td>\n      <td>51</td>\n      <td>4</td>\n      <td>cycling</td>\n    </tr>\n    <tr>\n      <th>2399</th>\n      <td>53</td>\n      <td>52</td>\n      <td>6</td>\n      <td>cycling</td>\n    </tr>\n    <tr>\n      <th>2400</th>\n      <td>53</td>\n      <td>53</td>\n      <td>2</td>\n      <td>cycling</td>\n    </tr>\n  </tbody>\n</table>\n<p>4802 rows × 4 columns</p>\n</div>"
     },
     "execution_count": 11,
     "metadata": {},
     "output_type": "execute_result"
    }
   ],
   "source": [
    "tt_matrix"
   ],
   "metadata": {
    "collapsed": false,
    "ExecuteTime": {
     "end_time": "2024-06-27T16:30:38.870728900Z",
     "start_time": "2024-06-27T16:30:38.834847800Z"
    }
   },
   "id": "1e6f6d302b9c483",
   "execution_count": 11
  },
  {
   "cell_type": "code",
   "outputs": [],
   "source": [
    "ag = accessibility_costs.groupby(['record', 'to_id']).agg({\n",
    "    'travel_time': list,\n",
    "    'mode': list\n",
    "})"
   ],
   "metadata": {
    "collapsed": false,
    "ExecuteTime": {
     "end_time": "2024-06-27T16:30:47.023312400Z",
     "start_time": "2024-06-27T16:30:38.851791100Z"
    }
   },
   "id": "f90dd116428107c4",
   "execution_count": 12
  },
  {
   "cell_type": "code",
   "outputs": [],
   "source": [
    "ag.reset_index(inplace=True)"
   ],
   "metadata": {
    "collapsed": false,
    "ExecuteTime": {
     "end_time": "2024-06-27T16:30:47.038830100Z",
     "start_time": "2024-06-27T16:30:47.024309500Z"
    }
   },
   "id": "73408e28b2cffa4a",
   "execution_count": 13
  },
  {
   "cell_type": "code",
   "outputs": [
    {
     "data": {
      "text/plain": "    record  to_id   travel_time             mode\n0     2866    0.0   [8.0, 18.0]  [cycling, foot]\n1     2866    1.0    [8.0, 5.0]  [cycling, foot]\n2     2866    2.0    [3.0, 4.0]  [cycling, foot]\n3     2866    3.0    [6.0, 8.0]  [cycling, foot]\n4     2866    4.0  [11.0, 14.0]  [cycling, foot]\n5     2866    5.0   [8.0, 20.0]  [cycling, foot]\n6     2866    6.0   [9.0, 19.0]  [cycling, foot]\n7     2866    7.0   [6.0, 12.0]  [cycling, foot]\n8     2866    8.0   [6.0, 12.0]  [cycling, foot]\n9     2866    9.0   [8.0, 13.0]  [cycling, foot]\n10    2866   10.0   [7.0, 10.0]  [cycling, foot]\n11    2866   11.0   [6.0, 14.0]  [cycling, foot]\n12    2866   12.0   [8.0, 18.0]  [cycling, foot]\n13    2866   13.0   [8.0, 18.0]  [cycling, foot]\n14    2866   14.0   [7.0, 17.0]  [cycling, foot]\n15    2866   15.0    [7.0, 8.0]  [cycling, foot]\n16    2866   17.0    [4.0, 8.0]  [cycling, foot]\n17    2866   18.0    [7.0, 6.0]  [cycling, foot]\n18    2866   19.0    [2.0, 5.0]  [cycling, foot]\n19    2866   20.0   [9.0, 16.0]  [cycling, foot]\n20    2866   21.0    [5.0, 9.0]  [cycling, foot]\n21    2866   22.0  [11.0, 15.0]  [cycling, foot]\n22    2866   23.0    [7.0, 9.0]  [cycling, foot]\n23    2866   24.0    [4.0, 6.0]  [cycling, foot]\n24    2866   25.0   [6.0, 11.0]  [cycling, foot]\n25    2866   26.0    [9.0, 6.0]  [cycling, foot]\n26    2866   27.0   [8.0, 14.0]  [cycling, foot]\n27    2866   28.0   [8.0, 17.0]  [cycling, foot]\n28    2866   29.0   [7.0, 14.0]  [cycling, foot]\n29    2866   30.0   [8.0, 18.0]  [cycling, foot]\n30    2866   31.0   [6.0, 13.0]  [cycling, foot]\n31    2866   32.0   [7.0, 13.0]  [cycling, foot]\n32    2866   33.0   [9.0, 11.0]  [cycling, foot]\n33    2866   37.0  [10.0, 20.0]  [cycling, foot]\n34    2866   38.0  [10.0, 20.0]  [cycling, foot]\n35    2866   39.0    [7.0, 7.0]  [cycling, foot]\n36    2866   40.0   [8.0, 19.0]  [cycling, foot]\n37    2866   41.0   [8.0, 18.0]  [cycling, foot]\n38    2866   42.0   [8.0, 13.0]  [cycling, foot]\n39    2866   43.0  [11.0, 14.0]  [cycling, foot]\n40    2866   44.0   [8.0, 15.0]  [cycling, foot]\n41    2866   45.0   [8.0, 14.0]  [cycling, foot]\n42    2866   46.0   [7.0, 13.0]  [cycling, foot]\n43    2866   47.0   [6.0, 14.0]  [cycling, foot]\n44    2866   48.0   [6.0, 14.0]  [cycling, foot]\n45    2866   50.0    [9.0, 6.0]  [cycling, foot]\n46    2866   51.0    [5.0, 2.0]  [cycling, foot]\n47    2866   52.0    [7.0, 4.0]  [cycling, foot]\n48    2866   53.0    [4.0, 7.0]  [cycling, foot]\n49    2867    0.0   [8.0, 18.0]  [cycling, foot]",
      "text/html": "<div>\n<style scoped>\n    .dataframe tbody tr th:only-of-type {\n        vertical-align: middle;\n    }\n\n    .dataframe tbody tr th {\n        vertical-align: top;\n    }\n\n    .dataframe thead th {\n        text-align: right;\n    }\n</style>\n<table border=\"1\" class=\"dataframe\">\n  <thead>\n    <tr style=\"text-align: right;\">\n      <th></th>\n      <th>record</th>\n      <th>to_id</th>\n      <th>travel_time</th>\n      <th>mode</th>\n    </tr>\n  </thead>\n  <tbody>\n    <tr>\n      <th>0</th>\n      <td>2866</td>\n      <td>0.0</td>\n      <td>[8.0, 18.0]</td>\n      <td>[cycling, foot]</td>\n    </tr>\n    <tr>\n      <th>1</th>\n      <td>2866</td>\n      <td>1.0</td>\n      <td>[8.0, 5.0]</td>\n      <td>[cycling, foot]</td>\n    </tr>\n    <tr>\n      <th>2</th>\n      <td>2866</td>\n      <td>2.0</td>\n      <td>[3.0, 4.0]</td>\n      <td>[cycling, foot]</td>\n    </tr>\n    <tr>\n      <th>3</th>\n      <td>2866</td>\n      <td>3.0</td>\n      <td>[6.0, 8.0]</td>\n      <td>[cycling, foot]</td>\n    </tr>\n    <tr>\n      <th>4</th>\n      <td>2866</td>\n      <td>4.0</td>\n      <td>[11.0, 14.0]</td>\n      <td>[cycling, foot]</td>\n    </tr>\n    <tr>\n      <th>5</th>\n      <td>2866</td>\n      <td>5.0</td>\n      <td>[8.0, 20.0]</td>\n      <td>[cycling, foot]</td>\n    </tr>\n    <tr>\n      <th>6</th>\n      <td>2866</td>\n      <td>6.0</td>\n      <td>[9.0, 19.0]</td>\n      <td>[cycling, foot]</td>\n    </tr>\n    <tr>\n      <th>7</th>\n      <td>2866</td>\n      <td>7.0</td>\n      <td>[6.0, 12.0]</td>\n      <td>[cycling, foot]</td>\n    </tr>\n    <tr>\n      <th>8</th>\n      <td>2866</td>\n      <td>8.0</td>\n      <td>[6.0, 12.0]</td>\n      <td>[cycling, foot]</td>\n    </tr>\n    <tr>\n      <th>9</th>\n      <td>2866</td>\n      <td>9.0</td>\n      <td>[8.0, 13.0]</td>\n      <td>[cycling, foot]</td>\n    </tr>\n    <tr>\n      <th>10</th>\n      <td>2866</td>\n      <td>10.0</td>\n      <td>[7.0, 10.0]</td>\n      <td>[cycling, foot]</td>\n    </tr>\n    <tr>\n      <th>11</th>\n      <td>2866</td>\n      <td>11.0</td>\n      <td>[6.0, 14.0]</td>\n      <td>[cycling, foot]</td>\n    </tr>\n    <tr>\n      <th>12</th>\n      <td>2866</td>\n      <td>12.0</td>\n      <td>[8.0, 18.0]</td>\n      <td>[cycling, foot]</td>\n    </tr>\n    <tr>\n      <th>13</th>\n      <td>2866</td>\n      <td>13.0</td>\n      <td>[8.0, 18.0]</td>\n      <td>[cycling, foot]</td>\n    </tr>\n    <tr>\n      <th>14</th>\n      <td>2866</td>\n      <td>14.0</td>\n      <td>[7.0, 17.0]</td>\n      <td>[cycling, foot]</td>\n    </tr>\n    <tr>\n      <th>15</th>\n      <td>2866</td>\n      <td>15.0</td>\n      <td>[7.0, 8.0]</td>\n      <td>[cycling, foot]</td>\n    </tr>\n    <tr>\n      <th>16</th>\n      <td>2866</td>\n      <td>17.0</td>\n      <td>[4.0, 8.0]</td>\n      <td>[cycling, foot]</td>\n    </tr>\n    <tr>\n      <th>17</th>\n      <td>2866</td>\n      <td>18.0</td>\n      <td>[7.0, 6.0]</td>\n      <td>[cycling, foot]</td>\n    </tr>\n    <tr>\n      <th>18</th>\n      <td>2866</td>\n      <td>19.0</td>\n      <td>[2.0, 5.0]</td>\n      <td>[cycling, foot]</td>\n    </tr>\n    <tr>\n      <th>19</th>\n      <td>2866</td>\n      <td>20.0</td>\n      <td>[9.0, 16.0]</td>\n      <td>[cycling, foot]</td>\n    </tr>\n    <tr>\n      <th>20</th>\n      <td>2866</td>\n      <td>21.0</td>\n      <td>[5.0, 9.0]</td>\n      <td>[cycling, foot]</td>\n    </tr>\n    <tr>\n      <th>21</th>\n      <td>2866</td>\n      <td>22.0</td>\n      <td>[11.0, 15.0]</td>\n      <td>[cycling, foot]</td>\n    </tr>\n    <tr>\n      <th>22</th>\n      <td>2866</td>\n      <td>23.0</td>\n      <td>[7.0, 9.0]</td>\n      <td>[cycling, foot]</td>\n    </tr>\n    <tr>\n      <th>23</th>\n      <td>2866</td>\n      <td>24.0</td>\n      <td>[4.0, 6.0]</td>\n      <td>[cycling, foot]</td>\n    </tr>\n    <tr>\n      <th>24</th>\n      <td>2866</td>\n      <td>25.0</td>\n      <td>[6.0, 11.0]</td>\n      <td>[cycling, foot]</td>\n    </tr>\n    <tr>\n      <th>25</th>\n      <td>2866</td>\n      <td>26.0</td>\n      <td>[9.0, 6.0]</td>\n      <td>[cycling, foot]</td>\n    </tr>\n    <tr>\n      <th>26</th>\n      <td>2866</td>\n      <td>27.0</td>\n      <td>[8.0, 14.0]</td>\n      <td>[cycling, foot]</td>\n    </tr>\n    <tr>\n      <th>27</th>\n      <td>2866</td>\n      <td>28.0</td>\n      <td>[8.0, 17.0]</td>\n      <td>[cycling, foot]</td>\n    </tr>\n    <tr>\n      <th>28</th>\n      <td>2866</td>\n      <td>29.0</td>\n      <td>[7.0, 14.0]</td>\n      <td>[cycling, foot]</td>\n    </tr>\n    <tr>\n      <th>29</th>\n      <td>2866</td>\n      <td>30.0</td>\n      <td>[8.0, 18.0]</td>\n      <td>[cycling, foot]</td>\n    </tr>\n    <tr>\n      <th>30</th>\n      <td>2866</td>\n      <td>31.0</td>\n      <td>[6.0, 13.0]</td>\n      <td>[cycling, foot]</td>\n    </tr>\n    <tr>\n      <th>31</th>\n      <td>2866</td>\n      <td>32.0</td>\n      <td>[7.0, 13.0]</td>\n      <td>[cycling, foot]</td>\n    </tr>\n    <tr>\n      <th>32</th>\n      <td>2866</td>\n      <td>33.0</td>\n      <td>[9.0, 11.0]</td>\n      <td>[cycling, foot]</td>\n    </tr>\n    <tr>\n      <th>33</th>\n      <td>2866</td>\n      <td>37.0</td>\n      <td>[10.0, 20.0]</td>\n      <td>[cycling, foot]</td>\n    </tr>\n    <tr>\n      <th>34</th>\n      <td>2866</td>\n      <td>38.0</td>\n      <td>[10.0, 20.0]</td>\n      <td>[cycling, foot]</td>\n    </tr>\n    <tr>\n      <th>35</th>\n      <td>2866</td>\n      <td>39.0</td>\n      <td>[7.0, 7.0]</td>\n      <td>[cycling, foot]</td>\n    </tr>\n    <tr>\n      <th>36</th>\n      <td>2866</td>\n      <td>40.0</td>\n      <td>[8.0, 19.0]</td>\n      <td>[cycling, foot]</td>\n    </tr>\n    <tr>\n      <th>37</th>\n      <td>2866</td>\n      <td>41.0</td>\n      <td>[8.0, 18.0]</td>\n      <td>[cycling, foot]</td>\n    </tr>\n    <tr>\n      <th>38</th>\n      <td>2866</td>\n      <td>42.0</td>\n      <td>[8.0, 13.0]</td>\n      <td>[cycling, foot]</td>\n    </tr>\n    <tr>\n      <th>39</th>\n      <td>2866</td>\n      <td>43.0</td>\n      <td>[11.0, 14.0]</td>\n      <td>[cycling, foot]</td>\n    </tr>\n    <tr>\n      <th>40</th>\n      <td>2866</td>\n      <td>44.0</td>\n      <td>[8.0, 15.0]</td>\n      <td>[cycling, foot]</td>\n    </tr>\n    <tr>\n      <th>41</th>\n      <td>2866</td>\n      <td>45.0</td>\n      <td>[8.0, 14.0]</td>\n      <td>[cycling, foot]</td>\n    </tr>\n    <tr>\n      <th>42</th>\n      <td>2866</td>\n      <td>46.0</td>\n      <td>[7.0, 13.0]</td>\n      <td>[cycling, foot]</td>\n    </tr>\n    <tr>\n      <th>43</th>\n      <td>2866</td>\n      <td>47.0</td>\n      <td>[6.0, 14.0]</td>\n      <td>[cycling, foot]</td>\n    </tr>\n    <tr>\n      <th>44</th>\n      <td>2866</td>\n      <td>48.0</td>\n      <td>[6.0, 14.0]</td>\n      <td>[cycling, foot]</td>\n    </tr>\n    <tr>\n      <th>45</th>\n      <td>2866</td>\n      <td>50.0</td>\n      <td>[9.0, 6.0]</td>\n      <td>[cycling, foot]</td>\n    </tr>\n    <tr>\n      <th>46</th>\n      <td>2866</td>\n      <td>51.0</td>\n      <td>[5.0, 2.0]</td>\n      <td>[cycling, foot]</td>\n    </tr>\n    <tr>\n      <th>47</th>\n      <td>2866</td>\n      <td>52.0</td>\n      <td>[7.0, 4.0]</td>\n      <td>[cycling, foot]</td>\n    </tr>\n    <tr>\n      <th>48</th>\n      <td>2866</td>\n      <td>53.0</td>\n      <td>[4.0, 7.0]</td>\n      <td>[cycling, foot]</td>\n    </tr>\n    <tr>\n      <th>49</th>\n      <td>2867</td>\n      <td>0.0</td>\n      <td>[8.0, 18.0]</td>\n      <td>[cycling, foot]</td>\n    </tr>\n  </tbody>\n</table>\n</div>"
     },
     "execution_count": 14,
     "metadata": {},
     "output_type": "execute_result"
    }
   ],
   "source": [
    "ag.head(50)"
   ],
   "metadata": {
    "collapsed": false,
    "ExecuteTime": {
     "end_time": "2024-06-27T16:30:47.076698200Z",
     "start_time": "2024-06-27T16:30:47.042950900Z"
    }
   },
   "id": "a25eb17667c65e8f",
   "execution_count": 14
  },
  {
   "cell_type": "code",
   "outputs": [],
   "source": [
    "ag = pd.merge(ag, nodes, left_on='to_id', right_on='id')"
   ],
   "metadata": {
    "collapsed": false,
    "ExecuteTime": {
     "end_time": "2024-06-27T16:30:47.164315600Z",
     "start_time": "2024-06-27T16:30:47.071260400Z"
    }
   },
   "id": "b3a1f61cec163727",
   "execution_count": 15
  },
  {
   "cell_type": "code",
   "outputs": [
    {
     "data": {
      "text/plain": "   record  to_id   travel_time             mode  osmid_original  \\\n0    2866    0.0   [8.0, 18.0]  [cycling, foot]               0   \n1    2866    1.0    [8.0, 5.0]  [cycling, foot]               1   \n2    2866    2.0    [3.0, 4.0]  [cycling, foot]               2   \n3    2866    3.0    [6.0, 8.0]  [cycling, foot]               3   \n4    2866    4.0  [11.0, 14.0]  [cycling, foot]               4   \n\n   traffic_signals                   highway _include_in_simplification  \\\n0                0                      None                          1   \n1                1  {nan, 'traffic_signals'}                          1   \n2                0                      None                          1   \n3                0                     {nan}                          1   \n4                0                     {nan}                          1   \n\n              x             y  street_count layers   elevation  \\\n0  2.682650e+06  1.250982e+06             3    {0}  464.329987   \n1  2.681991e+06  1.251791e+06             3    {0}  456.029846   \n2  2.682359e+06  1.251703e+06             3    {0}  453.315460   \n3  2.682564e+06  1.251651e+06             3    {0}  451.304047   \n4  2.682953e+06  1.251556e+06             4    {0}  449.524719   \n\n                          geometry  id  \n0  POINT (2682650.197 1250981.789)   0  \n1  POINT (2681991.029 1251791.245)   1  \n2  POINT (2682359.421 1251702.734)   2  \n3  POINT (2682563.802 1251651.317)   3  \n4  POINT (2682953.284 1251555.696)   4  ",
      "text/html": "<div>\n<style scoped>\n    .dataframe tbody tr th:only-of-type {\n        vertical-align: middle;\n    }\n\n    .dataframe tbody tr th {\n        vertical-align: top;\n    }\n\n    .dataframe thead th {\n        text-align: right;\n    }\n</style>\n<table border=\"1\" class=\"dataframe\">\n  <thead>\n    <tr style=\"text-align: right;\">\n      <th></th>\n      <th>record</th>\n      <th>to_id</th>\n      <th>travel_time</th>\n      <th>mode</th>\n      <th>osmid_original</th>\n      <th>traffic_signals</th>\n      <th>highway</th>\n      <th>_include_in_simplification</th>\n      <th>x</th>\n      <th>y</th>\n      <th>street_count</th>\n      <th>layers</th>\n      <th>elevation</th>\n      <th>geometry</th>\n      <th>id</th>\n    </tr>\n  </thead>\n  <tbody>\n    <tr>\n      <th>0</th>\n      <td>2866</td>\n      <td>0.0</td>\n      <td>[8.0, 18.0]</td>\n      <td>[cycling, foot]</td>\n      <td>0</td>\n      <td>0</td>\n      <td>None</td>\n      <td>1</td>\n      <td>2.682650e+06</td>\n      <td>1.250982e+06</td>\n      <td>3</td>\n      <td>{0}</td>\n      <td>464.329987</td>\n      <td>POINT (2682650.197 1250981.789)</td>\n      <td>0</td>\n    </tr>\n    <tr>\n      <th>1</th>\n      <td>2866</td>\n      <td>1.0</td>\n      <td>[8.0, 5.0]</td>\n      <td>[cycling, foot]</td>\n      <td>1</td>\n      <td>1</td>\n      <td>{nan, 'traffic_signals'}</td>\n      <td>1</td>\n      <td>2.681991e+06</td>\n      <td>1.251791e+06</td>\n      <td>3</td>\n      <td>{0}</td>\n      <td>456.029846</td>\n      <td>POINT (2681991.029 1251791.245)</td>\n      <td>1</td>\n    </tr>\n    <tr>\n      <th>2</th>\n      <td>2866</td>\n      <td>2.0</td>\n      <td>[3.0, 4.0]</td>\n      <td>[cycling, foot]</td>\n      <td>2</td>\n      <td>0</td>\n      <td>None</td>\n      <td>1</td>\n      <td>2.682359e+06</td>\n      <td>1.251703e+06</td>\n      <td>3</td>\n      <td>{0}</td>\n      <td>453.315460</td>\n      <td>POINT (2682359.421 1251702.734)</td>\n      <td>2</td>\n    </tr>\n    <tr>\n      <th>3</th>\n      <td>2866</td>\n      <td>3.0</td>\n      <td>[6.0, 8.0]</td>\n      <td>[cycling, foot]</td>\n      <td>3</td>\n      <td>0</td>\n      <td>{nan}</td>\n      <td>1</td>\n      <td>2.682564e+06</td>\n      <td>1.251651e+06</td>\n      <td>3</td>\n      <td>{0}</td>\n      <td>451.304047</td>\n      <td>POINT (2682563.802 1251651.317)</td>\n      <td>3</td>\n    </tr>\n    <tr>\n      <th>4</th>\n      <td>2866</td>\n      <td>4.0</td>\n      <td>[11.0, 14.0]</td>\n      <td>[cycling, foot]</td>\n      <td>4</td>\n      <td>0</td>\n      <td>{nan}</td>\n      <td>1</td>\n      <td>2.682953e+06</td>\n      <td>1.251556e+06</td>\n      <td>4</td>\n      <td>{0}</td>\n      <td>449.524719</td>\n      <td>POINT (2682953.284 1251555.696)</td>\n      <td>4</td>\n    </tr>\n  </tbody>\n</table>\n</div>"
     },
     "execution_count": 16,
     "metadata": {},
     "output_type": "execute_result"
    }
   ],
   "source": [
    "ag.head()"
   ],
   "metadata": {
    "collapsed": false,
    "ExecuteTime": {
     "end_time": "2024-06-27T16:30:47.165377200Z",
     "start_time": "2024-06-27T16:30:47.149098600Z"
    }
   },
   "id": "d77eb52f781b0c07",
   "execution_count": 16
  },
  {
   "cell_type": "code",
   "outputs": [],
   "source": [
    "ag['travel_options'] = ag.apply(lambda row: dict(zip(row['mode'], row['travel_time'])), axis=1)"
   ],
   "metadata": {
    "collapsed": false,
    "ExecuteTime": {
     "end_time": "2024-06-27T16:30:50.945857500Z",
     "start_time": "2024-06-27T16:30:47.164315600Z"
    }
   },
   "id": "90485af7f07edd10",
   "execution_count": 17
  },
  {
   "cell_type": "code",
   "outputs": [],
   "source": [
    "def calculate_behavioral_cost(travel_options):\n",
    "    values = list(travel_options.values())\n",
    "    return np.mean(values)\n",
    "\n",
    "ag['behavioral_cost'] = ag['travel_options'].apply(lambda row: calculate_behavioral_cost(row))"
   ],
   "metadata": {
    "collapsed": false,
    "ExecuteTime": {
     "end_time": "2024-06-27T16:30:52.669273300Z",
     "start_time": "2024-06-27T16:30:51.008656500Z"
    }
   },
   "id": "a14442f1e03f1254",
   "execution_count": 18
  },
  {
   "cell_type": "code",
   "outputs": [],
   "source": [
    "ag['accessibility_contribution'] = 1 / ag['behavioral_cost']"
   ],
   "metadata": {
    "collapsed": false,
    "ExecuteTime": {
     "end_time": "2024-06-27T16:30:52.685076700Z",
     "start_time": "2024-06-27T16:30:52.670273Z"
    }
   },
   "id": "8aaa6a5996f2da6b",
   "execution_count": 19
  },
  {
   "cell_type": "code",
   "outputs": [
    {
     "data": {
      "text/plain": "     record  to_id   travel_time             mode  osmid_original  \\\n0      2866    0.0   [8.0, 18.0]  [cycling, foot]               0   \n1      2866    1.0    [8.0, 5.0]  [cycling, foot]               1   \n2      2866    2.0    [3.0, 4.0]  [cycling, foot]               2   \n3      2866    3.0    [6.0, 8.0]  [cycling, foot]               3   \n4      2866    4.0  [11.0, 14.0]  [cycling, foot]               4   \n..      ...    ...           ...              ...             ...   \n145    2951   52.0   [9.0, 19.0]  [cycling, foot]              53   \n146    2951   53.0   [5.0, 13.0]  [cycling, foot]              54   \n147    3057    0.0   [5.0, 11.0]  [cycling, foot]               0   \n148    3057    1.0   [7.0, 10.0]  [cycling, foot]               1   \n149    3057    2.0    [3.0, 7.0]  [cycling, foot]               2   \n\n     traffic_signals                   highway _include_in_simplification  \\\n0                  0                      None                          1   \n1                  1  {nan, 'traffic_signals'}                          1   \n2                  0                      None                          1   \n3                  0                     {nan}                          1   \n4                  0                     {nan}                          1   \n..               ...                       ...                        ...   \n145                0                      None                       None   \n146                0                      None                       None   \n147                0                      None                          1   \n148                1  {nan, 'traffic_signals'}                          1   \n149                0                      None                          1   \n\n                x             y  street_count layers   elevation  \\\n0    2.682650e+06  1.250982e+06             3    {0}  464.329987   \n1    2.681991e+06  1.251791e+06             3    {0}  456.029846   \n2    2.682359e+06  1.251703e+06             3    {0}  453.315460   \n3    2.682564e+06  1.251651e+06             3    {0}  451.304047   \n4    2.682953e+06  1.251556e+06             4    {0}  449.524719   \n..            ...           ...           ...    ...         ...   \n145  2.682049e+06  1.251782e+06             2    {0}  456.623169   \n146  2.682336e+06  1.251556e+06             2    {0}  457.029358   \n147  2.682650e+06  1.250982e+06             3    {0}  464.329987   \n148  2.681991e+06  1.251791e+06             3    {0}  456.029846   \n149  2.682359e+06  1.251703e+06             3    {0}  453.315460   \n\n                            geometry  id                   travel_options  \\\n0    POINT (2682650.197 1250981.789)   0   {'cycling': 8.0, 'foot': 18.0}   \n1    POINT (2681991.029 1251791.245)   1    {'cycling': 8.0, 'foot': 5.0}   \n2    POINT (2682359.421 1251702.734)   2    {'cycling': 3.0, 'foot': 4.0}   \n3    POINT (2682563.802 1251651.317)   3    {'cycling': 6.0, 'foot': 8.0}   \n4    POINT (2682953.284 1251555.696)   4  {'cycling': 11.0, 'foot': 14.0}   \n..                               ...  ..                              ...   \n145  POINT (2682048.696 1251781.828)  52   {'cycling': 9.0, 'foot': 19.0}   \n146  POINT (2682335.607 1251555.789)  53   {'cycling': 5.0, 'foot': 13.0}   \n147  POINT (2682650.197 1250981.789)   0   {'cycling': 5.0, 'foot': 11.0}   \n148  POINT (2681991.029 1251791.245)   1   {'cycling': 7.0, 'foot': 10.0}   \n149  POINT (2682359.421 1251702.734)   2    {'cycling': 3.0, 'foot': 7.0}   \n\n     behavioral_cost  accessibility_contribution  \n0               13.0                    0.076923  \n1                6.5                    0.153846  \n2                3.5                    0.285714  \n3                7.0                    0.142857  \n4               12.5                    0.080000  \n..               ...                         ...  \n145             14.0                    0.071429  \n146              9.0                    0.111111  \n147              8.0                    0.125000  \n148              8.5                    0.117647  \n149              5.0                    0.200000  \n\n[150 rows x 18 columns]",
      "text/html": "<div>\n<style scoped>\n    .dataframe tbody tr th:only-of-type {\n        vertical-align: middle;\n    }\n\n    .dataframe tbody tr th {\n        vertical-align: top;\n    }\n\n    .dataframe thead th {\n        text-align: right;\n    }\n</style>\n<table border=\"1\" class=\"dataframe\">\n  <thead>\n    <tr style=\"text-align: right;\">\n      <th></th>\n      <th>record</th>\n      <th>to_id</th>\n      <th>travel_time</th>\n      <th>mode</th>\n      <th>osmid_original</th>\n      <th>traffic_signals</th>\n      <th>highway</th>\n      <th>_include_in_simplification</th>\n      <th>x</th>\n      <th>y</th>\n      <th>street_count</th>\n      <th>layers</th>\n      <th>elevation</th>\n      <th>geometry</th>\n      <th>id</th>\n      <th>travel_options</th>\n      <th>behavioral_cost</th>\n      <th>accessibility_contribution</th>\n    </tr>\n  </thead>\n  <tbody>\n    <tr>\n      <th>0</th>\n      <td>2866</td>\n      <td>0.0</td>\n      <td>[8.0, 18.0]</td>\n      <td>[cycling, foot]</td>\n      <td>0</td>\n      <td>0</td>\n      <td>None</td>\n      <td>1</td>\n      <td>2.682650e+06</td>\n      <td>1.250982e+06</td>\n      <td>3</td>\n      <td>{0}</td>\n      <td>464.329987</td>\n      <td>POINT (2682650.197 1250981.789)</td>\n      <td>0</td>\n      <td>{'cycling': 8.0, 'foot': 18.0}</td>\n      <td>13.0</td>\n      <td>0.076923</td>\n    </tr>\n    <tr>\n      <th>1</th>\n      <td>2866</td>\n      <td>1.0</td>\n      <td>[8.0, 5.0]</td>\n      <td>[cycling, foot]</td>\n      <td>1</td>\n      <td>1</td>\n      <td>{nan, 'traffic_signals'}</td>\n      <td>1</td>\n      <td>2.681991e+06</td>\n      <td>1.251791e+06</td>\n      <td>3</td>\n      <td>{0}</td>\n      <td>456.029846</td>\n      <td>POINT (2681991.029 1251791.245)</td>\n      <td>1</td>\n      <td>{'cycling': 8.0, 'foot': 5.0}</td>\n      <td>6.5</td>\n      <td>0.153846</td>\n    </tr>\n    <tr>\n      <th>2</th>\n      <td>2866</td>\n      <td>2.0</td>\n      <td>[3.0, 4.0]</td>\n      <td>[cycling, foot]</td>\n      <td>2</td>\n      <td>0</td>\n      <td>None</td>\n      <td>1</td>\n      <td>2.682359e+06</td>\n      <td>1.251703e+06</td>\n      <td>3</td>\n      <td>{0}</td>\n      <td>453.315460</td>\n      <td>POINT (2682359.421 1251702.734)</td>\n      <td>2</td>\n      <td>{'cycling': 3.0, 'foot': 4.0}</td>\n      <td>3.5</td>\n      <td>0.285714</td>\n    </tr>\n    <tr>\n      <th>3</th>\n      <td>2866</td>\n      <td>3.0</td>\n      <td>[6.0, 8.0]</td>\n      <td>[cycling, foot]</td>\n      <td>3</td>\n      <td>0</td>\n      <td>{nan}</td>\n      <td>1</td>\n      <td>2.682564e+06</td>\n      <td>1.251651e+06</td>\n      <td>3</td>\n      <td>{0}</td>\n      <td>451.304047</td>\n      <td>POINT (2682563.802 1251651.317)</td>\n      <td>3</td>\n      <td>{'cycling': 6.0, 'foot': 8.0}</td>\n      <td>7.0</td>\n      <td>0.142857</td>\n    </tr>\n    <tr>\n      <th>4</th>\n      <td>2866</td>\n      <td>4.0</td>\n      <td>[11.0, 14.0]</td>\n      <td>[cycling, foot]</td>\n      <td>4</td>\n      <td>0</td>\n      <td>{nan}</td>\n      <td>1</td>\n      <td>2.682953e+06</td>\n      <td>1.251556e+06</td>\n      <td>4</td>\n      <td>{0}</td>\n      <td>449.524719</td>\n      <td>POINT (2682953.284 1251555.696)</td>\n      <td>4</td>\n      <td>{'cycling': 11.0, 'foot': 14.0}</td>\n      <td>12.5</td>\n      <td>0.080000</td>\n    </tr>\n    <tr>\n      <th>...</th>\n      <td>...</td>\n      <td>...</td>\n      <td>...</td>\n      <td>...</td>\n      <td>...</td>\n      <td>...</td>\n      <td>...</td>\n      <td>...</td>\n      <td>...</td>\n      <td>...</td>\n      <td>...</td>\n      <td>...</td>\n      <td>...</td>\n      <td>...</td>\n      <td>...</td>\n      <td>...</td>\n      <td>...</td>\n      <td>...</td>\n    </tr>\n    <tr>\n      <th>145</th>\n      <td>2951</td>\n      <td>52.0</td>\n      <td>[9.0, 19.0]</td>\n      <td>[cycling, foot]</td>\n      <td>53</td>\n      <td>0</td>\n      <td>None</td>\n      <td>None</td>\n      <td>2.682049e+06</td>\n      <td>1.251782e+06</td>\n      <td>2</td>\n      <td>{0}</td>\n      <td>456.623169</td>\n      <td>POINT (2682048.696 1251781.828)</td>\n      <td>52</td>\n      <td>{'cycling': 9.0, 'foot': 19.0}</td>\n      <td>14.0</td>\n      <td>0.071429</td>\n    </tr>\n    <tr>\n      <th>146</th>\n      <td>2951</td>\n      <td>53.0</td>\n      <td>[5.0, 13.0]</td>\n      <td>[cycling, foot]</td>\n      <td>54</td>\n      <td>0</td>\n      <td>None</td>\n      <td>None</td>\n      <td>2.682336e+06</td>\n      <td>1.251556e+06</td>\n      <td>2</td>\n      <td>{0}</td>\n      <td>457.029358</td>\n      <td>POINT (2682335.607 1251555.789)</td>\n      <td>53</td>\n      <td>{'cycling': 5.0, 'foot': 13.0}</td>\n      <td>9.0</td>\n      <td>0.111111</td>\n    </tr>\n    <tr>\n      <th>147</th>\n      <td>3057</td>\n      <td>0.0</td>\n      <td>[5.0, 11.0]</td>\n      <td>[cycling, foot]</td>\n      <td>0</td>\n      <td>0</td>\n      <td>None</td>\n      <td>1</td>\n      <td>2.682650e+06</td>\n      <td>1.250982e+06</td>\n      <td>3</td>\n      <td>{0}</td>\n      <td>464.329987</td>\n      <td>POINT (2682650.197 1250981.789)</td>\n      <td>0</td>\n      <td>{'cycling': 5.0, 'foot': 11.0}</td>\n      <td>8.0</td>\n      <td>0.125000</td>\n    </tr>\n    <tr>\n      <th>148</th>\n      <td>3057</td>\n      <td>1.0</td>\n      <td>[7.0, 10.0]</td>\n      <td>[cycling, foot]</td>\n      <td>1</td>\n      <td>1</td>\n      <td>{nan, 'traffic_signals'}</td>\n      <td>1</td>\n      <td>2.681991e+06</td>\n      <td>1.251791e+06</td>\n      <td>3</td>\n      <td>{0}</td>\n      <td>456.029846</td>\n      <td>POINT (2681991.029 1251791.245)</td>\n      <td>1</td>\n      <td>{'cycling': 7.0, 'foot': 10.0}</td>\n      <td>8.5</td>\n      <td>0.117647</td>\n    </tr>\n    <tr>\n      <th>149</th>\n      <td>3057</td>\n      <td>2.0</td>\n      <td>[3.0, 7.0]</td>\n      <td>[cycling, foot]</td>\n      <td>2</td>\n      <td>0</td>\n      <td>None</td>\n      <td>1</td>\n      <td>2.682359e+06</td>\n      <td>1.251703e+06</td>\n      <td>3</td>\n      <td>{0}</td>\n      <td>453.315460</td>\n      <td>POINT (2682359.421 1251702.734)</td>\n      <td>2</td>\n      <td>{'cycling': 3.0, 'foot': 7.0}</td>\n      <td>5.0</td>\n      <td>0.200000</td>\n    </tr>\n  </tbody>\n</table>\n<p>150 rows × 18 columns</p>\n</div>"
     },
     "execution_count": 20,
     "metadata": {},
     "output_type": "execute_result"
    }
   ],
   "source": [
    "ag.head(150)"
   ],
   "metadata": {
    "collapsed": false,
    "ExecuteTime": {
     "end_time": "2024-06-27T16:30:52.723518400Z",
     "start_time": "2024-06-27T16:30:52.686074500Z"
    }
   },
   "id": "535b42cf1b089d74",
   "execution_count": 20
  },
  {
   "cell_type": "code",
   "outputs": [],
   "source": [
    "accessibility = ag.groupby('record').agg({\n",
    "    'accessibility_contribution': 'sum'\n",
    "})\n",
    "\n",
    "accessibility.rename(columns={'accessibility_contribution': 'accessibility'}, inplace=True)\n",
    "\n",
    "accessibility = accessibility.join(statpop)\n",
    "accessibility = gpd.GeoDataFrame(accessibility, crs=2056)"
   ],
   "metadata": {
    "collapsed": false,
    "ExecuteTime": {
     "end_time": "2024-06-27T16:30:52.765718100Z",
     "start_time": "2024-06-27T16:30:52.720166700Z"
    }
   },
   "id": "c34d251eefc676ab",
   "execution_count": 21
  },
  {
   "cell_type": "code",
   "outputs": [
    {
     "data": {
      "text/plain": "<Axes: >"
     },
     "execution_count": 22,
     "metadata": {},
     "output_type": "execute_result"
    },
    {
     "data": {
      "text/plain": "<Figure size 640x480 with 1 Axes>",
      "image/png": "[encoded data removed]"
     },
     "metadata": {},
     "output_type": "display_data"
    }
   ],
   "source": [
    "accessibility.plot()"
   ],
   "metadata": {
    "collapsed": false,
    "ExecuteTime": {
     "end_time": "2024-06-27T16:30:53.098074900Z",
     "start_time": "2024-06-27T16:30:52.751079400Z"
    }
   },
   "id": "69919614d2e93c75",
   "execution_count": 22
  },
  {
   "cell_type": "code",
   "outputs": [],
   "source": [
    "accessibility.drop(columns=('layers'), inplace=True)"
   ],
   "metadata": {
    "collapsed": false,
    "ExecuteTime": {
     "end_time": "2024-06-27T16:30:53.141529600Z",
     "start_time": "2024-06-27T16:30:53.094936100Z"
    }
   },
   "id": "7ac475d2f44bef77",
   "execution_count": 23
  },
  {
   "cell_type": "code",
   "outputs": [],
   "source": [
    "snman.io.export_gdf(\n",
    "    accessibility,\n",
    "    os.path.join(outputs_path, 'accessibility.gpkg')\n",
    ")"
   ],
   "metadata": {
    "collapsed": false,
    "ExecuteTime": {
     "end_time": "2024-06-27T16:30:54.200679500Z",
     "start_time": "2024-06-27T16:30:53.110676600Z"
    }
   },
   "id": "e8a39a1e503fb85a",
   "execution_count": 24
  },
  {
   "cell_type": "code",
   "outputs": [],
   "source": [
    "if 0:\n",
    "    for column in ['transport_mode', 'travel_time']:\n",
    "        travel_times[column] = travel_times[column].astype(str)\n",
    "    travel_times.to_file(os.path.join(outputs_path, 'routes.gpkg'))"
   ],
   "metadata": {
    "collapsed": false,
    "ExecuteTime": {
     "end_time": "2024-06-27T16:30:54.222095Z",
     "start_time": "2024-06-27T16:30:54.199598500Z"
    }
   },
   "id": "b8787150d2eb88a2",
   "execution_count": 25
  }
 ],
 "metadata": {
  "kernelspec": {
   "display_name": "Python 3",
   "language": "python",
   "name": "python3"
  },
  "language_info": {
   "codemirror_mode": {
    "name": "ipython",
    "version": 2
   },
   "file_extension": ".py",
   "mimetype": "text/x-python",
   "name": "python",
   "nbconvert_exporter": "python",
   "pygments_lexer": "ipython2",
   "version": "2.7.6"
  }
 },
 "nbformat": 4,
 "nbformat_minor": 5
}
