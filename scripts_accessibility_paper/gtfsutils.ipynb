{
 "cells": [
  {
   "cell_type": "code",
   "execution_count": 1,
   "id": "initial_id",
   "metadata": {
    "collapsed": true,
    "ExecuteTime": {
     "end_time": "2024-07-01T11:36:43.120709800Z",
     "start_time": "2024-07-01T11:36:21.262997800Z"
    }
   },
   "outputs": [
    {
     "name": "stderr",
     "output_type": "stream",
     "text": [
      "C:\\Users\\lballo\\AppData\\Roaming\\Python\\Python39\\site-packages\\pandas\\core\\arrays\\masked.py:60: UserWarning: Pandas requires version '1.3.6' or newer of 'bottleneck' (version '1.3.5' currently installed).\n",
      "  from pandas.core import (\n"
     ]
    }
   ],
   "source": [
    "import gtfsutils\n",
    "import os\n",
    "\n",
    "data_directory = os.path.join('C:',os.sep,'Users','lballo','polybox','Research','SNMan','SNMan Shared','data_v2')\n",
    "inputs_path = os.path.join(data_directory, 'inputs')\n",
    "\n",
    "gtfs = gtfsutils.load_gtfs(\n",
    "    os.path.join(inputs_path, 'switzerland', 'switzerland', 'gtfs', 'gtfs_fp2024_2024-06-27_mod.zip')\n",
    ")"
   ]
  },
  {
   "cell_type": "code",
   "outputs": [
    {
     "name": "stdout",
     "output_type": "stream",
     "text": [
      "\n",
      "GTFS files:\n",
      "  CHANGES.txt                     2 rows\n",
      "  agency.txt                    452 rows\n",
      "  calendar.txt               46,092 rows\n",
      "  calendar_dates.txt      6,372,465 rows\n",
      "  feed_info.txt                   1 rows\n",
      "  routes.txt                  4,873 rows\n",
      "  stop_times.txt         18,576,192 rows\n",
      "  stops.txt                  74,682 rows\n",
      "  transfers.txt              39,733 rows\n",
      "  trips.txt               1,522,076 rows\n",
      "\n",
      "Calender date range:\n",
      "  10.12.2023 - 14.12.2024\n",
      "\n",
      "Bounding box:\n",
      "  [-4.47981747415208, 42.6959417341909, 19.0850675398895, 54.314985926775]\n"
     ]
    }
   ],
   "source": [],
   "metadata": {
    "collapsed": false,
    "ExecuteTime": {
     "end_time": "2024-07-01T11:37:34.839010300Z",
     "start_time": "2024-07-01T11:37:34.829010200Z"
    }
   },
   "id": "401103d9d59c41d6",
   "execution_count": 4
  }
 ],
 "metadata": {
  "kernelspec": {
   "display_name": "Python 3",
   "language": "python",
   "name": "python3"
  },
  "language_info": {
   "codemirror_mode": {
    "name": "ipython",
    "version": 2
   },
   "file_extension": ".py",
   "mimetype": "text/x-python",
   "name": "python",
   "nbconvert_exporter": "python",
   "pygments_lexer": "ipython2",
   "version": "2.7.6"
  }
 },
 "nbformat": 4,
 "nbformat_minor": 5
}
