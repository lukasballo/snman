{
 "cells": [
  {
   "cell_type": "markdown",
   "source": [
    "loads a pre-generated snman network and exports it in osm format for matsim"
   ],
   "metadata": {
    "collapsed": false
   },
   "id": "94e6dd556db7ac5d"
  },
  {
   "cell_type": "code",
   "execution_count": 7,
   "id": "initial_id",
   "metadata": {
    "collapsed": true,
    "ExecuteTime": {
     "end_time": "2024-06-27T09:50:13.867211800Z",
     "start_time": "2024-06-27T09:50:13.851450400Z"
    }
   },
   "outputs": [],
   "source": [
    "import warnings\n",
    "warnings.filterwarnings('ignore')\n",
    "\n",
    "import os\n",
    "\n",
    "import snman\n",
    "from snman.constants import *\n",
    "from snman import osmnx_customized as oxc\n",
    "\n",
    "PERIMETER = '_accessibility_debug'\n",
    "\n",
    "# Set these paths according to your own setup\n",
    "data_directory = os.path.join('C:',os.sep,'Users','lballo','polybox','Research','SNMan','SNMan Shared','data_v2')\n",
    "inputs_path = os.path.join(data_directory, 'inputs')\n",
    "process_path = os.path.join(data_directory, 'process', PERIMETER)\n",
    "outputs_path = os.path.join(data_directory, 'outputs', PERIMETER)\n",
    "\n",
    "#CRS_internal = 29119    # for Boston\n",
    "#CRS_internal = 32216    # for Chicago\n",
    "CRS_internal = 2056      # for Zurich\n",
    "CRS_for_export = 4326\n",
    "oxc.settings.useful_tags_way = OSM_TAGS"
   ]
  },
  {
   "cell_type": "code",
   "outputs": [
    {
     "name": "stdout",
     "output_type": "stream",
     "text": [
      "Load street graph\n"
     ]
    }
   ],
   "source": [
    "print('Load street graph')\n",
    "G = snman.io.load_street_graph(\n",
    "    os.path.join(outputs_path, 'G_edges.gpkg'),\n",
    "    os.path.join(outputs_path, 'G_nodes.gpkg')\n",
    ")"
   ],
   "metadata": {
    "collapsed": false,
    "ExecuteTime": {
     "end_time": "2024-06-27T09:50:14.065944900Z",
     "start_time": "2024-06-27T09:50:13.867211800Z"
    }
   },
   "id": "cfa2aed804555e0f",
   "execution_count": 8
  },
  {
   "cell_type": "code",
   "outputs": [
    {
     "name": "stdout",
     "output_type": "stream",
     "text": [
      "Add elevation\n",
      "                  x             y\n",
      "osmid                            \n",
      "0      2.682650e+06  1.250982e+06\n",
      "1      2.681991e+06  1.251791e+06\n",
      "2      2.682359e+06  1.251703e+06\n",
      "3      2.682564e+06  1.251651e+06\n",
      "4      2.682953e+06  1.251556e+06\n",
      "5      2.682753e+06  1.251031e+06\n",
      "6      2.682881e+06  1.251234e+06\n",
      "7      2.682476e+06  1.251380e+06\n",
      "8      2.682424e+06  1.251320e+06\n",
      "9      2.682749e+06  1.251487e+06\n",
      "10     2.682593e+06  1.251526e+06\n",
      "11     2.682534e+06  1.251350e+06\n",
      "12     2.682751e+06  1.251226e+06\n",
      "13     2.682687e+06  1.251083e+06\n",
      "14     2.682615e+06  1.251034e+06\n",
      "15     2.682618e+06  1.251638e+06\n",
      "17     2.682281e+06  1.251506e+06\n",
      "18     2.682043e+06  1.251745e+06\n",
      "19     2.682348e+06  1.251657e+06\n",
      "20     2.682895e+06  1.251403e+06\n",
      "21     2.682336e+06  1.251437e+06\n",
      "22     2.682990e+06  1.251536e+06\n",
      "23     2.682543e+06  1.251596e+06\n",
      "24     2.682316e+06  1.251566e+06\n",
      "25     2.682448e+06  1.251430e+06\n",
      "26     2.681929e+06  1.251826e+06\n",
      "27     2.682806e+06  1.251437e+06\n",
      "28     2.682745e+06  1.251456e+06\n",
      "29     2.682653e+06  1.251357e+06\n",
      "30     2.682809e+06  1.251260e+06\n",
      "31     2.682513e+06  1.251334e+06\n",
      "32     2.682554e+06  1.251393e+06\n",
      "33     2.682776e+06  1.251598e+06\n",
      "37     2.682699e+06  1.250905e+06\n",
      "38     2.682713e+06  1.250892e+06\n",
      "39     2.682014e+06  1.251720e+06\n",
      "40     2.682610e+06  1.250961e+06\n",
      "41     2.682836e+06  1.251249e+06\n",
      "42     2.682755e+06  1.251462e+06\n",
      "43     2.682959e+06  1.251570e+06\n",
      "44     2.682537e+06  1.251152e+06\n",
      "45     2.682501e+06  1.251205e+06\n",
      "46     2.682462e+06  1.251263e+06\n",
      "47     2.682529e+06  1.251309e+06\n",
      "48     2.682540e+06  1.251292e+06\n",
      "50     2.681960e+06  1.251808e+06\n",
      "51     2.682212e+06  1.251740e+06\n",
      "52     2.682049e+06  1.251782e+06\n",
      "53     2.682336e+06  1.251556e+06\n"
     ]
    }
   ],
   "source": [
    "print('Add elevation')\n",
    "G = oxc.elevation.add_node_elevations_raster(\n",
    "    G,\n",
    "    os.path.join(inputs_path, 'switzerland', 'switzerland', 'ch_dhm_25', 'ch_dhm_2056.tif'),\n",
    "    raster_crs=2056,\n",
    "    #os.path.join(inputs_path, 'copernicus_dem', 'Copernicus_DSM_10_N41_00_W088_00', 'DEM', 'Copernicus_DSM_10_N41_00_W088_00_DEM.tif'),\n",
    "    #raster_crs=4326, #Chicago\n",
    "    graph_crs=CRS_internal,\n",
    "    cpus=1\n",
    ")\n",
    "G = oxc.elevation.add_edge_grades(G, add_absolute=False)"
   ],
   "metadata": {
    "collapsed": false,
    "ExecuteTime": {
     "end_time": "2024-06-27T09:50:14.153315Z",
     "start_time": "2024-06-27T09:50:14.080640600Z"
    }
   },
   "id": "d2240f6dd69f1569",
   "execution_count": 9
  },
  {
   "cell_type": "code",
   "outputs": [
    {
     "name": "stdout",
     "output_type": "stream",
     "text": [
      "Export as OSM before\n"
     ]
    }
   ],
   "source": [
    "print('Export as OSM before')\n",
    "snman.io.export_osm_xml(\n",
    "    G,\n",
    "    os.path.join(outputs_path, 'before_oneway_links.osm'),\n",
    "    EXPORT_OSM_TAGS | {'grade'},\n",
    "    uv_tags=True, as_oneway_links=True, key_lanes_description=KEY_LANES_DESCRIPTION,\n",
    "    modes={MODE_PRIVATE_CARS, MODE_CYCLING}, tag_all_nodes=True\n",
    ")"
   ],
   "metadata": {
    "collapsed": false,
    "ExecuteTime": {
     "end_time": "2024-06-27T09:50:14.255786600Z",
     "start_time": "2024-06-27T09:50:14.146894Z"
    }
   },
   "id": "9cce78e2b59dc5e3",
   "execution_count": 10
  },
  {
   "cell_type": "code",
   "outputs": [
    {
     "name": "stdout",
     "output_type": "stream",
     "text": [
      "Export as OSM after\n"
     ]
    }
   ],
   "source": [
    "print('Export as OSM after')\n",
    "snman.io.export_osm_xml(\n",
    "    G,\n",
    "    os.path.join(outputs_path, 'after_oneway_links.osm'),\n",
    "    EXPORT_OSM_TAGS | {'grade'},\n",
    "    uv_tags=True, as_oneway_links=True, key_lanes_description=KEY_LANES_DESCRIPTION_AFTER,\n",
    "    modes={MODE_PRIVATE_CARS, MODE_CYCLING}, tag_all_nodes=True\n",
    ")"
   ],
   "metadata": {
    "collapsed": false,
    "ExecuteTime": {
     "end_time": "2024-06-27T09:50:14.363075700Z",
     "start_time": "2024-06-27T09:50:14.255786600Z"
    }
   },
   "id": "dabc0af31676fc6a",
   "execution_count": 11
  }
 ],
 "metadata": {
  "kernelspec": {
   "display_name": "Python 3",
   "language": "python",
   "name": "python3"
  },
  "language_info": {
   "codemirror_mode": {
    "name": "ipython",
    "version": 2
   },
   "file_extension": ".py",
   "mimetype": "text/x-python",
   "name": "python",
   "nbconvert_exporter": "python",
   "pygments_lexer": "ipython2",
   "version": "2.7.6"
  }
 },
 "nbformat": 4,
 "nbformat_minor": 5
}
