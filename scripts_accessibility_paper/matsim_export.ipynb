{
 "cells": [
  {
   "cell_type": "markdown",
   "source": [
    "loads a pre-generated snman network and exports it in osm format for matsim"
   ],
   "metadata": {
    "collapsed": false
   },
   "id": "94e6dd556db7ac5d"
  },
  {
   "cell_type": "code",
   "id": "initial_id",
   "metadata": {
    "collapsed": true,
    "ExecuteTime": {
     "end_time": "2024-07-03T15:50:22.442196Z",
     "start_time": "2024-07-03T15:50:19.624961Z"
    }
   },
   "source": [
    "import warnings\n",
    "warnings.filterwarnings('ignore')\n",
    "\n",
    "import os\n",
    "\n",
    "import snman\n",
    "from snman.constants import *\n",
    "from snman import osmnx_customized as oxc\n",
    "\n",
    "PERIMETER = '_accessibility_debug'\n",
    "\n",
    "# Set these paths according to your own setup\n",
    "data_directory = os.path.join('C:',os.sep,'Users','lballo','polybox','Research','SNMan','SNMan Shared','data_v2')\n",
    "inputs_path = os.path.join(data_directory, 'inputs')\n",
    "process_path = os.path.join(data_directory, 'process', PERIMETER)\n",
    "outputs_path = os.path.join(data_directory, 'outputs', PERIMETER)\n",
    "\n",
    "#CRS_internal = 29119    # for Boston\n",
    "#CRS_internal = 32216    # for Chicago\n",
    "CRS_internal = 2056      # for Zurich\n",
    "CRS_for_export = 4326\n",
    "oxc.settings.useful_tags_way = OSM_TAGS"
   ],
   "outputs": [],
   "execution_count": 1
  },
  {
   "cell_type": "code",
   "source": [
    "print('Load street graph')\n",
    "G = snman.io.load_street_graph(\n",
    "    os.path.join(outputs_path, 'G_edges.gzip'),\n",
    "    os.path.join(outputs_path, 'G_nodes.gzip')\n",
    ")"
   ],
   "metadata": {
    "collapsed": false,
    "ExecuteTime": {
     "end_time": "2024-07-03T15:51:03.279216Z",
     "start_time": "2024-07-03T15:50:22.443195Z"
    }
   },
   "id": "cfa2aed804555e0f",
   "outputs": [
    {
     "name": "stdout",
     "output_type": "stream",
     "text": [
      "Load street graph\n"
     ]
    }
   ],
   "execution_count": 2
  },
  {
   "cell_type": "code",
   "source": [
    "print('Add elevation')\n",
    "G = oxc.elevation.add_node_elevations_raster(\n",
    "    G,\n",
    "    os.path.join(inputs_path, 'switzerland', 'switzerland', 'ch_dhm_25', 'ch_dhm_2056.tif'),\n",
    "    raster_crs=2056,\n",
    "    #os.path.join(inputs_path, 'copernicus_dem', 'Copernicus_DSM_10_N41_00_W088_00', 'DEM', 'Copernicus_DSM_10_N41_00_W088_00_DEM.tif'),\n",
    "    #raster_crs=4326, #Chicago\n",
    "    graph_crs=CRS_internal,\n",
    "    cpus=1\n",
    ")\n",
    "G = oxc.elevation.add_edge_grades(G, add_absolute=False)"
   ],
   "metadata": {
    "collapsed": false,
    "ExecuteTime": {
     "end_time": "2024-07-03T15:51:57.995547Z",
     "start_time": "2024-07-03T15:51:53.687836Z"
    }
   },
   "id": "d2240f6dd69f1569",
   "outputs": [
    {
     "name": "stdout",
     "output_type": "stream",
     "text": [
      "Add elevation\n"
     ]
    }
   ],
   "execution_count": 3
  },
  {
   "cell_type": "code",
   "source": [
    "# before, default\n",
    "filename = 'before_oneway_links_default.osm'\n",
    "\n",
    "snman.io.export_osm_xml(\n",
    "    G,\n",
    "    os.path.join(outputs_path, 'before_oneway_links_default.osm'),\n",
    "    EXPORT_OSM_TAGS | {'grade'},\n",
    "    uv_tags=True, as_oneway_links=True, key_lanes_description=KEY_LANES_DESCRIPTION,\n",
    "    modes={MODE_PRIVATE_CARS, MODE_CYCLING}, tag_all_nodes=True\n",
    ")\n",
    "\n",
    "snman.io.osm_to_pbf(os.path.join(outputs_path, filename))"
   ],
   "metadata": {
    "collapsed": false,
    "ExecuteTime": {
     "end_time": "2024-07-03T16:03:13.915808Z",
     "start_time": "2024-07-03T15:53:01.972132Z"
    }
   },
   "id": "9cce78e2b59dc5e3",
   "outputs": [],
   "execution_count": 4
  },
  {
   "metadata": {
    "ExecuteTime": {
     "end_time": "2024-07-03T16:11:15.980683Z",
     "start_time": "2024-07-03T16:03:13.917792Z"
    }
   },
   "cell_type": "code",
   "source": [
    "# before, cycling\n",
    "filename = 'before_oneway_links_cycling.osm'\n",
    "\n",
    "snman.io.export_osm_xml(\n",
    "    G,\n",
    "    os.path.join(outputs_path, filename),\n",
    "    EXPORT_OSM_TAGS | {'grade'},\n",
    "    uv_tags=False, as_oneway_links=True, key_lanes_description=KEY_LANES_DESCRIPTION,\n",
    "    modes={MODE_CYCLING}, tag_all_nodes=False,\n",
    "    overwrite_highway='primary',\n",
    "    set_maxspeed_by_cost='cost_ln_desc_cycling_>',\n",
    "    neutral_speed_kmh=15\n",
    ")\n",
    "\n",
    "snman.io.osm_to_pbf(os.path.join(outputs_path, filename))"
   ],
   "id": "eec2a75e62691aa0",
   "outputs": [],
   "execution_count": 5
  },
  {
   "metadata": {
    "ExecuteTime": {
     "end_time": "2024-07-03T16:20:40.301801Z",
     "start_time": "2024-07-03T16:11:15.982601Z"
    }
   },
   "cell_type": "code",
   "source": [
    "# before, cars\n",
    "filename = 'before_oneway_links_car.osm'\n",
    "\n",
    "snman.io.export_osm_xml(\n",
    "    G,\n",
    "    os.path.join(outputs_path, filename),\n",
    "    EXPORT_OSM_TAGS | {'grade'},\n",
    "    uv_tags=False, as_oneway_links=True, key_lanes_description=KEY_LANES_DESCRIPTION,\n",
    "    modes={MODE_PRIVATE_CARS}, tag_all_nodes=False,\n",
    "    overwrite_highway='primary',\n",
    "    set_maxspeed_by_cost='cost_ln_desc_private_cars_>',\n",
    "    neutral_speed_kmh=40\n",
    ")\n",
    "\n",
    "snman.io.osm_to_pbf(os.path.join(outputs_path, filename))"
   ],
   "id": "dd90751d6d31d0f6",
   "outputs": [],
   "execution_count": 6
  },
  {
   "metadata": {
    "ExecuteTime": {
     "end_time": "2024-07-03T16:34:12.779779Z",
     "start_time": "2024-07-03T16:20:40.304792Z"
    }
   },
   "cell_type": "code",
   "source": [
    "# after, default\n",
    "filename = 'after_oneway_links_default.osm'\n",
    "\n",
    "snman.io.export_osm_xml(\n",
    "    G,\n",
    "    os.path.join(outputs_path, 'before_oneway_links_default.osm'),\n",
    "    EXPORT_OSM_TAGS | {'grade'},\n",
    "    uv_tags=True, as_oneway_links=True, key_lanes_description=KEY_LANES_DESCRIPTION_AFTER,\n",
    "    modes={MODE_PRIVATE_CARS, MODE_CYCLING}, tag_all_nodes=True\n",
    ")\n",
    "\n",
    "snman.io.osm_to_pbf(os.path.join(outputs_path, filename))"
   ],
   "id": "a0c299b421c3203f",
   "outputs": [],
   "execution_count": 7
  },
  {
   "metadata": {
    "ExecuteTime": {
     "end_time": "2024-07-03T16:41:47.556984Z",
     "start_time": "2024-07-03T16:34:12.781773Z"
    }
   },
   "cell_type": "code",
   "source": [
    "# after, cycling\n",
    "filename = 'after_oneway_links_cycling.osm'\n",
    "\n",
    "snman.io.export_osm_xml(\n",
    "    G,\n",
    "    os.path.join(outputs_path, filename),\n",
    "    EXPORT_OSM_TAGS | {'grade'},\n",
    "    uv_tags=False, as_oneway_links=True, key_lanes_description=KEY_LANES_DESCRIPTION_AFTER,\n",
    "    modes={MODE_CYCLING}, tag_all_nodes=False,\n",
    "    overwrite_highway='primary',\n",
    "    set_maxspeed_by_cost='cost_ln_desc_cycling_>',\n",
    "    neutral_speed_kmh=15\n",
    ")\n",
    "\n",
    "snman.io.osm_to_pbf(os.path.join(outputs_path, filename))"
   ],
   "id": "d96c443193e43f89",
   "outputs": [],
   "execution_count": 8
  },
  {
   "metadata": {
    "ExecuteTime": {
     "end_time": "2024-07-03T16:49:17.619822Z",
     "start_time": "2024-07-03T16:41:47.558899Z"
    }
   },
   "cell_type": "code",
   "source": [
    "# after, cars\n",
    "filename = 'after_oneway_links_car.osm'\n",
    "\n",
    "snman.io.export_osm_xml(\n",
    "    G,\n",
    "    os.path.join(outputs_path, filename),\n",
    "    EXPORT_OSM_TAGS | {'grade'},\n",
    "    uv_tags=False, as_oneway_links=True, key_lanes_description=KEY_LANES_DESCRIPTION_AFTER,\n",
    "    modes={MODE_PRIVATE_CARS}, tag_all_nodes=False,\n",
    "    overwrite_highway='primary',\n",
    "    set_maxspeed_by_cost='cost_ln_desc_private_cars_>',\n",
    "    neutral_speed_kmh=40\n",
    ")\n",
    "\n",
    "snman.io.osm_to_pbf(os.path.join(outputs_path, filename))"
   ],
   "id": "54d748f698bfc036",
   "outputs": [],
   "execution_count": 9
  }
 ],
 "metadata": {
  "kernelspec": {
   "display_name": "Python 3",
   "language": "python",
   "name": "python3"
  },
  "language_info": {
   "codemirror_mode": {
    "name": "ipython",
    "version": 2
   },
   "file_extension": ".py",
   "mimetype": "text/x-python",
   "name": "python",
   "nbconvert_exporter": "python",
   "pygments_lexer": "ipython2",
   "version": "2.7.6"
  }
 },
 "nbformat": 4,
 "nbformat_minor": 5
}
