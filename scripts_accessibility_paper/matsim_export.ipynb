{
 "cells": [
  {
   "cell_type": "markdown",
   "source": [
    "loads a pre-generated snman network and exports it in osm format for matsim"
   ],
   "metadata": {
    "collapsed": false
   },
   "id": "94e6dd556db7ac5d"
  },
  {
   "cell_type": "code",
   "execution_count": 6,
   "id": "initial_id",
   "metadata": {
    "collapsed": true,
    "ExecuteTime": {
     "end_time": "2024-06-26T12:58:29.703091500Z",
     "start_time": "2024-06-26T12:58:29.683099Z"
    }
   },
   "outputs": [],
   "source": [
    "import warnings\n",
    "warnings.filterwarnings('ignore')\n",
    "\n",
    "import os\n",
    "\n",
    "import snman\n",
    "from snman.constants import *\n",
    "from snman import osmnx_customized as oxc\n",
    "\n",
    "PERIMETER = '_debug'\n",
    "\n",
    "# Set these paths according to your own setup\n",
    "data_directory = os.path.join('C:',os.sep,'Users','lballo','polybox','Research','SNMan','SNMan Shared','data_v2')\n",
    "inputs_path = os.path.join(data_directory, 'inputs')\n",
    "process_path = os.path.join(data_directory, 'process', PERIMETER)\n",
    "outputs_path = os.path.join(data_directory, 'outputs', PERIMETER)\n",
    "\n",
    "#CRS_internal = 29119    # for Boston\n",
    "#CRS_internal = 32216    # for Chicago\n",
    "CRS_internal = 2056      # for Zurich\n",
    "CRS_for_export = 4326\n",
    "oxc.settings.useful_tags_way = OSM_TAGS"
   ]
  },
  {
   "cell_type": "code",
   "outputs": [
    {
     "name": "stdout",
     "output_type": "stream",
     "text": [
      "Load street graph\n"
     ]
    }
   ],
   "source": [
    "print('Load street graph')\n",
    "G = snman.io.load_street_graph(\n",
    "    os.path.join(outputs_path, 'G_edges.gpkg'),\n",
    "    os.path.join(outputs_path, 'G_nodes.gpkg')\n",
    ")"
   ],
   "metadata": {
    "collapsed": false,
    "ExecuteTime": {
     "end_time": "2024-06-26T13:02:26.516566800Z",
     "start_time": "2024-06-26T12:58:29.707523500Z"
    }
   },
   "id": "cfa2aed804555e0f",
   "execution_count": 7
  },
  {
   "cell_type": "code",
   "outputs": [
    {
     "name": "stdout",
     "output_type": "stream",
     "text": [
      "Add elevation\n",
      "                  x             y\n",
      "osmid                            \n",
      "0      2.680842e+06  1.248448e+06\n",
      "1      2.681100e+06  1.248300e+06\n",
      "2      2.681345e+06  1.248194e+06\n",
      "3      2.681642e+06  1.247439e+06\n",
      "4      2.682338e+06  1.242808e+06\n",
      "...             ...           ...\n",
      "75498  2.681582e+06  1.249052e+06\n",
      "75499  2.681561e+06  1.249018e+06\n",
      "75500  2.681548e+06  1.248996e+06\n",
      "75501  2.681535e+06  1.248971e+06\n",
      "75502  2.677333e+06  1.250090e+06\n",
      "\n",
      "[72656 rows x 2 columns]\n"
     ]
    }
   ],
   "source": [
    "print('Add elevation')\n",
    "G = oxc.elevation.add_node_elevations_raster(\n",
    "    G,\n",
    "    os.path.join(inputs_path, 'switzerland', 'switzerland', 'ch_dhm_25', 'ch_dhm_2056.tif'),\n",
    "    raster_crs=2056,\n",
    "    #os.path.join(inputs_path, 'copernicus_dem', 'Copernicus_DSM_10_N41_00_W088_00', 'DEM', 'Copernicus_DSM_10_N41_00_W088_00_DEM.tif'),\n",
    "    #raster_crs=4326, #Chicago\n",
    "    graph_crs=CRS_internal,\n",
    "    cpus=1\n",
    ")\n",
    "G = oxc.elevation.add_edge_grades(G, add_absolute=False)"
   ],
   "metadata": {
    "collapsed": false,
    "ExecuteTime": {
     "end_time": "2024-06-26T13:02:31.900631700Z",
     "start_time": "2024-06-26T13:02:26.546495200Z"
    }
   },
   "id": "d2240f6dd69f1569",
   "execution_count": 8
  },
  {
   "cell_type": "code",
   "outputs": [
    {
     "name": "stdout",
     "output_type": "stream",
     "text": [
      "Export as OSM before\n"
     ]
    }
   ],
   "source": [
    "print('Export as OSM before')\n",
    "snman.io.export_osm_xml(\n",
    "    G,\n",
    "    os.path.join(outputs_path, 'before_oneway_links.osm'),\n",
    "    EXPORT_OSM_TAGS | {'grade'},\n",
    "    uv_tags=True, as_oneway_links=True, key_lanes_description=KEY_LANES_DESCRIPTION,\n",
    "    modes={MODE_PRIVATE_CARS, MODE_CYCLING}, tag_all_nodes=True\n",
    ")"
   ],
   "metadata": {
    "collapsed": false,
    "ExecuteTime": {
     "end_time": "2024-06-26T13:05:16.328310400Z",
     "start_time": "2024-06-26T13:02:31.902720300Z"
    }
   },
   "id": "9cce78e2b59dc5e3",
   "execution_count": 9
  },
  {
   "cell_type": "code",
   "outputs": [
    {
     "name": "stdout",
     "output_type": "stream",
     "text": [
      "Export as OSM after\n"
     ]
    }
   ],
   "source": [
    "print('Export as OSM after')\n",
    "snman.io.export_osm_xml(\n",
    "    G,\n",
    "    os.path.join(outputs_path, 'after_oneway_links.osm'),\n",
    "    EXPORT_OSM_TAGS | {'grade'},\n",
    "    uv_tags=True, as_oneway_links=True, key_lanes_description=KEY_LANES_DESCRIPTION_AFTER,\n",
    "    modes={MODE_PRIVATE_CARS, MODE_CYCLING}, tag_all_nodes=True\n",
    ")"
   ],
   "metadata": {
    "collapsed": false,
    "ExecuteTime": {
     "end_time": "2024-06-26T13:08:15.652450100Z",
     "start_time": "2024-06-26T13:05:16.332310400Z"
    }
   },
   "id": "dabc0af31676fc6a",
   "execution_count": 10
  }
 ],
 "metadata": {
  "kernelspec": {
   "display_name": "Python 3",
   "language": "python",
   "name": "python3"
  },
  "language_info": {
   "codemirror_mode": {
    "name": "ipython",
    "version": 2
   },
   "file_extension": ".py",
   "mimetype": "text/x-python",
   "name": "python",
   "nbconvert_exporter": "python",
   "pygments_lexer": "ipython2",
   "version": "2.7.6"
  }
 },
 "nbformat": 4,
 "nbformat_minor": 5
}
