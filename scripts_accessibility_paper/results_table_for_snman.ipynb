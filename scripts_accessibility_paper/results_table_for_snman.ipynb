{
 "cells": [
  {
   "metadata": {
    "ExecuteTime": {
     "end_time": "2024-07-04T17:48:10.336191Z",
     "start_time": "2024-07-04T17:48:10.322645Z"
    }
   },
   "cell_type": "code",
   "source": [
    "import geopandas\n",
    "import r5py\n",
    "import shapely as shp\n",
    "import pandas as pd\n",
    "import geopandas as gpd\n",
    "import numpy as np\n",
    "import datetime\n",
    "\n",
    "import os\n",
    "import snman\n",
    "from snman import osmnx_customized as oxc\n",
    "from snman.constants import *\n",
    "\n",
    "PERIMETER = '_accessibility_debug'\n",
    "\n",
    "# Set these paths according to your own setup\n",
    "data_directory = os.path.join('C:',os.sep,'Users','lballo','polybox','Research','SNMan','SNMan Shared','data_v2')\n",
    "inputs_path = os.path.join(data_directory, 'inputs')\n",
    "process_path = os.path.join(data_directory, 'process', PERIMETER)\n",
    "outputs_path = os.path.join(data_directory, 'outputs', PERIMETER)\n",
    "\n",
    "CRS_internal = 2056      # for Zurich"
   ],
   "id": "e9ea07c8d0739445",
   "outputs": [],
   "execution_count": 2
  },
  {
   "metadata": {
    "ExecuteTime": {
     "end_time": "2024-07-04T17:48:10.634463Z",
     "start_time": "2024-07-04T17:48:10.337189Z"
    }
   },
   "cell_type": "code",
   "source": [
    "perimeters = snman.io.import_geofile_to_gdf(\n",
    "    os.path.join(inputs_path, 'perimeters', 'perimeters.shp'),\n",
    "    index='id'\n",
    ")\n",
    "\n",
    "regions = perimeters[\n",
    "    perimeters.index.isin([\n",
    "        'zurich', 'ebc_zrh_v01_ex_zurich'\n",
    "    ])\n",
    "]"
   ],
   "id": "778d6ad645034c09",
   "outputs": [],
   "execution_count": 3
  },
  {
   "metadata": {
    "ExecuteTime": {
     "end_time": "2024-07-04T17:48:10.649537Z",
     "start_time": "2024-07-04T17:48:10.636461Z"
    }
   },
   "cell_type": "code",
   "source": [
    "def calculate_descriptives_for_one_scenario(accessibility, regions):\n",
    "    \n",
    "    # assign to regions\n",
    "    accessibility = gpd.sjoin(\n",
    "        accessibility,\n",
    "        regions,\n",
    "        how='left',\n",
    "        predicate='within'\n",
    "    ).rename(columns={'index_right': 'region'})\n",
    "    \n",
    "    accessibility_by_region = accessibility.groupby('region').agg({\n",
    "        'accessibility': ['mean', 'median', 'std']\n",
    "    })\n",
    "    \n",
    "    # add age groups\n",
    "    accessibility['age_group'] = accessibility.apply(\n",
    "        lambda row: '<=25' if row['age'] <= 25 else '>=65' if row['age'] >= 65 else 'other',\n",
    "        axis=1\n",
    "    )\n",
    "    \n",
    "    accessibility_by_age_group = accessibility.groupby('age_group').agg({\n",
    "        'accessibility': ['mean', 'median', 'std']\n",
    "    })\n",
    "    \n",
    "    return pd.concat([\n",
    "        accessibility_by_region,\n",
    "        accessibility_by_age_group\n",
    "    ])\n",
    "\n"
   ],
   "id": "5ad708662733962c",
   "outputs": [],
   "execution_count": 4
  },
  {
   "metadata": {
    "ExecuteTime": {
     "end_time": "2024-07-04T17:48:11.429728Z",
     "start_time": "2024-07-04T17:48:10.651539Z"
    }
   },
   "cell_type": "code",
   "source": [
    "accessibility_before = snman.io.import_geofile_to_gdf(\n",
    "    os.path.join(outputs_path, 'accessibility.gpkg')\n",
    ")\n",
    "\n",
    "accessibility_after = snman.io.import_geofile_to_gdf(\n",
    "    os.path.join(outputs_path, 'accessibility.gpkg')\n",
    ")\n",
    "\n",
    "results = pd.concat([\n",
    "    calculate_descriptives_for_one_scenario(accessibility_before, regions).add_prefix('before_'),\n",
    "    calculate_descriptives_for_one_scenario(accessibility_after, regions).add_prefix('after_')\n",
    "    ],\n",
    "    axis=1\n",
    ")\n",
    "\n",
    "results"
   ],
   "id": "139037fff164f3bd",
   "outputs": [
    {
     "data": {
      "text/plain": [
       "                      before_accessibility                            \\\n",
       "                               before_mean before_median  before_std   \n",
       "ebc_zrh_v01_ex_zurich          2123.469834   2150.694833  390.297351   \n",
       "zurich                         2932.164499   2938.787765  309.287204   \n",
       "<=25                           2249.503543   2174.529646  531.612767   \n",
       ">=65                           2410.462251   2385.140280  456.719542   \n",
       "other                          2388.439180   2336.102013  525.058409   \n",
       "\n",
       "                      after_accessibility                           \n",
       "                               after_mean after_median   after_std  \n",
       "ebc_zrh_v01_ex_zurich         2123.469834  2150.694833  390.297351  \n",
       "zurich                        2932.164499  2938.787765  309.287204  \n",
       "<=25                          2249.503543  2174.529646  531.612767  \n",
       ">=65                          2410.462251  2385.140280  456.719542  \n",
       "other                         2388.439180  2336.102013  525.058409  "
      ],
      "text/html": [
       "<div>\n",
       "<style scoped>\n",
       "    .dataframe tbody tr th:only-of-type {\n",
       "        vertical-align: middle;\n",
       "    }\n",
       "\n",
       "    .dataframe tbody tr th {\n",
       "        vertical-align: top;\n",
       "    }\n",
       "\n",
       "    .dataframe thead tr th {\n",
       "        text-align: left;\n",
       "    }\n",
       "</style>\n",
       "<table border=\"1\" class=\"dataframe\">\n",
       "  <thead>\n",
       "    <tr>\n",
       "      <th></th>\n",
       "      <th colspan=\"3\" halign=\"left\">before_accessibility</th>\n",
       "      <th colspan=\"3\" halign=\"left\">after_accessibility</th>\n",
       "    </tr>\n",
       "    <tr>\n",
       "      <th></th>\n",
       "      <th>before_mean</th>\n",
       "      <th>before_median</th>\n",
       "      <th>before_std</th>\n",
       "      <th>after_mean</th>\n",
       "      <th>after_median</th>\n",
       "      <th>after_std</th>\n",
       "    </tr>\n",
       "  </thead>\n",
       "  <tbody>\n",
       "    <tr>\n",
       "      <th>ebc_zrh_v01_ex_zurich</th>\n",
       "      <td>2123.469834</td>\n",
       "      <td>2150.694833</td>\n",
       "      <td>390.297351</td>\n",
       "      <td>2123.469834</td>\n",
       "      <td>2150.694833</td>\n",
       "      <td>390.297351</td>\n",
       "    </tr>\n",
       "    <tr>\n",
       "      <th>zurich</th>\n",
       "      <td>2932.164499</td>\n",
       "      <td>2938.787765</td>\n",
       "      <td>309.287204</td>\n",
       "      <td>2932.164499</td>\n",
       "      <td>2938.787765</td>\n",
       "      <td>309.287204</td>\n",
       "    </tr>\n",
       "    <tr>\n",
       "      <th>&lt;=25</th>\n",
       "      <td>2249.503543</td>\n",
       "      <td>2174.529646</td>\n",
       "      <td>531.612767</td>\n",
       "      <td>2249.503543</td>\n",
       "      <td>2174.529646</td>\n",
       "      <td>531.612767</td>\n",
       "    </tr>\n",
       "    <tr>\n",
       "      <th>&gt;=65</th>\n",
       "      <td>2410.462251</td>\n",
       "      <td>2385.140280</td>\n",
       "      <td>456.719542</td>\n",
       "      <td>2410.462251</td>\n",
       "      <td>2385.140280</td>\n",
       "      <td>456.719542</td>\n",
       "    </tr>\n",
       "    <tr>\n",
       "      <th>other</th>\n",
       "      <td>2388.439180</td>\n",
       "      <td>2336.102013</td>\n",
       "      <td>525.058409</td>\n",
       "      <td>2388.439180</td>\n",
       "      <td>2336.102013</td>\n",
       "      <td>525.058409</td>\n",
       "    </tr>\n",
       "  </tbody>\n",
       "</table>\n",
       "</div>"
      ]
     },
     "execution_count": 5,
     "metadata": {},
     "output_type": "execute_result"
    }
   ],
   "execution_count": 5
  }
 ],
 "metadata": {
  "kernelspec": {
   "display_name": "Python 3",
   "language": "python",
   "name": "python3"
  },
  "language_info": {
   "codemirror_mode": {
    "name": "ipython",
    "version": 2
   },
   "file_extension": ".py",
   "mimetype": "text/x-python",
   "name": "python",
   "nbconvert_exporter": "python",
   "pygments_lexer": "ipython2",
   "version": "2.7.6"
  }
 },
 "nbformat": 4,
 "nbformat_minor": 5
}
